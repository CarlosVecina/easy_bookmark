{
 "cells": [
  {
   "cell_type": "code",
   "execution_count": 1,
   "metadata": {},
   "outputs": [
    {
     "name": "stderr",
     "output_type": "stream",
     "text": [
      "c:\\Users\\Carlos\\AppData\\Local\\pypoetry\\Cache\\virtualenvs\\easy-bookmarks-F2L40Ma7-py3.11\\Lib\\site-packages\\pydantic\\_internal\\_fields.py:161: UserWarning: Field \"model_client\" has conflict with protected namespace \"model_\".\n",
      "\n",
      "You may be able to resolve this warning by setting `model_config['protected_namespaces'] = ()`.\n",
      "  warnings.warn(\n",
      "c:\\Users\\Carlos\\AppData\\Local\\pypoetry\\Cache\\virtualenvs\\easy-bookmarks-F2L40Ma7-py3.11\\Lib\\site-packages\\pydantic\\_internal\\_fields.py:161: UserWarning: Field \"model_kwargs\" has conflict with protected namespace \"model_\".\n",
      "\n",
      "You may be able to resolve this warning by setting `model_config['protected_namespaces'] = ()`.\n",
      "  warnings.warn(\n"
     ]
    }
   ],
   "source": [
    "from adalflow import OpenAIClient\n",
    "from easy_bookmarks.digestors.summarizer import SummaryGenerator\n",
    "from dotenv import load_dotenv\n",
    "\n",
    "load_dotenv()\n",
    "\n",
    "smart_summarizer = SummaryGenerator(model_client=OpenAIClient(), model_kwargs={\"model\": \"gpt-4o\", \"temperature\": 0.5})\n"
   ]
  },
  {
   "cell_type": "code",
   "execution_count": 2,
   "metadata": {},
   "outputs": [
    {
     "data": {
      "text/html": [
       "<div><style>\n",
       ".dataframe > thead > tr,\n",
       ".dataframe > tbody > tr {\n",
       "  text-align: right;\n",
       "  white-space: pre-wrap;\n",
       "}\n",
       "</style>\n",
       "<small>shape: (1, 9)</small><table border=\"1\" class=\"dataframe\"><thead><tr><th>author</th><th>author_catchline</th><th>author_member_id</th><th>post_summary</th><th>post_url</th><th>post_activity_id</th><th>parsed_date</th><th>source</th><th>uuid</th></tr><tr><td>str</td><td>str</td><td>i64</td><td>str</td><td>str</td><td>i64</td><td>str</td><td>str</td><td>str</td></tr></thead><tbody><tr><td>&quot;Fred Viole&quot;</td><td>&quot;OVVO Financial Systems | ovvol…</td><td>24191624</td><td>&quot;When people ask, &quot;Why nonparam…</td><td>&quot;https://www.linkedin.com/feed/…</td><td>7238576907531816960</td><td>&quot;2024-09-09&quot;</td><td>&quot;linkedin&quot;</td><td>&quot;eae06dc9-1f42-16bb-cf51-544c36…</td></tr></tbody></table></div>"
      ],
      "text/plain": [
       "shape: (1, 9)\n",
       "┌────────┬────────────┬────────────┬────────────┬───┬───────────┬───────────┬──────────┬───────────┐\n",
       "│ author ┆ author_cat ┆ author_mem ┆ post_summa ┆ … ┆ post_acti ┆ parsed_da ┆ source   ┆ uuid      │\n",
       "│ ---    ┆ chline     ┆ ber_id     ┆ ry         ┆   ┆ vity_id   ┆ te        ┆ ---      ┆ ---       │\n",
       "│ str    ┆ ---        ┆ ---        ┆ ---        ┆   ┆ ---       ┆ ---       ┆ str      ┆ str       │\n",
       "│        ┆ str        ┆ i64        ┆ str        ┆   ┆ i64       ┆ str       ┆          ┆           │\n",
       "╞════════╪════════════╪════════════╪════════════╪═══╪═══════════╪═══════════╪══════════╪═══════════╡\n",
       "│ Fred   ┆ OVVO       ┆ 24191624   ┆ When       ┆ … ┆ 723857690 ┆ 2024-09-0 ┆ linkedin ┆ eae06dc9- │\n",
       "│ Viole  ┆ Financial  ┆            ┆ people     ┆   ┆ 753181696 ┆ 9         ┆          ┆ 1f42-16bb │\n",
       "│        ┆ Systems |  ┆            ┆ ask, \"Why  ┆   ┆ 0         ┆           ┆          ┆ -cf51-544 │\n",
       "│        ┆ ovvol…     ┆            ┆ nonparam…  ┆   ┆           ┆           ┆          ┆ c36…      │\n",
       "└────────┴────────────┴────────────┴────────────┴───┴───────────┴───────────┴──────────┴───────────┘"
      ]
     },
     "execution_count": 2,
     "metadata": {},
     "output_type": "execute_result"
    }
   ],
   "source": [
    "from easy_bookmarks.stores.sqlite_store import SQLiteStore\n",
    "\n",
    "last_n_posts = 50\n",
    "store = SQLiteStore(\"../stores/bookmarks.db\")\n",
    "df_bookmarks = store.get_bookmarks().head(last_n_posts)\n",
    "df_bookmarks.head(1)"
   ]
  },
  {
   "cell_type": "code",
   "execution_count": 3,
   "metadata": {},
   "outputs": [],
   "source": [
    "def format_posts_content(df_bookmarks):\n",
    "    list_posts_content = [f\"New post: {post} \\n\\n\" for post in df_bookmarks[\"post_summary\"].to_numpy()]\n",
    "    long_text = \" \".join(list_posts_content)\n",
    "    return long_text\n",
    "\n",
    "long_text = format_posts_content(df_bookmarks)"
   ]
  },
  {
   "cell_type": "code",
   "execution_count": 4,
   "metadata": {},
   "outputs": [],
   "source": [
    "response_summary = smart_summarizer.summarize(long_text)"
   ]
  },
  {
   "cell_type": "code",
   "execution_count": 5,
   "metadata": {},
   "outputs": [
    {
     "name": "stdout",
     "output_type": "stream",
     "text": [
      "### Summary of Recent Bookmarked Posts\n",
      "\n",
      "#### Nonparametric Statistics and Retrieval-Augmented Generation (RAG) Techniques\n",
      "1. **Why Nonparametrics?**\n",
      "   - Introduction to Nonlinear Nonparametric Statistics (NNS).\n",
      "   - Emphasis on the flexibility and robustness of nonparametric methods.\n",
      "   - [Link to post](https://lnkd.in/dp3dKBh)\n",
      "\n",
      "2. **Late Chunking for Long-Context RAG Applications**\n",
      "   - Introduced by Jina AI.\n",
      "   - Preserves document context by applying chunking later in the embedding process.\n",
      "   - [Read more](https://lnkd.in/eH-vGZ5H)\n",
      "\n",
      "3. **RAGEval for Custom RAG Benchmarking**\n",
      "   - Summarizes domain-specific documents into schemas for evaluation.\n",
      "   - Benchmarks models on completeness, hallucination, and irrelevance.\n",
      "   - [Github link](https://lnkd.in/gzR4n3nv)\n",
      "\n",
      "4. **Improving RAG Pipelines**\n",
      "   - Compare similar data types and use domain-specific embeddings.\n",
      "   - Utilize user feedback and document popularity for better ranking.\n",
      "   - [Link to post](https://lnkd.in/gYCppTzF)\n",
      "\n",
      "#### Innovations and Tools in LLMs and AI\n",
      "5. **Reflection 70B: New Open-Source LLM**\n",
      "   - Trained to outperform GPT-4o with no hallucinations.\n",
      "   - Uses Reflection-Tuning to plan, review, and correct responses.\n",
      "   - [Check out Reflection](https://lnkd.in/eyTWxwh4)\n",
      "\n",
      "6. **Scikit-LLM Integration**\n",
      "   - Integrates language models like ChatGPT into scikit-learn for text analysis.\n",
      "   - Features include zero-shot classification, multi-label classification, and GPT fine-tuning.\n",
      "   - [Link to post](https://lnkd.in/g9ibNP4Y)\n",
      "\n",
      "7. **LakeChain for Serverless Vector Databases**\n",
      "   - An IaC library built with AWS CDK, deploying lambda functions for document processing.\n",
      "   - Modules for PDF conversion, text splitting, embedding, and vector storage.\n",
      "   - [Link to post](https://lnkd.in/d6Qmpw3N)\n",
      "\n",
      "#### Practical Applications and Case Studies\n",
      "8. **LLM Twin Free Course**\n",
      "   - Teaches production LLM systems using best practices.\n",
      "   - Example project: Real-time chess theory chatbot using RAG.\n",
      "   - [Free course link](https://lnkd.in/dzat6PB6)\n",
      "\n",
      "9. **Legal Document Assistant**\n",
      "   - RAG application for managing legal documents.\n",
      "   - Uses PostgreSQL, Elasticsearch, and LLMs for accurate legal insights.\n",
      "   - [Project repository](https://lnkd.in/gD6uTYK9)\n",
      "\n",
      "#### Statistical Methods and AI Misconceptions\n",
      "10. **Wilcoxon Signed-Rank Test**\n",
      "    - Non-parametric test for comparing two related samples.\n",
      "    - Suitable for non-normally distributed data or data with outliers.\n",
      "    - [Learn more](https://lnkd.in/d-UAgcYf)\n",
      "\n",
      "11. **AI Systems and Statistical Patterns**\n",
      "    - Critique of the misconception that AI cannot judge the plausibility of patterns.\n",
      "    - Example of LLMs providing context-aware responses.\n",
      "    - [Link to post](https://lnkd.in/eYNA-XNB)\n",
      "\n",
      "#### Miscellaneous Updates and Tools\n",
      "12. **Docker Builds with UV**\n",
      "    - Reduces Docker build times from 12 minutes to 8 seconds.\n",
      "    - [Link to post](https://lnkd.in/dxbZA7bR)\n",
      "\n",
      "13. **Matryoshka Representation Learning (MRL)**\n",
      "    - Improves embedding model efficiency and performance.\n",
      "    - [Paper link](https://lnkd.in/ey__CHmq)\n",
      "\n",
      "14. **AdalFlow for LLM Task Optimization**\n",
      "    - PyTorch library for building and auto-optimizing LLM task pipelines.\n",
      "    - [GitHub link](https://lnkd.in/g-KN9-dV)\n",
      "\n",
      "15. **Superposition Prompting by Apple**\n",
      "    - Improves RAG accuracy by processing retrieved documents separately.\n",
      "    - [Paper link](https://lnkd.in/g_j67TpY)\n",
      "\n",
      "16. **Fullstack Data Scientist/ML Engineer Reading List**\n",
      "    - Recommended books for mastering ML engineering, design patterns, and data engineering.\n",
      "    - [Link to post](https://lnkd.in/gzgB-dHT)\n",
      "\n",
      "This summary encapsulates the latest advancements, tools, and practical applications in the fields of nonparametric statistics, RAG, LLMs, and AI, providing a comprehensive overview of the user's recent bookmarks.\n"
     ]
    },
    {
     "ename": "",
     "evalue": "",
     "output_type": "error",
     "traceback": [
      "\u001b[1;31mThe Kernel crashed while executing code in the current cell or a previous cell. \n",
      "\u001b[1;31mPlease review the code in the cell(s) to identify a possible cause of the failure. \n",
      "\u001b[1;31mClick <a href='https://aka.ms/vscodeJupyterKernelCrash'>here</a> for more info. \n",
      "\u001b[1;31mView Jupyter <a href='command:jupyter.viewOutput'>log</a> for further details."
     ]
    }
   ],
   "source": [
    "print(response_summary.data)"
   ]
  },
  {
   "cell_type": "code",
   "execution_count": null,
   "metadata": {},
   "outputs": [],
   "source": []
  }
 ],
 "metadata": {
  "kernelspec": {
   "display_name": "easy-bookmarks-F2L40Ma7-py3.11",
   "language": "python",
   "name": "python3"
  },
  "language_info": {
   "codemirror_mode": {
    "name": "ipython",
    "version": 3
   },
   "file_extension": ".py",
   "mimetype": "text/x-python",
   "name": "python",
   "nbconvert_exporter": "python",
   "pygments_lexer": "ipython3",
   "version": "3.11.0"
  }
 },
 "nbformat": 4,
 "nbformat_minor": 2
}
