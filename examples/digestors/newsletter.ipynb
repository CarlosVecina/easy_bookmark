{
 "cells": [
  {
   "cell_type": "code",
   "execution_count": 5,
   "metadata": {},
   "outputs": [],
   "source": [
    "from adalflow import OpenAIClient\n",
    "from easy_bookmarks.digestors.newsletter import NewsletterGenerator\n",
    "from dotenv import load_dotenv\n",
    "\n",
    "load_dotenv()\n",
    "\n",
    "smart_newsletter = NewsletterGenerator(model_client=OpenAIClient(), model_kwargs={\"model\": \"gpt-4o\", \"temperature\": 0.5})\n"
   ]
  },
  {
   "cell_type": "code",
   "execution_count": 2,
   "metadata": {},
   "outputs": [
    {
     "data": {
      "text/html": [
       "<div><style>\n",
       ".dataframe > thead > tr,\n",
       ".dataframe > tbody > tr {\n",
       "  text-align: right;\n",
       "  white-space: pre-wrap;\n",
       "}\n",
       "</style>\n",
       "<small>shape: (1, 9)</small><table border=\"1\" class=\"dataframe\"><thead><tr><th>author</th><th>author_catchline</th><th>author_member_id</th><th>post_summary</th><th>post_url</th><th>post_activity_id</th><th>parsed_date</th><th>source</th><th>uuid</th></tr><tr><td>str</td><td>str</td><td>i64</td><td>str</td><td>str</td><td>i64</td><td>str</td><td>str</td><td>str</td></tr></thead><tbody><tr><td>&quot;Fred Viole&quot;</td><td>&quot;OVVO Financial Systems | ovvol…</td><td>24191624</td><td>&quot;When people ask, &quot;Why nonparam…</td><td>&quot;https://www.linkedin.com/feed/…</td><td>7238576907531816960</td><td>&quot;2024-09-09&quot;</td><td>&quot;linkedin&quot;</td><td>&quot;eae06dc9-1f42-16bb-cf51-544c36…</td></tr></tbody></table></div>"
      ],
      "text/plain": [
       "shape: (1, 9)\n",
       "┌────────┬────────────┬────────────┬────────────┬───┬───────────┬───────────┬──────────┬───────────┐\n",
       "│ author ┆ author_cat ┆ author_mem ┆ post_summa ┆ … ┆ post_acti ┆ parsed_da ┆ source   ┆ uuid      │\n",
       "│ ---    ┆ chline     ┆ ber_id     ┆ ry         ┆   ┆ vity_id   ┆ te        ┆ ---      ┆ ---       │\n",
       "│ str    ┆ ---        ┆ ---        ┆ ---        ┆   ┆ ---       ┆ ---       ┆ str      ┆ str       │\n",
       "│        ┆ str        ┆ i64        ┆ str        ┆   ┆ i64       ┆ str       ┆          ┆           │\n",
       "╞════════╪════════════╪════════════╪════════════╪═══╪═══════════╪═══════════╪══════════╪═══════════╡\n",
       "│ Fred   ┆ OVVO       ┆ 24191624   ┆ When       ┆ … ┆ 723857690 ┆ 2024-09-0 ┆ linkedin ┆ eae06dc9- │\n",
       "│ Viole  ┆ Financial  ┆            ┆ people     ┆   ┆ 753181696 ┆ 9         ┆          ┆ 1f42-16bb │\n",
       "│        ┆ Systems |  ┆            ┆ ask, \"Why  ┆   ┆ 0         ┆           ┆          ┆ -cf51-544 │\n",
       "│        ┆ ovvol…     ┆            ┆ nonparam…  ┆   ┆           ┆           ┆          ┆ c36…      │\n",
       "└────────┴────────────┴────────────┴────────────┴───┴───────────┴───────────┴──────────┴───────────┘"
      ]
     },
     "execution_count": 2,
     "metadata": {},
     "output_type": "execute_result"
    }
   ],
   "source": [
    "from easy_bookmarks.stores.sqlite_store import SQLiteStore\n",
    "\n",
    "last_n_posts = 50\n",
    "store = SQLiteStore(\"../stores/bookmarks.db\")\n",
    "df_bookmarks = store.get_bookmarks().head(last_n_posts)\n",
    "df_bookmarks.head(1)"
   ]
  },
  {
   "cell_type": "code",
   "execution_count": 6,
   "metadata": {},
   "outputs": [],
   "source": [
    "def format_posts_content(df_bookmarks):\n",
    "    list_posts_content = [f\"New post: {post} \\n\\n\" for post in df_bookmarks[\"post_summary\"].to_numpy()]\n",
    "    long_text = \" \".join(list_posts_content)\n",
    "    return long_text\n",
    "\n",
    "long_text = format_posts_content(df_bookmarks)"
   ]
  },
  {
   "cell_type": "code",
   "execution_count": 7,
   "metadata": {},
   "outputs": [],
   "source": [
    "response_newsletter = smart_newsletter.run(long_text)"
   ]
  },
  {
   "cell_type": "code",
   "execution_count": 10,
   "metadata": {},
   "outputs": [
    {
     "name": "stdout",
     "output_type": "stream",
     "text": [
      "# 📧 Your Weekly AI and Machine Learning Newsletter\n",
      "\n",
      "## 🧠 Advanced Machine Learning Techniques\n",
      "\n",
      "### Nonlinear Nonparametric Statistics (NNS)\n",
      "- **New Post**: When people ask, \"Why nonparametrics?\"  \n",
      "  Explore Nonlinear Nonparametric Statistics (NNS) to understand the importance and applications of nonparametric methods in statistics.  \n",
      "  [Read More](https://lnkd.in/dp3dKBh)  \n",
      "  ![Image Source](https://lnkd.in/eNkXFbu5)\n",
      "\n",
      "### The Wilcoxon Signed-Rank Test\n",
      "- **New Post**: The Wilcoxon Signed-Rank Test is a non-parametric statistical test used to compare two related samples or repeated measurements.  \n",
      "  Learn about its advantages, limitations, and important considerations.  \n",
      "  [Learn More](https://lnkd.in/d-UAgcYf)\n",
      "\n",
      "## 📚 Retrieval-Augmented Generation (RAG) and Long-Context Applications\n",
      "\n",
      "### Late Chunking for Long-Context RAG\n",
      "- **New Post**: If you embed an entire document, you'll lose retrieval precision. If you chunk a document, you'll lose contextual information between chunks.  \n",
      "  \"Late chunking\" by Jina AI may be the sweet spot, preserving context across large documents.  \n",
      "  [Read More](https://lnkd.in/eH-vGZ5H)\n",
      "\n",
      "### RAGEval: Custom Benchmarking for RAG Pipelines\n",
      "- **New Post**: Which benchmark should you use to evaluate your RAG pipeline? Most domains need their own benchmark for their unique use case.  \n",
      "  RAGEval automates dataset generation for custom assessment of LLMs' knowledge usage.  \n",
      "  [Explore RAGEval on GitHub](https://lnkd.in/gzR4n3nv)\n",
      "\n",
      "### LinkedIn's RAG System\n",
      "- **New Post**: LinkedIn combines both vector search and reranking in their content search engine for accurate RAG systems.  \n",
      "  [Read the Article](https://lnkd.in/gYCppTzF)\n",
      "\n",
      "### Superposition Prompting by Apple\n",
      "- **New Post**: Apple's new Superposition Prompting method improves RAG accuracy by 43% by processing each retrieved document separately.  \n",
      "  [Read the Paper](https://lnkd.in/g_j67TpY)\n",
      "\n",
      "## 🧩 Large Language Models (LLMs)\n",
      "\n",
      "### Reflection 70B: The World's Top Open-Source Model\n",
      "- **New Post**: Reflection 70B, trained in collaboration with Sahil Chaudhary and Glaive, beats GPT-4o on every benchmark tested.  \n",
      "  [Check Out Reflection](https://lnkd.in/eyTWxwh4)\n",
      "\n",
      "### LangChain vs LakeChain\n",
      "- **New Post**: Have you used LangChain? Discover LakeChain, an IaC library built with AWS CDK, which deploys a series of lambda functions for serverless vector databases.  \n",
      "  [Learn More](https://lnkd.in/d6Qmpw3N)\n",
      "\n",
      "### scikit-llm: Integrating LLMs with Scikit-Learn\n",
      "- **New Post**: Just found out about scikit-llm, allowing integration of language models like ChatGPT into scikit-learn for text analysis tasks.  \n",
      "  [Explore scikit-llm](https://lnkd.in/g9ibNP4Y)\n",
      "\n",
      "### AdalFlow: Auto-Optimizing LLM Tasks\n",
      "- **New Post**: AdalFlow is helping more and more developers build and auto-optimize their LLM tasks.  \n",
      "  [Try AdalFlow](https://lnkd.in/g-KN9-dV)\n",
      "\n",
      "## ⚙️ Practical AI Applications\n",
      "\n",
      "### Legal Document Assistant\n",
      "- **New Post**: A Retrieval-Augmented Generation (RAG) application helping law firms manage and query vast collections of legal documents.  \n",
      "  [Check the Project](https://lnkd.in/gD6uTYK9)\n",
      "\n",
      "### Dynamic User Vectors in Recommender Systems\n",
      "- **New Post**: Represent constantly evolving user preferences with dynamic user vectors for better recommendation quality.  \n",
      "  [Apply for Private Beta](https://lnkd.in/evC-ukid)\n",
      "\n",
      "### Integrating Videos into Recommendation Systems\n",
      "- **New Post**: Learn how to create vector representations for videos, simplifying the process for building recommendation systems.  \n",
      "  [Read More](https://lnkd.in/d-59nZGX)\n",
      "\n",
      "## 🔧 Tools and Libraries\n",
      "\n",
      "### TRL v0.10.1 Release\n",
      "- **New Post**: TRL v0.10.1 introduces Online DPO by Google DeepMind, Liger kernel integration, and more.  \n",
      "  [Read the Release Notes](https://lnkd.in/d9aJP2Zg)\n",
      "\n",
      "### Mem0: A New Memory Layer for LLMs\n",
      "- **New Post**: Mem0 gained 20,000 stars on GitHub in 30 days, crucial for AI systems requiring persistent context.  \n",
      "  [Explore Mem0](https://lnkd.in/d7cabmqt)\n",
      "\n",
      "### Kotaemon: Visualize Your Embeddings\n",
      "- **New Post**: Visualize embeddings, relevance scores, entities, and documents all in one place with Kotaemon.  \n",
      "  [Get Started](https://lnkd.in/gWQAKYhe)\n",
      "\n",
      "## 💡 Insights and Opinions\n",
      "\n",
      "### The Achilles’ Heel of AI Systems\n",
      "- **New Post**: AI systems excel at finding statistical patterns but struggle with judging their plausibility.  \n",
      "  [Read the Opinion Piece](https://lnkd.in/eV97cC9Y)\n",
      "\n",
      "### The Importance of Monotonic Constraints in ML Models\n",
      "- **New Post**: If you use your ML model to answer causal questions, monotonic constraints are a must.  \n",
      "  [Read the Full Story](https://lnkd.in/dajgJzKQ)\n",
      "\n",
      "### Five Evergreen Investment Principles\n",
      "- **New Post**: Learn key investment principles that can guide you in making better financial decisions.  \n",
      "  [Read More](https://lnkd.in/eRBQzVcA)\n",
      "\n",
      "## 🎓 Learning and Development\n",
      "\n",
      "### LLM Twin Free Course\n",
      "- **New Post**: The LLM Twin free course teaches and inspires people to build production LLM systems.  \n",
      "  [Join the Course](https://lnkd.in/dzat6PB6)\n",
      "\n",
      "### Fullstack Data Scientist or ML Engineer\n",
      "- **New Post**: Five books you should read this year to become a Fullstack Data Scientist or ML Engineer.  \n",
      "  [See the Recommendations](https://lnkd.in/gzgB-dHT)\n",
      "\n",
      "### 3-Hour Coding Workshop on LLMs\n",
      "- **New Post**: A 3-hour coding workshop on implementing, training, and using LLMs.  \n",
      "  [Watch the Workshop](https://lnkd.in/gbhr2dYk)\n",
      "\n",
      "## 🚀 Project Highlights\n",
      "\n",
      "### Building a Stock Analysis App\n",
      "- **New Post**: Looking for a weekend project? Build your own stock analysis app with up-to-date data.  \n",
      "  [Read the Article](https://lnkd.in/d7cabmqt)\n",
      "\n",
      "### Firecrawl: Crawl Entire Websites with LLMs\n",
      "- **New Post**: Crawl entire websites with Claude 3.5 or GPT4-o using Firecrawl for LLM-ready markdown or structured data.  \n",
      "  [Learn More](https://lnkd.in/d7cabmqt)\n",
      "\n",
      "---\n",
      "\n",
      "Stay tuned for more updates and insights in the world of AI and machine learning!\n"
     ]
    },
    {
     "ename": "",
     "evalue": "",
     "output_type": "error",
     "traceback": [
      "\u001b[1;31mThe Kernel crashed while executing code in the current cell or a previous cell. \n",
      "\u001b[1;31mPlease review the code in the cell(s) to identify a possible cause of the failure. \n",
      "\u001b[1;31mClick <a href='https://aka.ms/vscodeJupyterKernelCrash'>here</a> for more info. \n",
      "\u001b[1;31mView Jupyter <a href='command:jupyter.viewOutput'>log</a> for further details."
     ]
    }
   ],
   "source": [
    "print(response_newsletter.data)"
   ]
  }
 ],
 "metadata": {
  "kernelspec": {
   "display_name": "easy-bookmarks-F2L40Ma7-py3.11",
   "language": "python",
   "name": "python3"
  },
  "language_info": {
   "codemirror_mode": {
    "name": "ipython",
    "version": 3
   },
   "file_extension": ".py",
   "mimetype": "text/x-python",
   "name": "python",
   "nbconvert_exporter": "python",
   "pygments_lexer": "ipython3",
   "version": "3.11.0"
  }
 },
 "nbformat": 4,
 "nbformat_minor": 2
}
