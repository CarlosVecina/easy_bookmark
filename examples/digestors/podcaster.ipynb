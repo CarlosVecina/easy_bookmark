{
 "cells": [
  {
   "cell_type": "code",
   "execution_count": 1,
   "metadata": {},
   "outputs": [],
   "source": [
    "from adalflow import OpenAIClient\n",
    "from easy_bookmarks.digestors.podcaster import PodcastAgent\n",
    "from dotenv import load_dotenv\n",
    "\n",
    "load_dotenv()\n",
    "\n",
    "podcaster = PodcastAgent(llm_client=OpenAIClient(), llm_kwargs={\"model\": \"gpt-4o\", \"temperature\": 0.5})"
   ]
  },
  {
   "cell_type": "code",
   "execution_count": 2,
   "metadata": {},
   "outputs": [],
   "source": [
    "podcaster._start_elevenlabs_client()\n",
    "voices = podcaster._tts_client.voices.get_all()"
   ]
  },
  {
   "cell_type": "code",
   "execution_count": 3,
   "metadata": {},
   "outputs": [
    {
     "name": "stdout",
     "output_type": "stream",
     "text": [
      "voices=[Voice(voice_id='EXAVITQu4vr4xnSDxMaL', name='Sarah', samples=None, category='premade', fine_tuning=FineTuningResponse(is_allowed_to_fine_tune=True, state={}, verification_failures=[], verification_attempts_count=0, manual_verification_requested=False, language='en', progress={}, message={}, dataset_duration_seconds=None, verification_attempts=None, slice_ids=None, manual_verification=None, finetuning_state=None), labels={'accent': 'american', 'description': 'soft', 'age': 'young', 'gender': 'female', 'use_case': 'news'}, description=None, preview_url='https://storage.googleapis.com/eleven-public-prod/premade/voices/EXAVITQu4vr4xnSDxMaL/01a3e33c-6e99-4ee7-8543-ff2216a32186.mp3', available_for_tiers=[], settings=None, sharing=None, high_quality_base_model_ids=['eleven_turbo_v2', 'eleven_multilingual_v2', 'eleven_turbo_v2_5'], safety_control=None, voice_verification=VoiceVerificationResponse(requires_verification=False, is_verified=False, verification_failures=[], verification_attempts_count=0, language=None, verification_attempts=None), owner_id=None, permission_on_resource=None, is_legacy=False, is_mixed=False), Voice(voice_id='FGY2WhTYpPnrIDTdsKH5', name='Laura', samples=None, category='premade', fine_tuning=FineTuningResponse(is_allowed_to_fine_tune=True, state={'eleven_multilingual_v2': 'fine_tuned', 'eleven_turbo_v2_5': 'fine_tuned', 'eleven_turbo_v2': 'fine_tuned'}, verification_failures=[], verification_attempts_count=0, manual_verification_requested=False, language='en', progress={}, message={'eleven_multilingual_v2': '', 'eleven_turbo_v2_5': '', 'eleven_turbo_v2': ''}, dataset_duration_seconds=None, verification_attempts=None, slice_ids=None, manual_verification=None, finetuning_state=None), labels={'accent': 'American', 'description': 'upbeat', 'age': 'young', 'gender': 'female', 'use_case': 'social media'}, description=None, preview_url='https://storage.googleapis.com/eleven-public-prod/premade/voices/FGY2WhTYpPnrIDTdsKH5/67341759-ad08-41a5-be6e-de12fe448618.mp3', available_for_tiers=[], settings=None, sharing=None, high_quality_base_model_ids=['eleven_turbo_v2', 'eleven_multilingual_v2', 'eleven_turbo_v2_5'], safety_control=None, voice_verification=VoiceVerificationResponse(requires_verification=False, is_verified=False, verification_failures=[], verification_attempts_count=0, language=None, verification_attempts=None), owner_id=None, permission_on_resource=None, is_legacy=False, is_mixed=False), Voice(voice_id='IKne3meq5aSn9XLyUdCD', name='Charlie', samples=None, category='premade', fine_tuning=FineTuningResponse(is_allowed_to_fine_tune=True, state={'eleven_turbo_v2': 'fine_tuned'}, verification_failures=[], verification_attempts_count=0, manual_verification_requested=False, language='en', progress={}, message={'eleven_turbo_v2': ''}, dataset_duration_seconds=None, verification_attempts=None, slice_ids=None, manual_verification=None, finetuning_state=None), labels={'accent': 'Australian', 'description': 'natural', 'age': 'middle aged', 'gender': 'male', 'use_case': 'conversational'}, description=None, preview_url='https://storage.googleapis.com/eleven-public-prod/premade/voices/IKne3meq5aSn9XLyUdCD/102de6f2-22ed-43e0-a1f1-111fa75c5481.mp3', available_for_tiers=[], settings=None, sharing=None, high_quality_base_model_ids=['eleven_multilingual_v1', 'eleven_turbo_v2', 'eleven_multilingual_v2', 'eleven_turbo_v2_5'], safety_control=None, voice_verification=VoiceVerificationResponse(requires_verification=False, is_verified=False, verification_failures=[], verification_attempts_count=0, language=None, verification_attempts=None), owner_id=None, permission_on_resource=None, is_legacy=False, is_mixed=False), Voice(voice_id='JBFqnCBsd6RMkjVDRZzb', name='George', samples=None, category='premade', fine_tuning=FineTuningResponse(is_allowed_to_fine_tune=True, state={'eleven_turbo_v2': 'fine_tuned'}, verification_failures=[], verification_attempts_count=0, manual_verification_requested=False, language='en', progress={}, message={'eleven_turbo_v2': ''}, dataset_duration_seconds=None, verification_attempts=None, slice_ids=None, manual_verification=None, finetuning_state=None), labels={'accent': 'British', 'description': 'warm', 'age': 'middle aged', 'gender': 'male', 'use_case': 'narration'}, description=None, preview_url='https://storage.googleapis.com/eleven-public-prod/premade/voices/JBFqnCBsd6RMkjVDRZzb/e6206d1a-0721-4787-aafb-06a6e705cac5.mp3', available_for_tiers=[], settings=None, sharing=None, high_quality_base_model_ids=['eleven_turbo_v2', 'eleven_multilingual_v2', 'eleven_turbo_v2_5'], safety_control=None, voice_verification=VoiceVerificationResponse(requires_verification=False, is_verified=False, verification_failures=[], verification_attempts_count=0, language=None, verification_attempts=None), owner_id=None, permission_on_resource=None, is_legacy=False, is_mixed=False), Voice(voice_id='N2lVS1w4EtoT3dr4eOWO', name='Callum', samples=None, category='premade', fine_tuning=FineTuningResponse(is_allowed_to_fine_tune=True, state={'eleven_turbo_v2': 'fine_tuned'}, verification_failures=[], verification_attempts_count=0, manual_verification_requested=False, language='en', progress={}, message={'eleven_turbo_v2': ''}, dataset_duration_seconds=None, verification_attempts=None, slice_ids=None, manual_verification=None, finetuning_state=None), labels={'accent': 'Transatlantic', 'description': 'intense', 'age': 'middle-aged', 'gender': 'male', 'use_case': 'characters'}, description=None, preview_url='https://storage.googleapis.com/eleven-public-prod/premade/voices/N2lVS1w4EtoT3dr4eOWO/ac833bd8-ffda-4938-9ebc-b0f99ca25481.mp3', available_for_tiers=[], settings=None, sharing=None, high_quality_base_model_ids=['eleven_multilingual_v1', 'eleven_turbo_v2', 'eleven_multilingual_v2', 'eleven_turbo_v2_5'], safety_control=None, voice_verification=VoiceVerificationResponse(requires_verification=False, is_verified=False, verification_failures=[], verification_attempts_count=0, language=None, verification_attempts=None), owner_id=None, permission_on_resource=None, is_legacy=False, is_mixed=False), Voice(voice_id='TX3LPaxmHKxFdv7VOQHJ', name='Liam', samples=None, category='premade', fine_tuning=FineTuningResponse(is_allowed_to_fine_tune=True, state={'eleven_turbo_v2': 'fine_tuned'}, verification_failures=[], verification_attempts_count=0, manual_verification_requested=False, language='en', progress={}, message={'eleven_turbo_v2': ''}, dataset_duration_seconds=None, verification_attempts=None, slice_ids=None, manual_verification=None, finetuning_state=None), labels={'accent': 'American', 'description': 'articulate', 'age': 'young', 'gender': 'male', 'use_case': 'narration'}, description=None, preview_url='https://storage.googleapis.com/eleven-public-prod/premade/voices/TX3LPaxmHKxFdv7VOQHJ/63148076-6363-42db-aea8-31424308b92c.mp3', available_for_tiers=[], settings=None, sharing=None, high_quality_base_model_ids=['eleven_multilingual_v1', 'eleven_turbo_v2', 'eleven_multilingual_v2', 'eleven_turbo_v2_5'], safety_control=None, voice_verification=VoiceVerificationResponse(requires_verification=False, is_verified=False, verification_failures=[], verification_attempts_count=0, language=None, verification_attempts=None), owner_id=None, permission_on_resource=None, is_legacy=False, is_mixed=False), Voice(voice_id='XB0fDUnXU5powFXDhCwa', name='Charlotte', samples=None, category='premade', fine_tuning=FineTuningResponse(is_allowed_to_fine_tune=True, state={'eleven_turbo_v2': 'fine_tuned'}, verification_failures=[], verification_attempts_count=0, manual_verification_requested=False, language='en', progress={}, message={'eleven_multilingual_v2': '', 'eleven_turbo_v2_5': '', 'eleven_turbo_v2': ''}, dataset_duration_seconds=None, verification_attempts=None, slice_ids=None, manual_verification=None, finetuning_state=None), labels={'accent': 'Swedish', 'description': 'seductive', 'age': 'young', 'gender': 'female', 'use_case': 'characters'}, description=None, preview_url='https://storage.googleapis.com/eleven-public-prod/premade/voices/XB0fDUnXU5powFXDhCwa/942356dc-f10d-4d89-bda5-4f8505ee038b.mp3', available_for_tiers=[], settings=None, sharing=None, high_quality_base_model_ids=['eleven_multilingual_v1', 'eleven_turbo_v2', 'eleven_multilingual_v2', 'eleven_turbo_v2_5'], safety_control=None, voice_verification=VoiceVerificationResponse(requires_verification=False, is_verified=False, verification_failures=[], verification_attempts_count=0, language=None, verification_attempts=None), owner_id=None, permission_on_resource=None, is_legacy=False, is_mixed=False), Voice(voice_id='Xb7hH8MSUJpSbSDYk0k2', name='Alice', samples=None, category='premade', fine_tuning=FineTuningResponse(is_allowed_to_fine_tune=True, state={'eleven_turbo_v2': 'fine_tuned'}, verification_failures=[], verification_attempts_count=0, manual_verification_requested=False, language='en', progress={}, message={'eleven_turbo_v2': ''}, dataset_duration_seconds=None, verification_attempts=None, slice_ids=None, manual_verification=None, finetuning_state=None), labels={'accent': 'British', 'description': 'confident', 'age': 'middle-aged', 'gender': 'female', 'use_case': 'news'}, description=None, preview_url='https://storage.googleapis.com/eleven-public-prod/premade/voices/Xb7hH8MSUJpSbSDYk0k2/d10f7534-11f6-41fe-a012-2de1e482d336.mp3', available_for_tiers=[], settings=None, sharing=None, high_quality_base_model_ids=['eleven_turbo_v2', 'eleven_multilingual_v2', 'eleven_turbo_v2_5'], safety_control=None, voice_verification=VoiceVerificationResponse(requires_verification=False, is_verified=False, verification_failures=[], verification_attempts_count=0, language=None, verification_attempts=None), owner_id=None, permission_on_resource=None, is_legacy=False, is_mixed=False), Voice(voice_id='XrExE9yKIg1WjnnlVkGX', name='Matilda', samples=None, category='premade', fine_tuning=FineTuningResponse(is_allowed_to_fine_tune=True, state={'eleven_turbo_v2': 'fine_tuned'}, verification_failures=[], verification_attempts_count=0, manual_verification_requested=False, language='en', progress={}, message={'eleven_turbo_v2': ''}, dataset_duration_seconds=None, verification_attempts=None, slice_ids=None, manual_verification=None, finetuning_state=None), labels={'accent': 'American', 'description': 'friendly', 'age': 'middle-aged', 'gender': 'female', 'use_case': 'narration'}, description=None, preview_url='https://storage.googleapis.com/eleven-public-prod/premade/voices/XrExE9yKIg1WjnnlVkGX/b930e18d-6b4d-466e-bab2-0ae97c6d8535.mp3', available_for_tiers=[], settings=None, sharing=None, high_quality_base_model_ids=['eleven_multilingual_v1', 'eleven_turbo_v2', 'eleven_multilingual_v2', 'eleven_turbo_v2_5'], safety_control=None, voice_verification=VoiceVerificationResponse(requires_verification=False, is_verified=False, verification_failures=[], verification_attempts_count=0, language=None, verification_attempts=None), owner_id=None, permission_on_resource=None, is_legacy=False, is_mixed=False), Voice(voice_id='bIHbv24MWmeRgasZH58o', name='Will', samples=None, category='premade', fine_tuning=FineTuningResponse(is_allowed_to_fine_tune=True, state={'eleven_multilingual_v2': 'fine_tuned', 'eleven_turbo_v2_5': 'fine_tuned', 'eleven_turbo_v2': 'fine_tuned'}, verification_failures=[], verification_attempts_count=0, manual_verification_requested=False, language='en', progress={}, message={'eleven_multilingual_v2': '', 'eleven_turbo_v2_5': '', 'eleven_turbo_v2': ''}, dataset_duration_seconds=None, verification_attempts=None, slice_ids=None, manual_verification=None, finetuning_state=None), labels={'accent': 'American', 'description': 'friendly', 'age': 'young', 'gender': 'male', 'use_case': 'social media'}, description=None, preview_url='https://storage.googleapis.com/eleven-public-prod/premade/voices/bIHbv24MWmeRgasZH58o/8caf8f3d-ad29-4980-af41-53f20c72d7a4.mp3', available_for_tiers=[], settings=None, sharing=None, high_quality_base_model_ids=['eleven_turbo_v2', 'eleven_multilingual_v2', 'eleven_turbo_v2_5'], safety_control=None, voice_verification=VoiceVerificationResponse(requires_verification=False, is_verified=False, verification_failures=[], verification_attempts_count=0, language=None, verification_attempts=None), owner_id=None, permission_on_resource=None, is_legacy=False, is_mixed=False), Voice(voice_id='cgSgspJ2msm6clMCkdW9', name='Jessica', samples=None, category='premade', fine_tuning=FineTuningResponse(is_allowed_to_fine_tune=True, state={'eleven_multilingual_v2': 'fine_tuned', 'eleven_turbo_v2_5': 'fine_tuned', 'eleven_turbo_v2': 'fine_tuned'}, verification_failures=[], verification_attempts_count=0, manual_verification_requested=False, language='en', progress={}, message={'eleven_multilingual_v2': '', 'eleven_turbo_v2_5': '', 'eleven_turbo_v2': ''}, dataset_duration_seconds=None, verification_attempts=None, slice_ids=None, manual_verification=None, finetuning_state=None), labels={'accent': 'American', 'description': 'expressive', 'age': 'young', 'gender': 'female', 'use_case': 'conversational'}, description=None, preview_url='https://storage.googleapis.com/eleven-public-prod/premade/voices/cgSgspJ2msm6clMCkdW9/56a97bf8-b69b-448f-846c-c3a11683d45a.mp3', available_for_tiers=[], settings=None, sharing=None, high_quality_base_model_ids=['eleven_turbo_v2', 'eleven_multilingual_v2', 'eleven_turbo_v2_5'], safety_control=None, voice_verification=VoiceVerificationResponse(requires_verification=False, is_verified=False, verification_failures=[], verification_attempts_count=0, language=None, verification_attempts=None), owner_id=None, permission_on_resource=None, is_legacy=False, is_mixed=False), Voice(voice_id='cjVigY5qzO86Huf0OWal', name='Eric', samples=None, category='premade', fine_tuning=FineTuningResponse(is_allowed_to_fine_tune=True, state={'eleven_multilingual_v2': 'fine_tuned', 'eleven_turbo_v2_5': 'fine_tuned', 'eleven_turbo_v2': 'fine_tuned'}, verification_failures=[], verification_attempts_count=0, manual_verification_requested=False, language='en', progress={}, message={'eleven_multilingual_v2': '', 'eleven_turbo_v2_5': '', 'eleven_turbo_v2': ''}, dataset_duration_seconds=None, verification_attempts=None, slice_ids=None, manual_verification=None, finetuning_state=None), labels={'accent': 'American', 'description': 'friendly', 'age': 'middle-aged', 'gender': 'male', 'use_case': 'conversational'}, description=None, preview_url='https://storage.googleapis.com/eleven-public-prod/premade/voices/cjVigY5qzO86Huf0OWal/d098fda0-6456-4030-b3d8-63aa048c9070.mp3', available_for_tiers=[], settings=None, sharing=None, high_quality_base_model_ids=['eleven_turbo_v2', 'eleven_multilingual_v2', 'eleven_turbo_v2_5'], safety_control=None, voice_verification=VoiceVerificationResponse(requires_verification=False, is_verified=False, verification_failures=[], verification_attempts_count=0, language=None, verification_attempts=None), owner_id=None, permission_on_resource=None, is_legacy=False, is_mixed=False), Voice(voice_id='iP95p4xoKVk53GoZ742B', name='Chris', samples=None, category='premade', fine_tuning=FineTuningResponse(is_allowed_to_fine_tune=True, state={'eleven_turbo_v2': 'fine_tuned'}, verification_failures=[], verification_attempts_count=0, manual_verification_requested=False, language='en', progress={}, message={'eleven_turbo_v2': ''}, dataset_duration_seconds=None, verification_attempts=None, slice_ids=None, manual_verification=None, finetuning_state=None), labels={'accent': 'American', 'description': 'casual', 'age': 'middle-aged', 'gender': 'male', 'use_case': 'conversational'}, description=None, preview_url='https://storage.googleapis.com/eleven-public-prod/premade/voices/iP95p4xoKVk53GoZ742B/3f4bde72-cc48-40dd-829f-57fbf906f4d7.mp3', available_for_tiers=[], settings=None, sharing=None, high_quality_base_model_ids=['eleven_turbo_v2', 'eleven_multilingual_v2', 'eleven_turbo_v2_5'], safety_control=None, voice_verification=VoiceVerificationResponse(requires_verification=False, is_verified=False, verification_failures=[], verification_attempts_count=0, language=None, verification_attempts=None), owner_id=None, permission_on_resource=None, is_legacy=False, is_mixed=False), Voice(voice_id='nPczCjzI2devNBz1zQrb', name='Brian', samples=None, category='premade', fine_tuning=FineTuningResponse(is_allowed_to_fine_tune=True, state={'eleven_turbo_v2': 'fine_tuned'}, verification_failures=[], verification_attempts_count=0, manual_verification_requested=False, language='en', progress={}, message={'eleven_turbo_v2': ''}, dataset_duration_seconds=None, verification_attempts=None, slice_ids=None, manual_verification=None, finetuning_state=None), labels={'accent': 'American', 'description': 'deep', 'age': 'middle-aged', 'gender': 'male', 'use_case': 'narration'}, description=None, preview_url='https://storage.googleapis.com/eleven-public-prod/premade/voices/nPczCjzI2devNBz1zQrb/2dd3e72c-4fd3-42f1-93ea-abc5d4e5aa1d.mp3', available_for_tiers=[], settings=None, sharing=None, high_quality_base_model_ids=['eleven_turbo_v2', 'eleven_multilingual_v2', 'eleven_turbo_v2_5'], safety_control=None, voice_verification=VoiceVerificationResponse(requires_verification=False, is_verified=False, verification_failures=[], verification_attempts_count=0, language=None, verification_attempts=None), owner_id=None, permission_on_resource=None, is_legacy=False, is_mixed=False), Voice(voice_id='onwK4e9ZLuTAKqWW03F9', name='Daniel', samples=None, category='premade', fine_tuning=FineTuningResponse(is_allowed_to_fine_tune=True, state={'eleven_turbo_v2': 'fine_tuned'}, verification_failures=[], verification_attempts_count=0, manual_verification_requested=False, language='en', progress={}, message={'eleven_turbo_v2': ''}, dataset_duration_seconds=None, verification_attempts=None, slice_ids=None, manual_verification=None, finetuning_state=None), labels={'accent': 'British', 'description': 'authoritative', 'age': 'middle-aged', 'gender': 'male', 'use_case': 'news'}, description=None, preview_url='https://storage.googleapis.com/eleven-public-prod/premade/voices/onwK4e9ZLuTAKqWW03F9/7eee0236-1a72-4b86-b303-5dcadc007ba9.mp3', available_for_tiers=[], settings=None, sharing=None, high_quality_base_model_ids=['eleven_multilingual_v1', 'eleven_turbo_v2', 'eleven_multilingual_v2', 'eleven_turbo_v2_5'], safety_control=None, voice_verification=VoiceVerificationResponse(requires_verification=False, is_verified=False, verification_failures=[], verification_attempts_count=0, language=None, verification_attempts=None), owner_id=None, permission_on_resource=None, is_legacy=False, is_mixed=False), Voice(voice_id='pFZP5JQG7iQjIQuC4Bku', name='Lily', samples=None, category='premade', fine_tuning=FineTuningResponse(is_allowed_to_fine_tune=True, state={'eleven_turbo_v2': 'fine_tuned'}, verification_failures=[], verification_attempts_count=0, manual_verification_requested=False, language='en', progress={}, message={'eleven_turbo_v2': ''}, dataset_duration_seconds=None, verification_attempts=None, slice_ids=None, manual_verification=None, finetuning_state=None), labels={'accent': 'British', 'description': 'warm', 'age': 'middle-aged', 'gender': 'female', 'use_case': 'narration'}, description=None, preview_url='https://storage.googleapis.com/eleven-public-prod/premade/voices/pFZP5JQG7iQjIQuC4Bku/89b68b35-b3dd-4348-a84a-a3c13a3c2b30.mp3', available_for_tiers=[], settings=None, sharing=None, high_quality_base_model_ids=['eleven_turbo_v2', 'eleven_multilingual_v2', 'eleven_turbo_v2_5'], safety_control=None, voice_verification=VoiceVerificationResponse(requires_verification=False, is_verified=False, verification_failures=[], verification_attempts_count=0, language=None, verification_attempts=None), owner_id=None, permission_on_resource=None, is_legacy=False, is_mixed=False), Voice(voice_id='pqHfZKP75CvOlQylNhV4', name='Bill', samples=None, category='premade', fine_tuning=FineTuningResponse(is_allowed_to_fine_tune=True, state={'eleven_turbo_v2': 'fine_tuned'}, verification_failures=[], verification_attempts_count=0, manual_verification_requested=False, language='en', progress={}, message={'eleven_turbo_v2': ''}, dataset_duration_seconds=None, verification_attempts=None, slice_ids=None, manual_verification=None, finetuning_state=None), labels={'accent': 'American', 'description': 'trustworthy', 'age': 'old', 'gender': 'male', 'use_case': 'narration'}, description=None, preview_url='https://storage.googleapis.com/eleven-public-prod/premade/voices/pqHfZKP75CvOlQylNhV4/d782b3ff-84ba-4029-848c-acf01285524d.mp3', available_for_tiers=[], settings=None, sharing=None, high_quality_base_model_ids=['eleven_turbo_v2', 'eleven_multilingual_v2', 'eleven_turbo_v2_5'], safety_control=None, voice_verification=VoiceVerificationResponse(requires_verification=False, is_verified=False, verification_failures=[], verification_attempts_count=0, language=None, verification_attempts=None), owner_id=None, permission_on_resource=None, is_legacy=False, is_mixed=False), Voice(voice_id='g6xIsTj2HwM6VR4iXFCw', name='Jessica Anne Bogart - Conversations', samples=None, category='professional', fine_tuning=FineTuningResponse(is_allowed_to_fine_tune=True, state={'eleven_multilingual_v2': 'fine_tuned', 'eleven_turbo_v2_5': 'fine_tuned', 'eleven_turbo_v2': 'fine_tuned', 'eleven_multilingual_sts_v2': 'fine_tuned'}, verification_failures=[], verification_attempts_count=0, manual_verification_requested=False, language='en', progress={}, message={}, dataset_duration_seconds=None, verification_attempts=None, slice_ids=None, manual_verification=None, finetuning_state=None), labels={'language': 'en', 'descriptive': 'crisp', 'accent': 'american', 'gender': 'female', 'age': 'middle_aged', 'use_case': 'conversational'}, description='Friendly and Conversational Female voice. Articulate, Confident and Helpful. Works well for Conversations.', preview_url='https://storage.googleapis.com/eleven-public-prod/database/user/yA8yDNUx4dZ4gwL9ztbTpUEIyR12/voices/g6xIsTj2HwM6VR4iXFCw/lATTwqV2Uqz9NmNtMCfO.mp3', available_for_tiers=[], settings=None, sharing=VoiceSharingResponse(status='copied', history_item_sample_id=None, date_unix=1726720558, whitelisted_emails=[], public_owner_id='066125d0c3eac062cd6655ed319d2347c29d07eab96ee22c6ebe7ef1841c3b1a', original_voice_id='g6xIsTj2HwM6VR4iXFCw', financial_rewards_enabled=False, free_users_allowed=True, live_moderation_enabled=True, rate=1.0, notice_period=730, disable_at_unix=None, voice_mixing_allowed=False, featured=False, category='high_quality', reader_app_enabled=False, image_url='', ban_reason=None, liked_by_count=0, cloned_by_count=0, name='Jessica Anne Bogart - Conversations', description='Friendly and Conversational Female voice. Articulate, Confident and Helpful. Works well for Conversations.', labels={'language': 'en', 'descriptive': 'crisp', 'accent': 'american', 'gender': 'female', 'age': 'middle_aged', 'use_case': 'conversational'}, review_status='not_requested', review_message=None, enabled_in_library=False, instagram_username=None, twitter_username=None, youtube_username=None, tiktok_username=None), high_quality_base_model_ids=['eleven_turbo_v2', 'eleven_turbo_v2_5', 'eleven_multilingual_v2', 'eleven_multilingual_sts_v2'], safety_control=None, voice_verification=VoiceVerificationResponse(requires_verification=False, is_verified=False, verification_failures=[], verification_attempts_count=0, language=None, verification_attempts=None), owner_id=None, permission_on_resource='admin', is_legacy=False, is_mixed=False), Voice(voice_id='L0Dsvb3SLTyegXwtm47J', name='Archer', samples=None, category='professional', fine_tuning=FineTuningResponse(is_allowed_to_fine_tune=True, state={'eleven_multilingual_v2': 'fine_tuned', 'eleven_turbo_v2_5': 'failed', 'eleven_turbo_v2': 'fine_tuned'}, verification_failures=[], verification_attempts_count=0, manual_verification_requested=False, language='en', progress={}, message={}, dataset_duration_seconds=None, verification_attempts=None, slice_ids=None, manual_verification=None, finetuning_state=None), labels={'language': 'en', 'descriptive': 'calm', 'accent': 'british', 'gender': 'male', 'age': 'middle_aged', 'use_case': 'conversational'}, description='Conversational, calm British, thirty-something, perfect for an AI agent.', preview_url='https://storage.googleapis.com/eleven-public-prod/custom/voices/L0Dsvb3SLTyegXwtm47J/EKoXN08bacukhTjtp6sq.mp3', available_for_tiers=[], settings=None, sharing=VoiceSharingResponse(status='copied', history_item_sample_id=None, date_unix=1726729224, whitelisted_emails=[], public_owner_id='8cab967ba4f7385d9544b0f35096242b8c6348e0165fd2bdc6de17c02bc6d60b', original_voice_id='L0Dsvb3SLTyegXwtm47J', financial_rewards_enabled=False, free_users_allowed=True, live_moderation_enabled=False, rate=1.0, notice_period=30, disable_at_unix=None, voice_mixing_allowed=False, featured=False, category='professional', reader_app_enabled=False, image_url='', ban_reason=None, liked_by_count=0, cloned_by_count=0, name='Archer', description='Conversational, calm British, thirty-something, perfect for an AI agent.', labels={'language': 'en', 'descriptive': 'calm', 'accent': 'british', 'gender': 'male', 'age': 'middle_aged', 'use_case': 'conversational'}, review_status='not_requested', review_message=None, enabled_in_library=False, instagram_username=None, twitter_username=None, youtube_username=None, tiktok_username=None), high_quality_base_model_ids=['eleven_turbo_v2', 'eleven_multilingual_v2'], safety_control=None, voice_verification=VoiceVerificationResponse(requires_verification=False, is_verified=False, verification_failures=[], verification_attempts_count=0, language=None, verification_attempts=None), owner_id=None, permission_on_resource='admin', is_legacy=False, is_mixed=False)]\n"
     ]
    }
   ],
   "source": [
    "print(voices)"
   ]
  },
  {
   "cell_type": "code",
   "execution_count": 4,
   "metadata": {},
   "outputs": [],
   "source": [
    "from easy_bookmarks.stores import get_store\n",
    "import yaml\n",
    "import os\n",
    "import polars as pl\n",
    "\n",
    "store_name = \"notion\"\n",
    "with open(\"../../config/integration_config.yaml\", \"r\") as f:\n",
    "    config_data = yaml.safe_load(os.path.expandvars(f.read()))\n",
    "\n",
    "database = \"linkedin\"\n",
    "store_metadata = config_data[\"store\"][store_name]\n",
    "store_linkedin = get_store(\"notion\")(\n",
    "    **{\"config\": store_metadata[\"config\"]},\n",
    "    **store_metadata[\"databases\"][database],\n",
    ")\n",
    "df_linkedin = store_linkedin.get_bookmarks_df()\n",
    "\n",
    "database = \"PapersWithCode\"\n",
    "store_metadata = config_data[\"store\"][store_name]\n",
    "store_pwc = get_store(\"notion\")(\n",
    "    **{\"config\": store_metadata[\"config\"]},\n",
    "    **store_metadata[\"databases\"][database],\n",
    ")\n",
    "df_pwc = store_pwc.get_bookmarks_df()\n"
   ]
  },
  {
   "cell_type": "code",
   "execution_count": 5,
   "metadata": {},
   "outputs": [],
   "source": [
    "input_prompt = str(df_pwc.select([\"title\", \"description\"]).to_numpy()) + str(df_linkedin[\"post_summary\"].to_numpy())\n"
   ]
  },
  {
   "cell_type": "code",
   "execution_count": 6,
   "metadata": {},
   "outputs": [],
   "source": [
    "#transcript = podcaster._generate_podcast_script(text=input_prompt)\n",
    "#import ast\n",
    "#parsed_transcript = ast.literal_eval(transcript.data)"
   ]
  },
  {
   "cell_type": "code",
   "execution_count": 7,
   "metadata": {},
   "outputs": [],
   "source": [
    "#response = podcaster._get_elevenlabs_audio(text=\"\"\"\n",
    "#    In today's podcast we are going to talk about the latest news in the tech world. \n",
    "#    Cuatrecasas is a law firm that is working on a new AI model that is going to change the world. \n",
    "#    They are paying Ana some million dollars to do this project.\n",
    "#    \"\"\", speaker=\"John\")\n"
   ]
  },
  {
   "cell_type": "code",
   "execution_count": null,
   "metadata": {},
   "outputs": [],
   "source": [
    "podcaster.run(input_prompt)"
   ]
  },
  {
   "cell_type": "code",
   "execution_count": 10,
   "metadata": {},
   "outputs": [
    {
     "name": "stdout",
     "output_type": "stream",
     "text": [
      "Processing: data/audio\\Carlos_0.mp3.mp3\n",
      "Processing: data/audio\\Ana_1.mp3.mp3\n",
      "Processing: data/audio\\Carlos_2.mp3.mp3\n",
      "Processing: data/audio\\Ana_3.mp3.mp3\n",
      "Processing: data/audio\\Carlos_4.mp3.mp3\n",
      "Processing: data/audio\\Ana_5.mp3.mp3\n",
      "Processing: data/audio\\Carlos_6.mp3.mp3\n",
      "Processing: data/audio\\Ana_7.mp3.mp3\n",
      "Processing: data/audio\\Carlos_8.mp3.mp3\n",
      "Processing: data/audio\\Ana_9.mp3.mp3\n",
      "Processing: data/audio\\Carlos_10.mp3.mp3\n",
      "Processing: data/audio\\Ana_11.mp3.mp3\n",
      "Processing: data/audio\\Carlos_12.mp3.mp3\n",
      "Processing: data/audio\\Ana_13.mp3.mp3\n",
      "Processing: data/audio\\Carlos_14.mp3.mp3\n",
      "Processing: data/audio\\Ana_15.mp3.mp3\n",
      "Processing: data/audio\\Carlos_16.mp3.mp3\n",
      "Processing: data/audio\\Ana_17.mp3.mp3\n",
      "Processing: data/audio\\Carlos_18.mp3.mp3\n",
      "Processing: data/audio\\Ana_19.mp3.mp3\n",
      "Processing: data/audio\\Carlos_20.mp3.mp3\n",
      "Processing: data/audio\\Ana_21.mp3.mp3\n",
      "Processing: data/audio\\Carlos_22.mp3.mp3\n",
      "Processing: data/audio\\Ana_23.mp3.mp3\n",
      "Processing: data/audio\\Carlos_24.mp3.mp3\n",
      "Processing: data/audio\\Ana_25.mp3.mp3\n",
      "Processing: data/audio\\Carlos_26.mp3.mp3\n",
      "Processing: data/audio\\Ana_27.mp3.mp3\n",
      "Processing: data/audio\\Carlos_28.mp3.mp3\n",
      "Processing: data/audio\\Ana_29.mp3.mp3\n",
      "Processing: data/audio\\Carlos_30.mp3.mp3\n",
      "Processing: data/audio\\Ana_31.mp3.mp3\n",
      "Processing: data/audio\\Carlos_32.mp3.mp3\n",
      "Processing: data/audio\\Ana_33.mp3.mp3\n",
      "Processing: data/audio\\Carlos_34.mp3.mp3\n",
      "Processing: data/audio\\Ana_35.mp3.mp3\n",
      "Processing: data/audio\\Carlos_36.mp3.mp3\n",
      "Processing: data/audio\\Ana_37.mp3.mp3\n",
      "Processing: data/audio\\Carlos_38.mp3.mp3\n",
      "Processing: data/audio\\Ana_39.mp3.mp3\n",
      "Processing: data/audio\\Carlos_40.mp3.mp3\n",
      "Processing: data/audio\\Ana_41.mp3.mp3\n",
      "Processing: data/audio\\Carlos_42.mp3.mp3\n",
      "Processing: data/audio\\Ana_43.mp3.mp3\n",
      "Processing: data/audio\\Carlos_44.mp3.mp3\n",
      "Processing: data/audio\\Ana_45.mp3.mp3\n",
      "Processing: data/audio\\Carlos_46.mp3.mp3\n",
      "Processing: data/audio\\Ana_47.mp3.mp3\n",
      "Processing: data/audio\\Carlos_48.mp3.mp3\n",
      "Processing: data/audio\\Ana_49.mp3.mp3\n",
      "Processing: data/audio\\Carlos_50.mp3.mp3\n",
      "Processing: data/audio\\Ana_51.mp3.mp3\n",
      "Processing: data/audio\\Carlos_52.mp3.mp3\n",
      "Processing: data/audio\\Ana_53.mp3.mp3\n",
      "Processing: data/audio\\Carlos_54.mp3.mp3\n",
      "Processing: data/audio\\Ana_55.mp3.mp3\n",
      "Processing: data/audio\\Carlos_56.mp3.mp3\n",
      "Processing: data/audio\\Ana_57.mp3.mp3\n",
      "Processing: data/audio\\Carlos_58.mp3.mp3\n",
      "Processing: data/audio\\Ana_59.mp3.mp3\n",
      "Processing: data/audio\\Carlos_60.mp3.mp3\n",
      "Processing: data/audio\\Ana_61.mp3.mp3\n",
      "Processing: data/audio\\Carlos_62.mp3.mp3\n",
      "Processing: data/audio\\Ana_63.mp3.mp3\n",
      "Processing: data/audio\\Carlos_64.mp3.mp3\n",
      "Processing: data/audio\\Ana_65.mp3.mp3\n",
      "Processing: data/audio\\Carlos_66.mp3.mp3\n",
      "Processing: data/audio\\Ana_67.mp3.mp3\n",
      "Processing: data/audio\\Carlos_68.mp3.mp3\n",
      "Processing: data/audio\\Ana_69.mp3.mp3\n",
      "Processing: data/audio\\Carlos_70.mp3.mp3\n"
     ]
    },
    {
     "data": {
      "text/plain": [
       "<_io.BufferedRandom name='data/audio/combined'>"
      ]
     },
     "execution_count": 10,
     "metadata": {},
     "output_type": "execute_result"
    }
   ],
   "source": [
    "from pydub import AudioSegment\n",
    "import os\n",
    "\n",
    "audio_folder = \"data/audio\"\n",
    "combined = AudioSegment.empty()\n",
    "audio_files = sorted(\n",
    "    [f for f in os.listdir(audio_folder) if f.endswith(\".mp3\") or f.endswith(\".wav\")],\n",
    "    key=lambda x: int(x.split('_')[1].split('.')[0])\n",
    ")\n",
    "for filename in audio_files:\n",
    "    audio_path = os.path.join(audio_folder, filename)\n",
    "    print(f\"Processing: {audio_path}\")\n",
    "    audio = AudioSegment.from_file(audio_path)\n",
    "    combined += audio\n",
    "combined.export(audio_folder+\"/combined\", format=\"mp3\")\n"
   ]
  },
  {
   "cell_type": "code",
   "execution_count": null,
   "metadata": {},
   "outputs": [],
   "source": []
  }
 ],
 "metadata": {
  "kernelspec": {
   "display_name": "easy-bookmarks-F2L40Ma7-py3.11",
   "language": "python",
   "name": "python3"
  },
  "language_info": {
   "codemirror_mode": {
    "name": "ipython",
    "version": 3
   },
   "file_extension": ".py",
   "mimetype": "text/x-python",
   "name": "python",
   "nbconvert_exporter": "python",
   "pygments_lexer": "ipython3",
   "version": "3.11.0"
  }
 },
 "nbformat": 4,
 "nbformat_minor": 2
}
