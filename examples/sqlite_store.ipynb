{
 "cells": [
  {
   "cell_type": "code",
   "execution_count": 12,
   "metadata": {},
   "outputs": [],
   "source": [
    "from easy_bookmarks.stores.sqlite_store import SQLiteStore\n",
    "import pandas as pd\n",
    "\n",
    "store = SQLiteStore()\n",
    "df_bookmarks = pd.read_csv('df_bookmarks_800.csv')\n",
    "store.create_table(df_bookmarks.dtypes.to_dict())\n",
    "for index, row in df_bookmarks.iterrows():\n",
    "    store.add_bookmark(row.to_dict())"
   ]
  },
  {
   "cell_type": "code",
   "execution_count": 15,
   "metadata": {},
   "outputs": [
    {
     "data": {
      "text/html": [
       "<div>\n",
       "<style scoped>\n",
       "    .dataframe tbody tr th:only-of-type {\n",
       "        vertical-align: middle;\n",
       "    }\n",
       "\n",
       "    .dataframe tbody tr th {\n",
       "        vertical-align: top;\n",
       "    }\n",
       "\n",
       "    .dataframe thead th {\n",
       "        text-align: right;\n",
       "    }\n",
       "</style>\n",
       "<table border=\"1\" class=\"dataframe\">\n",
       "  <thead>\n",
       "    <tr style=\"text-align: right;\">\n",
       "      <th></th>\n",
       "      <th>uuid</th>\n",
       "      <th>author</th>\n",
       "      <th>author_catchline</th>\n",
       "      <th>author_member_id</th>\n",
       "      <th>post_summary</th>\n",
       "      <th>post_url</th>\n",
       "      <th>post_activity_id</th>\n",
       "      <th>post_date_lkd</th>\n",
       "      <th>post_date_extract</th>\n",
       "      <th>post_date_formatted</th>\n",
       "    </tr>\n",
       "  </thead>\n",
       "  <tbody>\n",
       "    <tr>\n",
       "      <th>0</th>\n",
       "      <td>1</td>\n",
       "      <td>Marie Stephen Leo</td>\n",
       "      <td>I help Data enthusiasts learn about AI, DS, DE...</td>\n",
       "      <td>69170718</td>\n",
       "      <td>LLM Structured Output Benchmarks: Find the bes...</td>\n",
       "      <td>https://www.linkedin.com/feed/update/urn:li:ac...</td>\n",
       "      <td>7235088849331183616</td>\n",
       "      <td>11h •</td>\n",
       "      <td>11h</td>\n",
       "      <td>2024-08-30 09:24:53.447237</td>\n",
       "    </tr>\n",
       "    <tr>\n",
       "      <th>1</th>\n",
       "      <td>2</td>\n",
       "      <td>Ansgar Wolsing</td>\n",
       "      <td>Director Data &amp; Analytics @ Kaiser X Labs | Da...</td>\n",
       "      <td>602321657</td>\n",
       "      <td>Did you know you can export a ggplot2 chart as...</td>\n",
       "      <td>https://www.linkedin.com/feed/update/urn:li:ac...</td>\n",
       "      <td>7234956777983782912</td>\n",
       "      <td>20h •</td>\n",
       "      <td>20h</td>\n",
       "      <td>2024-08-30 00:24:53.447268</td>\n",
       "    </tr>\n",
       "  </tbody>\n",
       "</table>\n",
       "</div>"
      ],
      "text/plain": [
       "   uuid             author                                   author_catchline  \\\n",
       "0     1  Marie Stephen Leo  I help Data enthusiasts learn about AI, DS, DE...   \n",
       "1     2     Ansgar Wolsing  Director Data & Analytics @ Kaiser X Labs | Da...   \n",
       "\n",
       "   author_member_id                                       post_summary  \\\n",
       "0          69170718  LLM Structured Output Benchmarks: Find the bes...   \n",
       "1         602321657  Did you know you can export a ggplot2 chart as...   \n",
       "\n",
       "                                            post_url     post_activity_id  \\\n",
       "0  https://www.linkedin.com/feed/update/urn:li:ac...  7235088849331183616   \n",
       "1  https://www.linkedin.com/feed/update/urn:li:ac...  7234956777983782912   \n",
       "\n",
       "  post_date_lkd post_date_extract         post_date_formatted  \n",
       "0       11h •                 11h  2024-08-30 09:24:53.447237  \n",
       "1       20h •                 20h  2024-08-30 00:24:53.447268  "
      ]
     },
     "execution_count": 15,
     "metadata": {},
     "output_type": "execute_result"
    }
   ],
   "source": [
    "store.get_bookmarks().head(2)"
   ]
  },
  {
   "cell_type": "code",
   "execution_count": 14,
   "metadata": {},
   "outputs": [
    {
     "data": {
      "text/plain": [
       "{'author': 'TEXT',\n",
       " 'author_catchline': 'TEXT',\n",
       " 'author_member_id': 'INTEGER',\n",
       " 'post_summary': 'TEXT',\n",
       " 'post_url': 'TEXT',\n",
       " 'post_activity_id': 'INTEGER',\n",
       " 'post_date_lkd': 'TEXT',\n",
       " 'post_date_extract': 'TEXT',\n",
       " 'post_date_formatted': 'TEXT'}"
      ]
     },
     "execution_count": 14,
     "metadata": {},
     "output_type": "execute_result"
    }
   ],
   "source": [
    "store._infer_column_types(df_bookmarks)"
   ]
  }
 ],
 "metadata": {
  "kernelspec": {
   "display_name": ".venv",
   "language": "python",
   "name": "python3"
  },
  "language_info": {
   "codemirror_mode": {
    "name": "ipython",
    "version": 3
   },
   "file_extension": ".py",
   "mimetype": "text/x-python",
   "name": "python",
   "nbconvert_exporter": "python",
   "pygments_lexer": "ipython3",
   "version": "3.11.9"
  }
 },
 "nbformat": 4,
 "nbformat_minor": 2
}
