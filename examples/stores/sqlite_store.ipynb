{
 "cells": [
  {
   "cell_type": "code",
   "execution_count": 1,
   "metadata": {},
   "outputs": [
    {
     "name": "stderr",
     "output_type": "stream",
     "text": [
      "It is recommended to include a uuid column. Creating a autoincremental.\n"
     ]
    },
    {
     "name": "stdout",
     "output_type": "stream",
     "text": [
      "author String, author_catchline String, author_member_id Int64, post_summary String, post_url String, post_activity_id Int64, post_date_repost_info String\n"
     ]
    }
   ],
   "source": [
    "import polars as pl\n",
    "from easy_bookmarks.stores.sqlite_store import SQLiteStore\n",
    "\n",
    "\n",
    "store = SQLiteStore()\n",
    "df_bookmarks = pl.read_csv('df_bookmarks_800.csv')"
   ]
  },
  {
   "cell_type": "markdown",
   "metadata": {},
   "source": [
    "### Create table from definition"
   ]
  },
  {
   "cell_type": "code",
   "execution_count": null,
   "metadata": {},
   "outputs": [],
   "source": [
    "store.create_table(dict(zip(df_bookmarks.columns, df_bookmarks.dtypes)))"
   ]
  },
  {
   "cell_type": "markdown",
   "metadata": {},
   "source": [
    "### Insert rows to a created table"
   ]
  },
  {
   "cell_type": "code",
   "execution_count": null,
   "metadata": {},
   "outputs": [],
   "source": [
    "for row in df_bookmarks.iter_rows(named=True):\n",
    "    store.add_bookmark(row)"
   ]
  },
  {
   "cell_type": "markdown",
   "metadata": {},
   "source": [
    "### Get bookmarks from database"
   ]
  },
  {
   "cell_type": "code",
   "execution_count": 4,
   "metadata": {},
   "outputs": [
    {
     "data": {
      "text/html": [
       "<div><style>\n",
       ".dataframe > thead > tr,\n",
       ".dataframe > tbody > tr {\n",
       "  text-align: right;\n",
       "  white-space: pre-wrap;\n",
       "}\n",
       "</style>\n",
       "<small>shape: (2, 7)</small><table border=\"1\" class=\"dataframe\"><thead><tr><th>author</th><th>author_catchline</th><th>author_member_id</th><th>post_summary</th><th>post_url</th><th>post_activity_id</th><th>post_date_repost_info</th></tr><tr><td>str</td><td>str</td><td>i64</td><td>str</td><td>str</td><td>i64</td><td>str</td></tr></thead><tbody><tr><td>&quot;Fred Viole&quot;</td><td>&quot;OVVO Financial Systems | ovvol…</td><td>24191624</td><td>&quot;When people ask, &quot;Why nonparam…</td><td>&quot;https://www.linkedin.com/feed/…</td><td>7238576907531816960</td><td>&quot;2d •  &quot;</td></tr><tr><td>&quot;Leonie Monigatti&quot;</td><td>&quot;I do Machine Learning at Weavi…</td><td>391766404</td><td>&quot;If you embed an entire documen…</td><td>&quot;https://www.linkedin.com/feed/…</td><td>7237775824395935744</td><td>&quot;4d •  &quot;</td></tr></tbody></table></div>"
      ],
      "text/plain": [
       "shape: (2, 7)\n",
       "┌──────────────┬─────────────┬─────────────┬─────────────┬─────────────┬─────────────┬─────────────┐\n",
       "│ author       ┆ author_catc ┆ author_memb ┆ post_summar ┆ post_url    ┆ post_activi ┆ post_date_r │\n",
       "│ ---          ┆ hline       ┆ er_id       ┆ y           ┆ ---         ┆ ty_id       ┆ epost_info  │\n",
       "│ str          ┆ ---         ┆ ---         ┆ ---         ┆ str         ┆ ---         ┆ ---         │\n",
       "│              ┆ str         ┆ i64         ┆ str         ┆             ┆ i64         ┆ str         │\n",
       "╞══════════════╪═════════════╪═════════════╪═════════════╪═════════════╪═════════════╪═════════════╡\n",
       "│ Fred Viole   ┆ OVVO        ┆ 24191624    ┆ When people ┆ https://www ┆ 72385769075 ┆ 2d •        │\n",
       "│              ┆ Financial   ┆             ┆ ask, \"Why   ┆ .linkedin.c ┆ 31816960    ┆             │\n",
       "│              ┆ Systems |   ┆             ┆ nonparam…   ┆ om/feed/…   ┆             ┆             │\n",
       "│              ┆ ovvol…      ┆             ┆             ┆             ┆             ┆             │\n",
       "│ Leonie       ┆ I do        ┆ 391766404   ┆ If you      ┆ https://www ┆ 72377758243 ┆ 4d •        │\n",
       "│ Monigatti    ┆ Machine     ┆             ┆ embed an    ┆ .linkedin.c ┆ 95935744    ┆             │\n",
       "│              ┆ Learning at ┆             ┆ entire      ┆ om/feed/…   ┆             ┆             │\n",
       "│              ┆ Weavi…      ┆             ┆ documen…    ┆             ┆             ┆             │\n",
       "└──────────────┴─────────────┴─────────────┴─────────────┴─────────────┴─────────────┴─────────────┘"
      ]
     },
     "execution_count": 4,
     "metadata": {},
     "output_type": "execute_result"
    }
   ],
   "source": [
    "store.get_bookmarks().head(2)\n"
   ]
  },
  {
   "cell_type": "markdown",
   "metadata": {},
   "source": [
    "### Misc: Check data type mapping"
   ]
  },
  {
   "cell_type": "code",
   "execution_count": 2,
   "metadata": {},
   "outputs": [
    {
     "data": {
      "text/plain": [
       "{'author': 'TEXT',\n",
       " 'author_catchline': 'TEXT',\n",
       " 'author_member_id': 'INTEGER',\n",
       " 'post_summary': 'TEXT',\n",
       " 'post_url': 'TEXT',\n",
       " 'post_activity_id': 'INTEGER',\n",
       " 'post_date_repost_info': 'TEXT'}"
      ]
     },
     "execution_count": 2,
     "metadata": {},
     "output_type": "execute_result"
    }
   ],
   "source": [
    "store._infer_column_types(df_bookmarks)"
   ]
  }
 ],
 "metadata": {
  "kernelspec": {
   "display_name": ".venv",
   "language": "python",
   "name": "python3"
  },
  "language_info": {
   "codemirror_mode": {
    "name": "ipython",
    "version": 3
   },
   "file_extension": ".py",
   "mimetype": "text/x-python",
   "name": "python",
   "nbconvert_exporter": "python",
   "pygments_lexer": "ipython3",
   "version": "3.11.0"
  }
 },
 "nbformat": 4,
 "nbformat_minor": 2
}
