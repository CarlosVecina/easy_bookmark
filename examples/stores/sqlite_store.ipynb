{
 "cells": [
  {
   "cell_type": "code",
   "execution_count": 6,
   "metadata": {},
   "outputs": [
    {
     "data": {
      "text/html": [
       "<div><style>\n",
       ".dataframe > thead > tr,\n",
       ".dataframe > tbody > tr {\n",
       "  text-align: right;\n",
       "  white-space: pre-wrap;\n",
       "}\n",
       "</style>\n",
       "<small>shape: (1, 9)</small><table border=\"1\" class=\"dataframe\"><thead><tr><th>author</th><th>author_catchline</th><th>author_member_id</th><th>post_summary</th><th>post_url</th><th>post_activity_id</th><th>parsed_date</th><th>source</th><th>uuid</th></tr><tr><td>str</td><td>str</td><td>i64</td><td>str</td><td>str</td><td>i64</td><td>str</td><td>str</td><td>str</td></tr></thead><tbody><tr><td>&quot;Fred Viole&quot;</td><td>&quot;OVVO Financial Systems | ovvol…</td><td>24191624</td><td>&quot;When people ask, &quot;Why nonparam…</td><td>&quot;https://www.linkedin.com/feed/…</td><td>7238576907531816960</td><td>&quot;2024-09-09&quot;</td><td>&quot;linkedin&quot;</td><td>&quot;eae06dc9-1f42-16bb-cf51-544c36…</td></tr></tbody></table></div>"
      ],
      "text/plain": [
       "shape: (1, 9)\n",
       "┌────────┬────────────┬────────────┬────────────┬───┬───────────┬───────────┬──────────┬───────────┐\n",
       "│ author ┆ author_cat ┆ author_mem ┆ post_summa ┆ … ┆ post_acti ┆ parsed_da ┆ source   ┆ uuid      │\n",
       "│ ---    ┆ chline     ┆ ber_id     ┆ ry         ┆   ┆ vity_id   ┆ te        ┆ ---      ┆ ---       │\n",
       "│ str    ┆ ---        ┆ ---        ┆ ---        ┆   ┆ ---       ┆ ---       ┆ str      ┆ str       │\n",
       "│        ┆ str        ┆ i64        ┆ str        ┆   ┆ i64       ┆ str       ┆          ┆           │\n",
       "╞════════╪════════════╪════════════╪════════════╪═══╪═══════════╪═══════════╪══════════╪═══════════╡\n",
       "│ Fred   ┆ OVVO       ┆ 24191624   ┆ When       ┆ … ┆ 723857690 ┆ 2024-09-0 ┆ linkedin ┆ eae06dc9- │\n",
       "│ Viole  ┆ Financial  ┆            ┆ people     ┆   ┆ 753181696 ┆ 9         ┆          ┆ 1f42-16bb │\n",
       "│        ┆ Systems |  ┆            ┆ ask, \"Why  ┆   ┆ 0         ┆           ┆          ┆ -cf51-544 │\n",
       "│        ┆ ovvol…     ┆            ┆ nonparam…  ┆   ┆           ┆           ┆          ┆ c36…      │\n",
       "└────────┴────────────┴────────────┴────────────┴───┴───────────┴───────────┴──────────┴───────────┘"
      ]
     },
     "execution_count": 6,
     "metadata": {},
     "output_type": "execute_result"
    }
   ],
   "source": [
    "import polars as pl\n",
    "from easy_bookmarks.stores.sqlite_store import SQLiteStore\n",
    "\n",
    "\n",
    "store = SQLiteStore()\n",
    "df_bookmarks = pl.read_csv('df_bookmarks_800.csv')\n",
    "df_bookmarks.head(1)"
   ]
  },
  {
   "cell_type": "markdown",
   "metadata": {},
   "source": [
    "### Create table from definition"
   ]
  },
  {
   "cell_type": "code",
   "execution_count": 7,
   "metadata": {},
   "outputs": [
    {
     "name": "stdout",
     "output_type": "stream",
     "text": [
      "author String, author_catchline String, author_member_id Int64, post_summary String, post_url String, post_activity_id Int64, parsed_date String, source String, uuid String\n"
     ]
    }
   ],
   "source": [
    "store.create_table(dict(zip(df_bookmarks.columns, df_bookmarks.dtypes)))"
   ]
  },
  {
   "cell_type": "markdown",
   "metadata": {},
   "source": [
    "### Insert rows to a created table"
   ]
  },
  {
   "cell_type": "code",
   "execution_count": 8,
   "metadata": {},
   "outputs": [],
   "source": [
    "for row in df_bookmarks.iter_rows(named=True):\n",
    "    store.add_bookmark(row)"
   ]
  },
  {
   "cell_type": "markdown",
   "metadata": {},
   "source": [
    "### Get bookmarks from database"
   ]
  },
  {
   "cell_type": "code",
   "execution_count": 9,
   "metadata": {},
   "outputs": [
    {
     "data": {
      "text/html": [
       "<div><style>\n",
       ".dataframe > thead > tr,\n",
       ".dataframe > tbody > tr {\n",
       "  text-align: right;\n",
       "  white-space: pre-wrap;\n",
       "}\n",
       "</style>\n",
       "<small>shape: (2, 9)</small><table border=\"1\" class=\"dataframe\"><thead><tr><th>author</th><th>author_catchline</th><th>author_member_id</th><th>post_summary</th><th>post_url</th><th>post_activity_id</th><th>parsed_date</th><th>source</th><th>uuid</th></tr><tr><td>str</td><td>str</td><td>i64</td><td>str</td><td>str</td><td>i64</td><td>str</td><td>str</td><td>str</td></tr></thead><tbody><tr><td>&quot;Fred Viole&quot;</td><td>&quot;OVVO Financial Systems | ovvol…</td><td>24191624</td><td>&quot;When people ask, &quot;Why nonparam…</td><td>&quot;https://www.linkedin.com/feed/…</td><td>7238576907531816960</td><td>&quot;2024-09-09&quot;</td><td>&quot;linkedin&quot;</td><td>&quot;eae06dc9-1f42-16bb-cf51-544c36…</td></tr><tr><td>&quot;Leonie Monigatti&quot;</td><td>&quot;I do Machine Learning at Weavi…</td><td>391766404</td><td>&quot;If you embed an entire documen…</td><td>&quot;https://www.linkedin.com/feed/…</td><td>7237775824395935744</td><td>&quot;2024-09-07&quot;</td><td>&quot;linkedin&quot;</td><td>&quot;8ff5b192-b82d-edcc-5e7a-a4e19a…</td></tr></tbody></table></div>"
      ],
      "text/plain": [
       "shape: (2, 9)\n",
       "┌───────────┬───────────┬───────────┬───────────┬───┬───────────┬───────────┬──────────┬───────────┐\n",
       "│ author    ┆ author_ca ┆ author_me ┆ post_summ ┆ … ┆ post_acti ┆ parsed_da ┆ source   ┆ uuid      │\n",
       "│ ---       ┆ tchline   ┆ mber_id   ┆ ary       ┆   ┆ vity_id   ┆ te        ┆ ---      ┆ ---       │\n",
       "│ str       ┆ ---       ┆ ---       ┆ ---       ┆   ┆ ---       ┆ ---       ┆ str      ┆ str       │\n",
       "│           ┆ str       ┆ i64       ┆ str       ┆   ┆ i64       ┆ str       ┆          ┆           │\n",
       "╞═══════════╪═══════════╪═══════════╪═══════════╪═══╪═══════════╪═══════════╪══════════╪═══════════╡\n",
       "│ Fred      ┆ OVVO      ┆ 24191624  ┆ When      ┆ … ┆ 723857690 ┆ 2024-09-0 ┆ linkedin ┆ eae06dc9- │\n",
       "│ Viole     ┆ Financial ┆           ┆ people    ┆   ┆ 753181696 ┆ 9         ┆          ┆ 1f42-16bb │\n",
       "│           ┆ Systems | ┆           ┆ ask, \"Why ┆   ┆ 0         ┆           ┆          ┆ -cf51-544 │\n",
       "│           ┆ ovvol…    ┆           ┆ nonparam… ┆   ┆           ┆           ┆          ┆ c36…      │\n",
       "│ Leonie    ┆ I do      ┆ 391766404 ┆ If you    ┆ … ┆ 723777582 ┆ 2024-09-0 ┆ linkedin ┆ 8ff5b192- │\n",
       "│ Monigatti ┆ Machine   ┆           ┆ embed an  ┆   ┆ 439593574 ┆ 7         ┆          ┆ b82d-edcc │\n",
       "│           ┆ Learning  ┆           ┆ entire    ┆   ┆ 4         ┆           ┆          ┆ -5e7a-a4e │\n",
       "│           ┆ at Weavi… ┆           ┆ documen…  ┆   ┆           ┆           ┆          ┆ 19a…      │\n",
       "└───────────┴───────────┴───────────┴───────────┴───┴───────────┴───────────┴──────────┴───────────┘"
      ]
     },
     "execution_count": 9,
     "metadata": {},
     "output_type": "execute_result"
    }
   ],
   "source": [
    "store.get_bookmarks().head(2)\n"
   ]
  },
  {
   "cell_type": "markdown",
   "metadata": {},
   "source": [
    "### Misc: Check data type mapping"
   ]
  },
  {
   "cell_type": "code",
   "execution_count": 10,
   "metadata": {},
   "outputs": [
    {
     "data": {
      "text/plain": [
       "{'author': 'TEXT',\n",
       " 'author_catchline': 'TEXT',\n",
       " 'author_member_id': 'INTEGER',\n",
       " 'post_summary': 'TEXT',\n",
       " 'post_url': 'TEXT',\n",
       " 'post_activity_id': 'INTEGER',\n",
       " 'parsed_date': 'TEXT',\n",
       " 'source': 'TEXT',\n",
       " 'uuid': 'TEXT'}"
      ]
     },
     "execution_count": 10,
     "metadata": {},
     "output_type": "execute_result"
    }
   ],
   "source": [
    "store._infer_column_types(df_bookmarks)"
   ]
  }
 ],
 "metadata": {
  "kernelspec": {
   "display_name": ".venv",
   "language": "python",
   "name": "python3"
  },
  "language_info": {
   "codemirror_mode": {
    "name": "ipython",
    "version": 3
   },
   "file_extension": ".py",
   "mimetype": "text/x-python",
   "name": "python",
   "nbconvert_exporter": "python",
   "pygments_lexer": "ipython3",
   "version": "3.11.0"
  }
 },
 "nbformat": 4,
 "nbformat_minor": 2
}
