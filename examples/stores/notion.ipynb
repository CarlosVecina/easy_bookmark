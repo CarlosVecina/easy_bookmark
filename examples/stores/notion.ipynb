{
 "cells": [
  {
   "cell_type": "code",
   "execution_count": 1,
   "metadata": {},
   "outputs": [],
   "source": [
    "from dotenv import load_dotenv\n",
    "import polars as pl\n",
    "\n",
    "from easy_bookmarks.stores.notion_store import NotionConfig, NotionStore\n",
    "load_dotenv()\n",
    "\n",
    "\n",
    "specific_notion_store = NotionStore(\n",
    "    config=NotionConfig(), table_name=\"demo\", key_field=\"uuid\"\n",
    ")"
   ]
  },
  {
   "cell_type": "code",
   "execution_count": 2,
   "metadata": {},
   "outputs": [],
   "source": [
    "df = pl.DataFrame({\"name\": [\"M.Rajoy\", \"John\"], \"age\": [25, 30], \"uuid\": [\"123\", \"456\"]})"
   ]
  },
  {
   "cell_type": "code",
   "execution_count": 3,
   "metadata": {},
   "outputs": [
    {
     "data": {
      "text/plain": [
       "[String, Int64, String]"
      ]
     },
     "execution_count": 3,
     "metadata": {},
     "output_type": "execute_result"
    }
   ],
   "source": [
    "df.dtypes"
   ]
  },
  {
   "cell_type": "code",
   "execution_count": 4,
   "metadata": {},
   "outputs": [
    {
     "name": "stdout",
     "output_type": "stream",
     "text": [
      "{'name': {'rich_text': {}}, 'age': {'number': {}}, 'uuid': {'title': {}}}\n"
     ]
    }
   ],
   "source": [
    "new_db_id = specific_notion_store.create_table(fields=dict(zip(df.columns, df.dtypes)))"
   ]
  },
  {
   "cell_type": "code",
   "execution_count": 5,
   "metadata": {},
   "outputs": [
    {
     "name": "stdout",
     "output_type": "stream",
     "text": [
      "{'name': 'M.Rajoy', 'age': 25, 'uuid': '123'}\n",
      "{'name': 'John', 'age': 30, 'uuid': '456'}\n"
     ]
    }
   ],
   "source": [
    "for row in df.iter_rows(named=True):\n",
    "    print(row)\n",
    "    specific_notion_store.add_bookmark(row)\n"
   ]
  },
  {
   "cell_type": "markdown",
   "metadata": {},
   "source": [
    "## Current bookmarks"
   ]
  },
  {
   "cell_type": "code",
   "execution_count": 6,
   "metadata": {},
   "outputs": [
    {
     "data": {
      "text/html": [
       "<div><style>\n",
       ".dataframe > thead > tr,\n",
       ".dataframe > tbody > tr {\n",
       "  text-align: right;\n",
       "  white-space: pre-wrap;\n",
       "}\n",
       "</style>\n",
       "<small>shape: (1, 9)</small><table border=\"1\" class=\"dataframe\"><thead><tr><th>author</th><th>author_catchline</th><th>author_member_id</th><th>post_summary</th><th>post_url</th><th>post_activity_id</th><th>parsed_date</th><th>source</th><th>uuid</th></tr><tr><td>str</td><td>str</td><td>i64</td><td>str</td><td>str</td><td>i64</td><td>str</td><td>str</td><td>str</td></tr></thead><tbody><tr><td>&quot;Fred Viole&quot;</td><td>&quot;OVVO Financial Systems | ovvol…</td><td>24191624</td><td>&quot;When people ask, &quot;Why nonparam…</td><td>&quot;https://www.linkedin.com/feed/…</td><td>7238576907531816960</td><td>&quot;2024-09-09&quot;</td><td>&quot;linkedin&quot;</td><td>&quot;eae06dc9-1f42-16bb-cf51-544c36…</td></tr></tbody></table></div>"
      ],
      "text/plain": [
       "shape: (1, 9)\n",
       "┌────────┬────────────┬────────────┬────────────┬───┬───────────┬───────────┬──────────┬───────────┐\n",
       "│ author ┆ author_cat ┆ author_mem ┆ post_summa ┆ … ┆ post_acti ┆ parsed_da ┆ source   ┆ uuid      │\n",
       "│ ---    ┆ chline     ┆ ber_id     ┆ ry         ┆   ┆ vity_id   ┆ te        ┆ ---      ┆ ---       │\n",
       "│ str    ┆ ---        ┆ ---        ┆ ---        ┆   ┆ ---       ┆ ---       ┆ str      ┆ str       │\n",
       "│        ┆ str        ┆ i64        ┆ str        ┆   ┆ i64       ┆ str       ┆          ┆           │\n",
       "╞════════╪════════════╪════════════╪════════════╪═══╪═══════════╪═══════════╪══════════╪═══════════╡\n",
       "│ Fred   ┆ OVVO       ┆ 24191624   ┆ When       ┆ … ┆ 723857690 ┆ 2024-09-0 ┆ linkedin ┆ eae06dc9- │\n",
       "│ Viole  ┆ Financial  ┆            ┆ people     ┆   ┆ 753181696 ┆ 9         ┆          ┆ 1f42-16bb │\n",
       "│        ┆ Systems |  ┆            ┆ ask, \"Why  ┆   ┆ 0         ┆           ┆          ┆ -cf51-544 │\n",
       "│        ┆ ovvol…     ┆            ┆ nonparam…  ┆   ┆           ┆           ┆          ┆ c36…      │\n",
       "└────────┴────────────┴────────────┴────────────┴───┴───────────┴───────────┴──────────┴───────────┘"
      ]
     },
     "execution_count": 6,
     "metadata": {},
     "output_type": "execute_result"
    }
   ],
   "source": [
    "df_bookmarks = pl.read_csv('df_bookmarks_800.csv')\n",
    "df_bookmarks.head(1)"
   ]
  },
  {
   "cell_type": "code",
   "execution_count": 7,
   "metadata": {},
   "outputs": [],
   "source": [
    "linkedin_notion_store = NotionStore(\n",
    "    config=NotionConfig(), table_name=\"LinkedIn\", key_field=\"uuid\"\n",
    ")"
   ]
  },
  {
   "cell_type": "code",
   "execution_count": 8,
   "metadata": {},
   "outputs": [
    {
     "name": "stdout",
     "output_type": "stream",
     "text": [
      "{'author': {'rich_text': {}}, 'author_catchline': {'rich_text': {}}, 'author_member_id': {'number': {}}, 'post_summary': {'rich_text': {}}, 'post_url': {'rich_text': {}}, 'post_activity_id': {'number': {}}, 'parsed_date': {'rich_text': {}}, 'source': {'rich_text': {}}, 'uuid': {'title': {}}}\n"
     ]
    }
   ],
   "source": [
    "new_db_id = linkedin_notion_store.create_table(fields=dict(zip(df_bookmarks.columns, df_bookmarks.dtypes))) "
   ]
  },
  {
   "cell_type": "code",
   "execution_count": null,
   "metadata": {},
   "outputs": [],
   "source": [
    "linkedin_notion_store.add_bookmark_from_df(df_bookmarks)"
   ]
  },
  {
   "cell_type": "code",
   "execution_count": 13,
   "metadata": {},
   "outputs": [
    {
     "data": {
      "text/html": [
       "<div><style>\n",
       ".dataframe > thead > tr,\n",
       ".dataframe > tbody > tr {\n",
       "  text-align: right;\n",
       "  white-space: pre-wrap;\n",
       "}\n",
       "</style>\n",
       "<small>shape: (1, 6)</small><table border=\"1\" class=\"dataframe\"><thead><tr><th>url</th><th>title</th><th>description</th><th>reference_date</th><th>extra_data</th><th>uuid</th></tr><tr><td>str</td><td>str</td><td>str</td><td>str</td><td>str</td><td>str</td></tr></thead><tbody><tr><td>&quot;/paper/llama-omni-seamless-spe…</td><td>&quot;LLaMA-Omni: Seamless Speech In…</td><td>&quot;We build our model based on th…</td><td>&quot;2024-09-10T00:00:00.000000&quot;</td><td>&quot;stars: 834&quot;</td><td>&quot;762e1210-da4e-ea52-e309-836833…</td></tr></tbody></table></div>"
      ],
      "text/plain": [
       "shape: (1, 6)\n",
       "┌─────────────────┬─────────────┬─────────────────┬─────────────────┬────────────┬─────────────────┐\n",
       "│ url             ┆ title       ┆ description     ┆ reference_date  ┆ extra_data ┆ uuid            │\n",
       "│ ---             ┆ ---         ┆ ---             ┆ ---             ┆ ---        ┆ ---             │\n",
       "│ str             ┆ str         ┆ str             ┆ str             ┆ str        ┆ str             │\n",
       "╞═════════════════╪═════════════╪═════════════════╪═════════════════╪════════════╪═════════════════╡\n",
       "│ /paper/llama-om ┆ LLaMA-Omni: ┆ We build our    ┆ 2024-09-10T00:0 ┆ stars: 834 ┆ 762e1210-da4e-e │\n",
       "│ ni-seamless-spe ┆ Seamless    ┆ model based on  ┆ 0:00.000000     ┆            ┆ a52-e309-836833 │\n",
       "│ …               ┆ Speech In…  ┆ th…             ┆                 ┆            ┆ …               │\n",
       "└─────────────────┴─────────────┴─────────────────┴─────────────────┴────────────┴─────────────────┘"
      ]
     },
     "execution_count": 13,
     "metadata": {},
     "output_type": "execute_result"
    }
   ],
   "source": [
    "df_bookmarks = pl.read_csv('df_pwc.csv')\n",
    "df_bookmarks.head(1)"
   ]
  },
  {
   "cell_type": "code",
   "execution_count": 11,
   "metadata": {},
   "outputs": [],
   "source": [
    "pwc_notion_store = NotionStore(\n",
    "    config=NotionConfig(), table_name=\"PapersWithCode\", key_field=\"title\"\n",
    ")"
   ]
  },
  {
   "cell_type": "code",
   "execution_count": 14,
   "metadata": {},
   "outputs": [
    {
     "name": "stdout",
     "output_type": "stream",
     "text": [
      "{'url': {'rich_text': {}}, 'title': {'title': {}}, 'description': {'rich_text': {}}, 'reference_date': {'rich_text': {}}, 'extra_data': {'rich_text': {}}, 'uuid': {'rich_text': {}}}\n",
      "{'url': '/paper/llama-omni-seamless-speech-interaction-with', 'title': 'LLaMA-Omni: Seamless Speech Interaction with Large Language Models', 'description': 'We build our model based on the latest Llama-3. 1-8B-Instruct model.', 'reference_date': '2024-09-10T00:00:00.000000', 'extra_data': 'stars: 834', 'uuid': '762e1210-da4e-ea52-e309-83683353b81f'}\n",
      "{'url': '/paper/pulid-pure-and-lightning-id-customization-via', 'title': 'PuLID: Pure and Lightning ID Customization via Contrastive Alignment', 'description': 'We propose Pure and Lightning ID customization (PuLID), a novel tuning-free ID customization method for text-to-image generation.', 'reference_date': '2024-04-24T00:00:00.000000', 'extra_data': 'stars: 1,456', 'uuid': '104af17e-0771-1ffe-408e-621fae582be3'}\n",
      "{'url': '/paper/paperqa-retrieval-augmented-generative-agent', 'title': 'PaperQA: Retrieval-Augmented Generative Agent for Scientific Research', 'description': 'We present PaperQA, a RAG agent for answering questions over the scientific literature.', 'reference_date': '2023-12-08T00:00:00.000000', 'extra_data': 'stars: 5,319', 'uuid': 'be7881d6-419b-c442-c4f0-e9672f17f8ee'}\n",
      "{'url': '/paper/windows-agent-arena-evaluating-multi-modal-os', 'title': 'Windows Agent Arena: Evaluating Multi-Modal OS Agents at Scale', 'description': \"To demonstrate Windows Agent Arena's capabilities, we also introduce a new multi-modal agent, Navi.\", 'reference_date': '2024-09-12T00:00:00.000000', 'extra_data': 'stars: 115', 'uuid': '02546c1c-ce9a-bbb8-5f13-0be3b24343e7'}\n",
      "{'url': 'https://github.com/codelion/optillm', 'title': 'optillm', 'description': 'Optimizing inference proxy for LLMs', 'reference_date': '2024-09-05T00:00:00.000000', 'extra_data': 'stars: 336', 'uuid': 'f092e519-66d1-56e6-d59a-8117df5e9a66'}\n",
      "{'url': '/paper/mini-omni-language-models-can-hear-talk-while', 'title': 'Mini-Omni: Language Models Can Hear, Talk While Thinking in Streaming', 'description': 'We also introduce the VoiceAssistant-400K dataset to fine-tune models optimized for speech output.', 'reference_date': '2024-08-29T00:00:00.000000', 'extra_data': 'stars: 2,415', 'uuid': 'e9ab59d8-59f1-0f94-b9b1-b8936a17d44c'}\n",
      "{'url': '/paper/agent-workflow-memory', 'title': 'Agent Workflow Memory', 'description': 'Despite the potential of language model-based agents to solve real-world tasks such as web navigation, current methods still struggle with long-horizon tasks with complex action trajectories.', 'reference_date': '2024-09-11T00:00:00.000000', 'extra_data': 'stars: 115', 'uuid': 'ffae1864-cff1-cca0-450d-22f085d05dff'}\n",
      "{'url': '/paper/hi3d-pursuing-high-resolution-image-to-3d', 'title': 'Hi3D: Pursuing High-Resolution Image-to-3D Generation with Video Diffusion Models', 'description': 'Despite having tremendous progress in image-to-3D generation, existing methods still struggle to produce multi-view consistent images with high-resolution textures in detail, especially in the paradigm of 2D diffusion that lacks 3D awareness.', 'reference_date': '2024-09-11T00:00:00.000000', 'extra_data': 'stars: 105', 'uuid': '38f18538-fa37-a316-edcf-b0b49a005646'}\n",
      "{'url': '/paper/do-anything-now-characterizing-and-evaluating', 'title': '\"Do Anything Now\": Characterizing and Evaluating In-The-Wild Jailbreak Prompts on Large Language Models', 'description': 'We hope that our study can facilitate the research community and LLM vendors in promoting safer and regulated LLMs.', 'reference_date': '2023-08-07T00:00:00.000000', 'extra_data': 'stars: 2,069', 'uuid': 'a3553842-d9a5-3d7a-ead8-703ab7d5ca04'}\n",
      "{'url': '/paper/super-monotonic-alignment-search', 'title': 'Super Monotonic Alignment Search', 'description': 'Monotonic alignment search (MAS), introduced by Glow-TTS, is one of the most popular algorithm in TTS to estimate unknown alignments between text and speech.', 'reference_date': '2024-09-12T00:00:00.000000', 'extra_data': 'stars: 93', 'uuid': '13d506c6-07c5-4515-5eaf-95f13891c77e'}\n",
      "{'url': '/paper/flashsplat-2d-to-3d-gaussian-splatting', 'title': 'FlashSplat: 2D to 3D Gaussian Splatting Segmentation Solved Optimally', 'description': 'Extensive experiments demonstrate the efficiency and robustness of our method in segmenting various scenes, and its superior performance in downstream tasks such as object removal and inpainting.', 'reference_date': '2024-09-12T00:00:00.000000', 'extra_data': 'stars: 65', 'uuid': '297b23c8-b48e-6dd4-4a07-24b65c1044cf'}\n",
      "{'url': '/paper/itext2kg-incremental-knowledge-graphs', 'title': 'iText2KG: Incremental Knowledge Graphs Construction Using Large Language Models', 'description': 'Our method demonstrates superior performance compared to baseline methods across three scenarios: converting scientific papers to graphs, websites to graphs, and CVs to graphs.', 'reference_date': '2024-09-05T00:00:00.000000', 'extra_data': 'stars: 304', 'uuid': 'c41eb371-87bc-3a54-19d8-ec31a97b11af'}\n",
      "{'url': '/paper/neuflow-v2-high-efficiency-optical-flow', 'title': 'NeuFlow v2: High-Efficiency Optical Flow Estimation on Edge Devices', 'description': 'In this paper, we propose a highly efficient optical flow method that balances high accuracy with reduced computational demands.', 'reference_date': '2024-08-19T00:00:00.000000', 'extra_data': 'stars: 21', 'uuid': '02db8083-87fe-4e09-f953-8ec80d516c89'}\n",
      "{'url': '/paper/memorag-moving-towards-next-gen-rag-via', 'title': 'MemoRAG: Moving towards Next-Gen RAG Via Memory-Inspired Knowledge Discovery', 'description': 'Retrieval-Augmented Generation (RAG) leverages retrieval tools to access external databases, thereby enhancing the generation quality of large language models (LLMs) through optimized context.', 'reference_date': '2024-09-09T00:00:00.000000', 'extra_data': 'stars: 311', 'uuid': 'a7286478-0f1e-32fb-d60f-373aabe2cd57'}\n",
      "{'url': '/paper/onegen-efficient-one-pass-unified-generation', 'title': 'OneGen: Efficient One-Pass Unified Generation and Retrieval for LLMs', 'description': \"This paper introduces a novel and efficient One-pass Generation and retrieval framework (OneGen), designed to improve LLMs' performance on tasks that require both generation and retrieval.\", 'reference_date': '2024-09-08T00:00:00.000000', 'extra_data': 'stars: 76', 'uuid': 'a7a6ee3b-5689-5ee1-da88-6f84bc68a696'}\n",
      "{'url': '/paper/awq-activation-aware-weight-quantization-for', 'title': 'AWQ: Activation-aware Weight Quantization for LLM Compression and Acceleration', 'description': 'We propose Activation-aware Weight Quantization (AWQ), a hardware-friendly approach for LLM low-bit weight-only quantization.', 'reference_date': '2023-06-01T00:00:00.000000', 'extra_data': 'stars: 1,888', 'uuid': '81b0ab23-36b0-b041-6a73-23054d16d5b6'}\n",
      "{'url': '/paper/dynamic-gaussian-marbles-for-novel-view', 'title': 'Dynamic Gaussian Marbles for Novel View Synthesis of Casual Monocular Videos', 'description': 'We evaluate on the Nvidia Dynamic Scenes dataset and the DyCheck iPhone dataset, and show that Gaussian Marbles significantly outperforms other Gaussian baselines in quality, and is on-par with non-Gaussian representations, all while maintaining the efficiency, compositionality, editability, and tracking benefits of Gaussians.', 'reference_date': '2024-06-26T00:00:00.000000', 'extra_data': 'stars: 65', 'uuid': '37f0652d-1103-23bb-8314-aca89d9ea3e4'}\n",
      "{'url': '/paper/quiet-star-language-models-can-teach', 'title': 'Quiet-STaR: Language Models Can Teach Themselves to Think Before Speaking', 'description': 'Crucially, these improvements require no fine-tuning on these tasks.', 'reference_date': '2024-03-14T00:00:00.000000', 'extra_data': 'stars: 475', 'uuid': '34c1b967-73d0-54b4-cc2f-cc3595349713'}\n",
      "{'url': '/paper/realisdance-equip-controllable-character', 'title': 'RealisDance: Equip controllable character animation with realistic hands', 'description': '2) The hands generated using the DWPose sequence are blurry and unrealistic.', 'reference_date': '2024-09-10T00:00:00.000000', 'extra_data': 'stars: 84', 'uuid': '6153573f-b77a-85a6-b745-85ba04b0fbcf'}\n",
      "{'url': '/paper/gsplat-an-open-source-library-for-gaussian', 'title': 'gsplat: An Open-Source Library for Gaussian Splatting', 'description': 'gsplat is an open-source library designed for training and developing Gaussian Splatting methods.', 'reference_date': '2024-09-10T00:00:00.000000', 'extra_data': 'stars: 1,844', 'uuid': 'cd6d2994-7023-3ec9-2898-287f5366a040'}\n",
      "{'url': '/paper/large-language-model-based-agents-for', 'title': 'Large Language Model-Based Agents for Software Engineering: A Survey', 'description': 'The recent advance in Large Language Models (LLMs) has shaped a new paradigm of AI agents, i. e., LLM-based agents.', 'reference_date': '2024-09-04T00:00:00.000000', 'extra_data': 'stars: 200', 'uuid': 'f95249cf-a4ca-3096-f135-3abe593aa67b'}\n",
      "{'url': '/paper/longcite-enabling-llms-to-generate-fine', 'title': 'LongCite: Enabling LLMs to Generate Fine-grained Citations in Long-context QA', 'description': 'Though current long-context large language models (LLMs) have demonstrated impressive capacities in answering user questions based on extensive text, the lack of citations in their responses makes user verification difficult, leading to concerns about their trustworthiness due to their potential hallucinations.', 'reference_date': '2024-09-04T00:00:00.000000', 'extra_data': 'stars: 222', 'uuid': '85ea9d62-0ce2-1d3f-7265-1899e10bbf41'}\n",
      "{'url': '/paper/omagent-a-multi-modal-agent-framework-for', 'title': 'OmAgent: A Multi-modal Agent Framework for Complex Video Understanding with Task Divide-and-Conquer', 'description': 'Recent advancements in Large Language Models (LLMs) have expanded their capabilities to multimodal contexts, including comprehensive video understanding.', 'reference_date': '2024-06-24T00:00:00.000000', 'extra_data': 'stars: 492', 'uuid': 'ed4427a9-412c-255e-84b4-c6381eab8647'}\n",
      "{'url': '/paper/enhancing-sample-efficiency-and-exploration', 'title': 'Enhancing Sample Efficiency and Exploration in Reinforcement Learning through the Integration of Diffusion Models and Proximal Policy Optimization', 'description': 'Recent advancements in reinforcement learning (RL) have been fueled by large-scale data and deep neural networks, particularly for high-dimensional and complex tasks.', 'reference_date': '2024-09-02T00:00:00.000000', 'extra_data': 'stars: 43', 'uuid': '7a2ec80c-481f-17f0-1966-049d1a43c356'}\n",
      "{'url': '/paper/fine-tuning-diffusion-models-for-enhancing', 'title': 'FaceScore: Benchmarking and Enhancing Face Quality in Human Generation', 'description': 'Targeting addressing such an issue, we first assess the face quality of generations from popular pre-trained DMs with the aid of human annotators and then evaluate the alignment between existing metrics with human judgments.', 'reference_date': '2024-06-24T00:00:00.000000', 'extra_data': 'stars: 35', 'uuid': '65848ca9-517b-4a98-f3bf-b9b264f5e804'}\n",
      "{'url': '/paper/geocalib-learning-single-image-calibration', 'title': 'GeoCalib: Learning Single-image Calibration with Geometric Optimization', 'description': 'This single-image calibration can benefit various downstream applications like image editing and 3D mapping.', 'reference_date': '2024-09-10T00:00:00.000000', 'extra_data': 'stars: 120', 'uuid': '39c01753-06c6-96f8-2af0-500e4f964829'}\n",
      "{'url': '/paper/can-llms-generate-novel-research-ideas-a', 'title': 'Can LLMs Generate Novel Research Ideas? A Large-Scale Human Study with 100+ NLP Researchers', 'description': 'Recent advancements in large language models (LLMs) have sparked optimism about their potential to accelerate scientific discovery, with a growing number of works proposing research agents that autonomously generate and validate new ideas.', 'reference_date': '2024-09-06T00:00:00.000000', 'extra_data': 'stars: 163', 'uuid': '008a8155-5d21-e9df-3f72-a3134b9b749e'}\n",
      "{'url': '/paper/wavtokenizer-an-efficient-acoustic-discrete', 'title': 'WavTokenizer: an Efficient Acoustic Discrete Codec Tokenizer for Audio Language Modeling', 'description': 'Despite the reduced number of tokens, WavTokenizer achieves state-of-the-art reconstruction quality with outstanding UTMOS scores and inherently contains richer semantic information.', 'reference_date': '2024-08-29T00:00:00.000000', 'extra_data': 'stars: 652', 'uuid': '0b352a25-1547-0ff2-e5ae-a71c1223de5d'}\n",
      "{'url': '/paper/radiative-gaussian-splatting-for-efficient-x', 'title': 'Radiative Gaussian Splatting for Efficient X-ray Novel View Synthesis', 'description': 'X-ray is widely applied for transmission imaging due to its stronger penetration than natural light.', 'reference_date': '2024-03-07T00:00:00.000000', 'extra_data': 'stars: 417', 'uuid': '1eb1175b-a5fe-4d0d-d896-05c18ffa64ac'}\n",
      "{'url': '/paper/one-shot-diffusion-mimicker-for-handwritten', 'title': 'One-Shot Diffusion Mimicker for Handwritten Text Generation', 'description': 'Extensive experiments demonstrate that our method can successfully generate handwriting scripts with just one sample reference in multiple languages, even outperforming previous methods using over ten samples.', 'reference_date': '2024-09-06T00:00:00.000000', 'extra_data': 'stars: 128', 'uuid': 'c9ed8f25-8f84-4fbf-4030-72763e259f89'}\n",
      "{'url': '/paper/qihoo-t2x-an-efficiency-focused-diffusion', 'title': 'Qihoo-T2X: An Efficiency-Focused Diffusion Transformer via Proxy Tokens for Text-to-Any-Task', 'description': 'The global self-attention mechanism in diffusion transformers involves redundant computation due to the sparse and redundant nature of visual information, and the attention map of tokens within a spatial window shows significant similarity.', 'reference_date': '2024-09-06T00:00:00.000000', 'extra_data': 'stars: 58', 'uuid': '83164139-9e37-d4b3-f92f-d19209dd1ed4'}\n",
      "{'url': '/paper/instanseg-an-embedding-based-instance', 'title': 'InstanSeg: an embedding-based instance segmentation algorithm optimized for accurate, efficient and portable cell segmentation', 'description': 'Cell and nucleus segmentation are fundamental tasks for quantitative bioimage analysis.', 'reference_date': '2024-08-28T00:00:00.000000', 'extra_data': 'stars: 50', 'uuid': '649f5505-a82d-e304-7808-4d19fd8445a7'}\n",
      "{'url': '/paper/sciagents-automating-scientific-discovery', 'title': 'SciAgents: Automating scientific discovery through multi-agent intelligent graph reasoning', 'description': 'A key challenge in artificial intelligence is the creation of systems capable of autonomously advancing scientific understanding by exploring novel domains, identifying complex patterns, and uncovering previously unseen connections in vast scientific data.', 'reference_date': '2024-09-09T00:00:00.000000', 'extra_data': 'stars: 125', 'uuid': 'b525d76c-8e78-3a16-6872-a2f62aeb305c'}\n",
      "{'url': '/paper/minicpm-unveiling-the-potential-of-small', 'title': 'MiniCPM: Unveiling the Potential of Small Language Models with Scalable Training Strategies', 'description': 'For data scaling, we introduce a Warmup-Stable-Decay (WSD) learning rate scheduler (LRS), conducive to continuous training and domain adaptation.', 'reference_date': '2024-04-09T00:00:00.000000', 'extra_data': 'stars: 6,799', 'uuid': '5cab8022-b2a8-30e9-d34f-655ff9403971'}\n",
      "{'url': '/paper/champ-controllable-and-consistent-human-image', 'title': 'Champ: Controllable and Consistent Human Image Animation with 3D Parametric Guidance', 'description': 'In this study, we introduce a methodology for human image animation by leveraging a 3D human parametric model within a latent diffusion framework to enhance shape alignment and motion guidance in curernt human generative techniques.', 'reference_date': '2024-03-21T00:00:00.000000', 'extra_data': 'stars: 3,920', 'uuid': '358f98e9-00fc-bbb3-e14d-74d4b39dd56f'}\n",
      "{'url': '/paper/internet-of-agents-weaving-a-web-of', 'title': 'Internet of Agents: Weaving a Web of Heterogeneous Agents for Collaborative Intelligence', 'description': 'The rapid advancement of large language models (LLMs) has paved the way for the development of highly capable autonomous agents.', 'reference_date': '2024-07-09T00:00:00.000000', 'extra_data': 'stars: 542', 'uuid': '2dc65b58-ca85-3bee-ed52-59e66d019a54'}\n",
      "{'url': '/paper/dtl-disentangled-transfer-learning-for-visual', 'title': 'DTL: Disentangled Transfer Learning for Visual Recognition', 'description': 'When pre-trained models become rapidly larger, the cost of fine-tuning on downstream tasks steadily increases, too.', 'reference_date': '2023-12-13T00:00:00.000000', 'extra_data': 'stars: 56', 'uuid': 'f29dc9b2-75e7-bb06-6b35-f3785ff40631'}\n",
      "{'url': '/paper/minidrive-more-efficient-vision-language', 'title': 'MiniDrive: More Efficient Vision-Language Models with Multi-Level 2D Features as Text Tokens for Autonomous Driving', 'description': 'Meanwhile, most existing VLMs lack the ability to process multiple images, making it difficult to adapt to multi-camera perception in autonomous driving.', 'reference_date': '2024-09-11T00:00:00.000000', 'extra_data': 'stars: 20', 'uuid': '8518ec2a-0952-2dc5-47cf-7acd62457cbf'}\n",
      "{'url': '/paper/flux-that-plays-music', 'title': 'FLUX that Plays Music', 'description': 'This paper explores a simple extension of diffusion-based rectified flow Transformers for text-to-music generation, termed as FluxMusic.', 'reference_date': '2024-09-01T00:00:00.000000', 'extra_data': 'stars: 1,413', 'uuid': '5fdc778b-d53e-49dc-2fa7-b090a410e388'}\n",
      "{'url': '/paper/agentre-an-agent-based-framework-for', 'title': 'AgentRE: An Agent-Based Framework for Navigating Complex Information Landscapes in Relation Extraction', 'description': 'The relation extraction (RE) in complex scenarios faces challenges such as diverse relation types and ambiguous relations between entities within a single sentence, leading to the poor performance of pure \"text-in, text-out\" language models (LMs).', 'reference_date': '2024-09-03T00:00:00.000000', 'extra_data': 'stars: 29', 'uuid': 'e8d0569e-473a-8196-937b-37a5876cb06b'}\n",
      "{'url': '/paper/fancyvideo-towards-dynamic-and-consistent', 'title': 'FancyVideo: Towards Dynamic and Consistent Video Generation via Cross-frame Textual Guidance', 'description': 'Then, TAR refines the correlation matrix between cross-frame textual conditions and latent features along the time dimension.', 'reference_date': '2024-08-15T00:00:00.000000', 'extra_data': 'stars: 477', 'uuid': '317ff04c-e6b6-b339-8ece-7402252e49a4'}\n",
      "{'url': '/paper/funaudiollm-voice-understanding-and', 'title': 'FunAudioLLM: Voice Understanding and Generation Foundation Models for Natural Interaction Between Humans and LLMs', 'description': 'This report introduces FunAudioLLM, a model family designed to enhance natural voice interactions between humans and large language models (LLMs).', 'reference_date': '2024-07-04T00:00:00.000000', 'extra_data': 'stars: 4,759', 'uuid': '6fb5db79-0b8d-a442-193c-e6fb3668a432'}\n",
      "{'url': '/paper/eegnet-a-compact-convolutional-network-for', 'title': 'EEGNet: A Compact Convolutional Network for EEG-based Brain-Computer Interfaces', 'description': 'We introduce the use of depthwise and separable convolutions to construct an EEG-specific model which encapsulates well-known EEG feature extraction concepts for BCI.', 'reference_date': '2016-11-23T00:00:00.000000', 'extra_data': 'stars: 75', 'uuid': 'b4dc207b-30be-5c0e-ed72-b7515e0aa6e4'}\n",
      "{'url': '/paper/docling-technical-report', 'title': 'Docling Technical Report', 'description': 'This technical report introduces Docling, an easy to use, self-contained, MIT-licensed open-source package for PDF document conversion.', 'reference_date': '2024-08-19T00:00:00.000000', 'extra_data': 'stars: 438', 'uuid': 'a5215de2-df9d-f834-a561-1640bd8494ce'}\n",
      "{'url': '/paper/extended-mind-transformers', 'title': 'Extended Mind Transformers', 'description': 'Pre-trained language models demonstrate general intelligence and common sense, but long inputs quickly become a bottleneck for memorizing information at inference time.', 'reference_date': '2024-06-04T00:00:00.000000', 'extra_data': 'stars: 54', 'uuid': '6e38d99b-a70c-51d9-dd86-6e6cba6a6eab'}\n",
      "{'url': '/paper/ntire-2024-challenge-on-low-light-image', 'title': 'NTIRE 2024 Challenge on Low Light Image Enhancement: Methods and Results', 'description': 'This paper reviews the NTIRE 2024 low light image enhancement challenge, highlighting the proposed solutions and results.', 'reference_date': '2024-04-22T00:00:00.000000', 'extra_data': 'stars: 632', 'uuid': 'e7ace71d-8475-b6a2-3a69-b82808aeb686'}\n",
      "{'url': '/paper/bench2drive-towards-multi-ability', 'title': 'Bench2Drive: Towards Multi-Ability Benchmarking of Closed-Loop End-To-End Autonomous Driving', 'description': 'In an era marked by the rapid scaling of foundation models, autonomous driving technologies are approaching a transformative threshold where end-to-end autonomous driving (E2E-AD) emerges due to its potential of scaling up in the data-driven manner.', 'reference_date': '2024-06-06T00:00:00.000000', 'extra_data': 'stars: 1,130', 'uuid': 'ecc41f72-5aa7-6b56-4f15-261f93cd8862'}\n",
      "{'url': '/paper/selective-reflection-tuning-student-selected', 'title': 'Selective Reflection-Tuning: Student-Selected Data Recycling for LLM Instruction-Tuning', 'description': \"This paper introduces Selective Reflection-Tuning, a novel paradigm that synergizes a teacher LLM's reflection and introspection for improving existing data quality with the data selection capability of the student LLM, to automatically refine existing instruction-tuning data.\", 'reference_date': '2024-02-15T00:00:00.000000', 'extra_data': 'stars: 304', 'uuid': 'a0322d45-6c92-6e1d-f3db-1f4d4f56df0e'}\n",
      "{'url': '/paper/interpretable-machine-learning-for-science', 'title': 'Interpretable Machine Learning for Science with PySR and SymbolicRegression.jl', 'description': 'PySR was developed to democratize and popularize symbolic regression for the sciences, and is built on a high-performance distributed back-end, a flexible search algorithm, and interfaces with several deep learning packages.', 'reference_date': '2023-05-02T00:00:00.000000', 'extra_data': 'stars: 2,266', 'uuid': 'bc9fd709-4e7c-7072-44a6-51993cef9ebd'}\n",
      "{'url': '/paper/2309-06180', 'title': 'Efficient Memory Management for Large Language Model Serving with PagedAttention', 'description': 'On top of it, we build vLLM, an LLM serving system that achieves (1) near-zero waste in KV cache memory and (2) flexible sharing of KV cache within and across requests to further reduce memory usage.', 'reference_date': '2023-09-12T00:00:00.000000', 'extra_data': 'stars: 26,797', 'uuid': '4cb78935-01dc-587b-1030-1a0574300f3a'}\n"
     ]
    }
   ],
   "source": [
    "new_db_id = pwc_notion_store.create_table(fields=dict(zip(df_bookmarks.columns, df_bookmarks.dtypes))) \n",
    "\n",
    "for row in df_bookmarks.iter_rows(named=True):\n",
    "    print(row)\n",
    "    pwc_notion_store.add_bookmark(row)\n",
    "    "
   ]
  }
 ],
 "metadata": {
  "kernelspec": {
   "display_name": "easy-bookmarks-F2L40Ma7-py3.11",
   "language": "python",
   "name": "python3"
  },
  "language_info": {
   "codemirror_mode": {
    "name": "ipython",
    "version": 3
   },
   "file_extension": ".py",
   "mimetype": "text/x-python",
   "name": "python",
   "nbconvert_exporter": "python",
   "pygments_lexer": "ipython3",
   "version": "3.11.0"
  }
 },
 "nbformat": 4,
 "nbformat_minor": 2
}
