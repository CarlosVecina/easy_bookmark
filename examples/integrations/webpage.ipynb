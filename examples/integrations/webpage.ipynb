{
 "cells": [
  {
   "cell_type": "code",
   "execution_count": 3,
   "metadata": {},
   "outputs": [],
   "source": [
    "from bs4 import BeautifulSoup\n",
    "from selenium import webdriver\n",
    "from selenium.webdriver.chrome.options import Options\n",
    "from webdriver_manager.chrome import ChromeDriverManager\n",
    "from selenium.webdriver.support.ui import WebDriverWait\n",
    "from selenium.webdriver.common.by import By\n",
    "from selenium.webdriver.support import expected_conditions as EC\n",
    "import numpy as np\n",
    "\n",
    "from selenium.webdriver.chrome.service import Service\n",
    "\n",
    "\n",
    "def get_driver(use_proxy=False):\n",
    "\n",
    "    chrome_options = Options()\n",
    "    chrome_options = webdriver.ChromeOptions()\n",
    "\n",
    "    if use_proxy:\n",
    "        driver = webdriver.Chrome(ChromeDriverManager().install(), chrome_options=chrome_options)\n",
    "        driver.get(\"https://sslproxies.org/\")\n",
    "        driver.execute_script(\"return arguments[0].scrollIntoView(true);\", WebDriverWait(driver, 20).until(EC.visibility_of_element_located((By.XPATH, \"//table[@class='table table-striped table-bordered dataTable']//th[contains(., 'IP Address')]\"))))\n",
    "        ips = [my_elem.get_attribute(\"innerHTML\") for my_elem in WebDriverWait(driver, 5).until(EC.visibility_of_all_elements_located((By.XPATH, \"//table[@class='table table-striped table-bordered dataTable']//tbody//tr[@role='row']/td[position() = 1]\")))]\n",
    "        ports = [my_elem.get_attribute(\"innerHTML\") for my_elem in WebDriverWait(driver, 5).until(EC.visibility_of_all_elements_located((By.XPATH, \"//table[@class='table table-striped table-bordered dataTable']//tbody//tr[@role='row']/td[position() = 2]\")))]\n",
    "        proxies = []\n",
    "        for i in range(0, len(ips)):\n",
    "            proxies.append(ips[i]+':'+ports[i])\n",
    "        chrome_options = webdriver.ChromeOptions()\n",
    "        i = int(np.random.randint(low=0, high=5, size=(1,)))\n",
    "        chrome_options.add_argument('--proxy-server={}'.format(proxies[i]))\n",
    "        chrome_options.add_argument(\"start-maximized\")\n",
    "        chrome_options.add_experimental_option(\"excludeSwitches\", [\"enable-automation\"])\n",
    "        chrome_options.add_experimental_option('useAutomationExtension', False)\n",
    "\n",
    "    chrome_options.add_argument(\"start-maximized\")\n",
    "    service = Service()\n",
    "    driver = webdriver.Chrome(service=service, options=chrome_options)\n",
    "    driver.execute_cdp_cmd(\"Page.addScriptToEvaluateOnNewDocument\", {\n",
    "    \"source\":\n",
    "        \"const newProto = navigator.__proto__;\"\n",
    "        \"delete newProto.webdriver;\"\n",
    "        \"navigator.__proto__ = newProto;\"\n",
    "    })\n",
    "\n",
    "    return driver"
   ]
  },
  {
   "cell_type": "code",
   "execution_count": 4,
   "metadata": {},
   "outputs": [],
   "source": [
    "driver = get_driver()\n",
    "\n",
    "urls = [\"https://paperswithcode.com/\"]"
   ]
  },
  {
   "cell_type": "code",
   "execution_count": 5,
   "metadata": {},
   "outputs": [],
   "source": [
    "driver.get(urls[0])\n"
   ]
  },
  {
   "cell_type": "code",
   "execution_count": 6,
   "metadata": {},
   "outputs": [],
   "source": [
    "html = driver.page_source\n",
    "soup = BeautifulSoup(html)"
   ]
  },
  {
   "cell_type": "code",
   "execution_count": 9,
   "metadata": {},
   "outputs": [
    {
     "data": {
      "text/plain": [
       "'/paper/llama-omni-seamless-speech-interaction-with'"
      ]
     },
     "execution_count": 9,
     "metadata": {},
     "output_type": "execute_result"
    }
   ],
   "source": [
    "soup.find_all(\"div\", class_ = \"col-lg-9 item-content\")[0].find_all(\"a\")[0].get(\"href\")\n"
   ]
  },
  {
   "cell_type": "code",
   "execution_count": 10,
   "metadata": {},
   "outputs": [
    {
     "data": {
      "text/plain": [
       "'10 Sep 2024'"
      ]
     },
     "execution_count": 10,
     "metadata": {},
     "output_type": "execute_result"
    }
   ],
   "source": [
    "soup.find_all(\"div\", class_ = \"col-lg-9 item-content\")[0].find_all(\"span\", class_=\"author-name-text item-date-pub\")[0].text"
   ]
  },
  {
   "cell_type": "code",
   "execution_count": 11,
   "metadata": {},
   "outputs": [
    {
     "data": {
      "text/plain": [
       "datetime.datetime(2024, 9, 10, 0, 0)"
      ]
     },
     "execution_count": 11,
     "metadata": {},
     "output_type": "execute_result"
    }
   ],
   "source": [
    "import datetime\n",
    "\n",
    "datetime.datetime.strptime(soup.find_all(\"div\", class_ = \"col-lg-9 item-content\")[0].find_all(\"span\", class_=\"author-name-text item-date-pub\")[0].text, \"%d %b %Y\")\n"
   ]
  },
  {
   "cell_type": "code",
   "execution_count": null,
   "metadata": {},
   "outputs": [],
   "source": []
  },
  {
   "cell_type": "code",
   "execution_count": 21,
   "metadata": {},
   "outputs": [
    {
     "data": {
      "text/plain": [
       "'stars: 834'"
      ]
     },
     "execution_count": 21,
     "metadata": {},
     "output_type": "execute_result"
    }
   ],
   "source": [
    "\", \".join(f\"{k}: {v}\" for k,v in {\"stars\":soup.find_all(\"div\", class_ = \"entity-stars\")[0].text.strip()}.items())\n"
   ]
  },
  {
   "cell_type": "code",
   "execution_count": 9,
   "metadata": {},
   "outputs": [
    {
     "data": {
      "text/plain": [
       "'LLaMA-Omni: Seamless Speech Interaction with Large Language Models'"
      ]
     },
     "execution_count": 9,
     "metadata": {},
     "output_type": "execute_result"
    }
   ],
   "source": [
    "soup.find_all(\"div\", class_ = \"row infinite-item item paper-card\")[0].find_all(\"a\")[1].text\n"
   ]
  },
  {
   "cell_type": "code",
   "execution_count": 9,
   "metadata": {},
   "outputs": [
    {
     "data": {
      "text/plain": [
       "'We build our model based on the latest Llama-3. 1-8B-Instruct model.'"
      ]
     },
     "execution_count": 9,
     "metadata": {},
     "output_type": "execute_result"
    }
   ],
   "source": [
    "soup.find_all(\"div\", class_ = \"col-lg-9 item-content\")[0].find_all(\"p\", class_=\"item-strip-abstract\")[0].text\n",
    "\n",
    "\n"
   ]
  },
  {
   "cell_type": "code",
   "execution_count": 10,
   "metadata": {},
   "outputs": [
    {
     "name": "stdout",
     "output_type": "stream",
     "text": [
      "/paper/llama-omni-seamless-speech-interaction-with\n",
      "LLaMA-Omni: Seamless Speech Interaction with Large Language Models\n",
      "We build our model based on the latest Llama-3. 1-8B-Instruct model.\n",
      "/paper/pulid-pure-and-lightning-id-customization-via\n",
      "PuLID: Pure and Lightning ID Customization via Contrastive Alignment\n",
      "We propose Pure and Lightning ID customization (PuLID), a novel tuning-free ID customization method for text-to-image generation.\n",
      "/paper/paperqa-retrieval-augmented-generative-agent\n",
      "PaperQA: Retrieval-Augmented Generative Agent for Scientific Research\n",
      "We present PaperQA, a RAG agent for answering questions over the scientific literature.\n",
      "/paper/windows-agent-arena-evaluating-multi-modal-os\n",
      "Windows Agent Arena: Evaluating Multi-Modal OS Agents at Scale\n",
      "To demonstrate Windows Agent Arena's capabilities, we also introduce a new multi-modal agent, Navi.\n",
      "https://github.com/codelion/optillm\n",
      "optillm\n",
      "Optimizing inference proxy for LLMs\n",
      "/paper/mini-omni-language-models-can-hear-talk-while\n",
      "Mini-Omni: Language Models Can Hear, Talk While Thinking in Streaming\n",
      "We also introduce the VoiceAssistant-400K dataset to fine-tune models optimized for speech output.\n",
      "/paper/agent-workflow-memory\n",
      "Agent Workflow Memory\n",
      "Despite the potential of language model-based agents to solve real-world tasks such as web navigation, current methods still struggle with long-horizon tasks with complex action trajectories.\n",
      "/paper/hi3d-pursuing-high-resolution-image-to-3d\n",
      "Hi3D: Pursuing High-Resolution Image-to-3D Generation with Video Diffusion Models\n",
      "Despite having tremendous progress in image-to-3D generation, existing methods still struggle to produce multi-view consistent images with high-resolution textures in detail, especially in the paradigm of 2D diffusion that lacks 3D awareness.\n",
      "/paper/do-anything-now-characterizing-and-evaluating\n",
      "\"Do Anything Now\": Characterizing and Evaluating In-The-Wild Jailbreak Prompts on Large Language Models\n",
      "We hope that our study can facilitate the research community and LLM vendors in promoting safer and regulated LLMs.\n",
      "/paper/super-monotonic-alignment-search\n",
      "Super Monotonic Alignment Search\n",
      "Monotonic alignment search (MAS), introduced by Glow-TTS, is one of the most popular algorithm in TTS to estimate unknown alignments between text and speech.\n"
     ]
    }
   ],
   "source": [
    "bookmarks = []\n",
    "for element in soup.find_all(\"div\", class_ = \"col-lg-9 item-content\"):\n",
    "    print(element.find_all(\"a\")[0].get(\"href\"))\n",
    "    print(element.find_all(\"a\")[0].text)\n",
    "    print(element.find_all(\"p\", class_=\"item-strip-abstract\")[0].text)\n",
    "    bookmarks.append(\n",
    "        {\n",
    "            \"url\": element.find_all(\"a\")[0].get(\"href\"),\n",
    "            \"title\": element.find_all(\"a\")[0].text,\n",
    "            \"description\": element.find_all(\"p\", class_=\"item-strip-abstract\")[0].text,\n",
    "        }\n",
    "    )"
   ]
  },
  {
   "cell_type": "code",
   "execution_count": 11,
   "metadata": {},
   "outputs": [
    {
     "data": {
      "text/html": [
       "<div><style>\n",
       ".dataframe > thead > tr,\n",
       ".dataframe > tbody > tr {\n",
       "  text-align: right;\n",
       "  white-space: pre-wrap;\n",
       "}\n",
       "</style>\n",
       "<small>shape: (10, 3)</small><table border=\"1\" class=\"dataframe\"><thead><tr><th>url</th><th>title</th><th>description</th></tr><tr><td>str</td><td>str</td><td>str</td></tr></thead><tbody><tr><td>&quot;/paper/llama-omni-seamless-spe…</td><td>&quot;LLaMA-Omni: Seamless Speech In…</td><td>&quot;We build our model based on th…</td></tr><tr><td>&quot;/paper/pulid-pure-and-lightnin…</td><td>&quot;PuLID: Pure and Lightning ID C…</td><td>&quot;We propose Pure and Lightning …</td></tr><tr><td>&quot;/paper/paperqa-retrieval-augme…</td><td>&quot;PaperQA: Retrieval-Augmented G…</td><td>&quot;We present PaperQA, a RAG agen…</td></tr><tr><td>&quot;/paper/windows-agent-arena-eva…</td><td>&quot;Windows Agent Arena: Evaluatin…</td><td>&quot;To demonstrate Windows Agent A…</td></tr><tr><td>&quot;https://github.com/codelion/op…</td><td>&quot;optillm&quot;</td><td>&quot;Optimizing inference proxy for…</td></tr><tr><td>&quot;/paper/mini-omni-language-mode…</td><td>&quot;Mini-Omni: Language Models Can…</td><td>&quot;We also introduce the VoiceAss…</td></tr><tr><td>&quot;/paper/agent-workflow-memory&quot;</td><td>&quot;Agent Workflow Memory&quot;</td><td>&quot;Despite the potential of langu…</td></tr><tr><td>&quot;/paper/hi3d-pursuing-high-reso…</td><td>&quot;Hi3D: Pursuing High-Resolution…</td><td>&quot;Despite having tremendous prog…</td></tr><tr><td>&quot;/paper/do-anything-now-charact…</td><td>&quot;&quot;Do Anything Now&quot;: Characteriz…</td><td>&quot;We hope that our study can fac…</td></tr><tr><td>&quot;/paper/super-monotonic-alignme…</td><td>&quot;Super Monotonic Alignment Sear…</td><td>&quot;Monotonic alignment search (MA…</td></tr></tbody></table></div>"
      ],
      "text/plain": [
       "shape: (10, 3)\n",
       "┌────────────────────────────────┬────────────────────────────────┬────────────────────────────────┐\n",
       "│ url                            ┆ title                          ┆ description                    │\n",
       "│ ---                            ┆ ---                            ┆ ---                            │\n",
       "│ str                            ┆ str                            ┆ str                            │\n",
       "╞════════════════════════════════╪════════════════════════════════╪════════════════════════════════╡\n",
       "│ /paper/llama-omni-seamless-spe ┆ LLaMA-Omni: Seamless Speech    ┆ We build our model based on    │\n",
       "│ …                              ┆ In…                            ┆ th…                            │\n",
       "│ /paper/pulid-pure-and-lightnin ┆ PuLID: Pure and Lightning ID   ┆ We propose Pure and Lightning  │\n",
       "│ …                              ┆ C…                             ┆ …                              │\n",
       "│ /paper/paperqa-retrieval-augme ┆ PaperQA: Retrieval-Augmented   ┆ We present PaperQA, a RAG      │\n",
       "│ …                              ┆ G…                             ┆ agen…                          │\n",
       "│ /paper/windows-agent-arena-eva ┆ Windows Agent Arena:           ┆ To demonstrate Windows Agent   │\n",
       "│ …                              ┆ Evaluatin…                     ┆ A…                             │\n",
       "│ https://github.com/codelion/op ┆ optillm                        ┆ Optimizing inference proxy     │\n",
       "│ …                              ┆                                ┆ for…                           │\n",
       "│ /paper/mini-omni-language-mode ┆ Mini-Omni: Language Models     ┆ We also introduce the          │\n",
       "│ …                              ┆ Can…                           ┆ VoiceAss…                      │\n",
       "│ /paper/agent-workflow-memory   ┆ Agent Workflow Memory          ┆ Despite the potential of       │\n",
       "│                                ┆                                ┆ langu…                         │\n",
       "│ /paper/hi3d-pursuing-high-reso ┆ Hi3D: Pursuing                 ┆ Despite having tremendous      │\n",
       "│ …                              ┆ High-Resolution…               ┆ prog…                          │\n",
       "│ /paper/do-anything-now-charact ┆ \"Do Anything Now\":             ┆ We hope that our study can     │\n",
       "│ …                              ┆ Characteriz…                   ┆ fac…                           │\n",
       "│ /paper/super-monotonic-alignme ┆ Super Monotonic Alignment      ┆ Monotonic alignment search     │\n",
       "│ …                              ┆ Sear…                          ┆ (MA…                           │\n",
       "└────────────────────────────────┴────────────────────────────────┴────────────────────────────────┘"
      ]
     },
     "execution_count": 11,
     "metadata": {},
     "output_type": "execute_result"
    }
   ],
   "source": [
    "import polars as pl\n",
    "\n",
    "pl.DataFrame(bookmarks)\n"
   ]
  },
  {
   "cell_type": "markdown",
   "metadata": {},
   "source": [
    "## Create a component"
   ]
  },
  {
   "cell_type": "code",
   "execution_count": 12,
   "metadata": {},
   "outputs": [],
   "source": [
    "from pydantic import BaseModel\n",
    "\n",
    "class WebpageIntegration(BaseModel):\n",
    "    base_urls: list[str]\n",
    "    driver: webdriver.Chrome = None\n",
    "    soup: BeautifulSoup = None\n",
    "\n",
    "    model_config = {\n",
    "        \"arbitrary_types_allowed\": True\n",
    "    }\n",
    "\n",
    "    def __init__(self, **data):\n",
    "        super().__init__(**data)\n",
    "        if self.driver is None:\n",
    "            self.driver = get_driver()\n",
    "\n",
    "    def load_page(self, url: str):\n",
    "        self.driver.get(url)\n",
    "        html = self.driver.page_source\n",
    "        self.soup = BeautifulSoup(html, 'html.parser')\n",
    "\n",
    "    def get_element_by_selector(self, selector: str, attr: str = None):\n",
    "        element = self.soup.select_one(selector)\n",
    "        if element:\n",
    "            return element.get(attr) if attr else element.text.strip()\n",
    "        return None\n",
    "\n",
    "    def get_elements_by_selector(self, selector: str, attr: str = None):\n",
    "        elements = self.soup.select(selector)\n",
    "        if attr:\n",
    "            return [element.get(attr) for element in elements if element.get(attr)]\n",
    "        return [element.text.strip() for element in elements]\n",
    "\n",
    "    def get_body(self):\n",
    "        return self.get_element_by_selector('body')\n",
    "    \n",
    "    def _compose_bookmark(self, element):\n",
    "        return {\n",
    "            \"url\": element.find_all(\"a\")[0].get(\"href\"),\n",
    "            \"title\": element.find_all(\"a\")[0].text,\n",
    "            \"description\": element.find_all(\"p\", class_=\"item-strip-abstract\")[0].text,\n",
    "        }\n",
    "    \n",
    "    def get_bookmarks(self):\n",
    "        bookmarks = []\n",
    "        for base_url in self.base_urls:\n",
    "            self.load_page(base_url)\n",
    "            for element in self.soup.find_all(\"div\", class_ = \"col-lg-9 item-content\"):\n",
    "                bookmarks.append(self._compose_bookmark(element))\n",
    "        return bookmarks\n",
    "    \n",
    "    def close(self):\n",
    "        if self.driver:\n",
    "            self.driver.quit()\n"
   ]
  },
  {
   "cell_type": "code",
   "execution_count": 14,
   "metadata": {},
   "outputs": [],
   "source": [
    "wbi = WebpageIntegration(base_urls=urls, driver=driver)\n"
   ]
  },
  {
   "cell_type": "code",
   "execution_count": 15,
   "metadata": {},
   "outputs": [
    {
     "data": {
      "text/html": [
       "<div><style>\n",
       ".dataframe > thead > tr,\n",
       ".dataframe > tbody > tr {\n",
       "  text-align: right;\n",
       "  white-space: pre-wrap;\n",
       "}\n",
       "</style>\n",
       "<small>shape: (10, 3)</small><table border=\"1\" class=\"dataframe\"><thead><tr><th>url</th><th>title</th><th>description</th></tr><tr><td>str</td><td>str</td><td>str</td></tr></thead><tbody><tr><td>&quot;/paper/llama-omni-seamless-spe…</td><td>&quot;LLaMA-Omni: Seamless Speech In…</td><td>&quot;We build our model based on th…</td></tr><tr><td>&quot;/paper/pulid-pure-and-lightnin…</td><td>&quot;PuLID: Pure and Lightning ID C…</td><td>&quot;We propose Pure and Lightning …</td></tr><tr><td>&quot;/paper/paperqa-retrieval-augme…</td><td>&quot;PaperQA: Retrieval-Augmented G…</td><td>&quot;We present PaperQA, a RAG agen…</td></tr><tr><td>&quot;/paper/windows-agent-arena-eva…</td><td>&quot;Windows Agent Arena: Evaluatin…</td><td>&quot;To demonstrate Windows Agent A…</td></tr><tr><td>&quot;https://github.com/codelion/op…</td><td>&quot;optillm&quot;</td><td>&quot;Optimizing inference proxy for…</td></tr><tr><td>&quot;/paper/mini-omni-language-mode…</td><td>&quot;Mini-Omni: Language Models Can…</td><td>&quot;We also introduce the VoiceAss…</td></tr><tr><td>&quot;/paper/agent-workflow-memory&quot;</td><td>&quot;Agent Workflow Memory&quot;</td><td>&quot;Despite the potential of langu…</td></tr><tr><td>&quot;/paper/hi3d-pursuing-high-reso…</td><td>&quot;Hi3D: Pursuing High-Resolution…</td><td>&quot;Despite having tremendous prog…</td></tr><tr><td>&quot;/paper/do-anything-now-charact…</td><td>&quot;&quot;Do Anything Now&quot;: Characteriz…</td><td>&quot;We hope that our study can fac…</td></tr><tr><td>&quot;/paper/super-monotonic-alignme…</td><td>&quot;Super Monotonic Alignment Sear…</td><td>&quot;Monotonic alignment search (MA…</td></tr></tbody></table></div>"
      ],
      "text/plain": [
       "shape: (10, 3)\n",
       "┌────────────────────────────────┬────────────────────────────────┬────────────────────────────────┐\n",
       "│ url                            ┆ title                          ┆ description                    │\n",
       "│ ---                            ┆ ---                            ┆ ---                            │\n",
       "│ str                            ┆ str                            ┆ str                            │\n",
       "╞════════════════════════════════╪════════════════════════════════╪════════════════════════════════╡\n",
       "│ /paper/llama-omni-seamless-spe ┆ LLaMA-Omni: Seamless Speech    ┆ We build our model based on    │\n",
       "│ …                              ┆ In…                            ┆ th…                            │\n",
       "│ /paper/pulid-pure-and-lightnin ┆ PuLID: Pure and Lightning ID   ┆ We propose Pure and Lightning  │\n",
       "│ …                              ┆ C…                             ┆ …                              │\n",
       "│ /paper/paperqa-retrieval-augme ┆ PaperQA: Retrieval-Augmented   ┆ We present PaperQA, a RAG      │\n",
       "│ …                              ┆ G…                             ┆ agen…                          │\n",
       "│ /paper/windows-agent-arena-eva ┆ Windows Agent Arena:           ┆ To demonstrate Windows Agent   │\n",
       "│ …                              ┆ Evaluatin…                     ┆ A…                             │\n",
       "│ https://github.com/codelion/op ┆ optillm                        ┆ Optimizing inference proxy     │\n",
       "│ …                              ┆                                ┆ for…                           │\n",
       "│ /paper/mini-omni-language-mode ┆ Mini-Omni: Language Models     ┆ We also introduce the          │\n",
       "│ …                              ┆ Can…                           ┆ VoiceAss…                      │\n",
       "│ /paper/agent-workflow-memory   ┆ Agent Workflow Memory          ┆ Despite the potential of       │\n",
       "│                                ┆                                ┆ langu…                         │\n",
       "│ /paper/hi3d-pursuing-high-reso ┆ Hi3D: Pursuing                 ┆ Despite having tremendous      │\n",
       "│ …                              ┆ High-Resolution…               ┆ prog…                          │\n",
       "│ /paper/do-anything-now-charact ┆ \"Do Anything Now\":             ┆ We hope that our study can     │\n",
       "│ …                              ┆ Characteriz…                   ┆ fac…                           │\n",
       "│ /paper/super-monotonic-alignme ┆ Super Monotonic Alignment      ┆ Monotonic alignment search     │\n",
       "│ …                              ┆ Sear…                          ┆ (MA…                           │\n",
       "└────────────────────────────────┴────────────────────────────────┴────────────────────────────────┘"
      ]
     },
     "execution_count": 15,
     "metadata": {},
     "output_type": "execute_result"
    }
   ],
   "source": [
    "l_bookmarks = wbi.get_bookmarks()\n",
    "\n",
    "pl.DataFrame(l_bookmarks)\n"
   ]
  },
  {
   "cell_type": "markdown",
   "metadata": {},
   "source": [
    "## Import current implementation"
   ]
  },
  {
   "cell_type": "code",
   "execution_count": 2,
   "metadata": {},
   "outputs": [
    {
     "name": "stderr",
     "output_type": "stream",
     "text": [
      "There was an error managing chromedriver (error sending request for url (https://googlechromelabs.github.io/chrome-for-testing/known-good-versions-with-downloads.json)); using driver found in the cache\n",
      "Error sending stats to Plausible: error sending request for url (https://plausible.io/api/event)\n"
     ]
    }
   ],
   "source": [
    "from easy_bookmarks.integrations.webpage import PwCWebpageIntegration\n",
    "\n",
    "pwc = PwCWebpageIntegration(n_pages=5)\n",
    "\n",
    "l_bookmarks = pwc.get_bookmarks()\n",
    "\n"
   ]
  },
  {
   "cell_type": "code",
   "execution_count": 2,
   "metadata": {},
   "outputs": [
    {
     "data": {
      "text/plain": [
       "['https://paperswithcode.com/?page=1']"
      ]
     },
     "execution_count": 2,
     "metadata": {},
     "output_type": "execute_result"
    }
   ],
   "source": [
    "pwc.base_urls"
   ]
  },
  {
   "cell_type": "code",
   "execution_count": 3,
   "metadata": {},
   "outputs": [
    {
     "data": {
      "text/html": [
       "<div><style>\n",
       ".dataframe > thead > tr,\n",
       ".dataframe > tbody > tr {\n",
       "  text-align: right;\n",
       "  white-space: pre-wrap;\n",
       "}\n",
       "</style>\n",
       "<small>shape: (50, 6)</small><table border=\"1\" class=\"dataframe\"><thead><tr><th>url</th><th>title</th><th>description</th><th>reference_date</th><th>extra_data</th><th>uuid</th></tr><tr><td>str</td><td>str</td><td>str</td><td>datetime[μs]</td><td>str</td><td>str</td></tr></thead><tbody><tr><td>&quot;/paper/llama-omni-seamless-spe…</td><td>&quot;LLaMA-Omni: Seamless Speech In…</td><td>&quot;We build our model based on th…</td><td>2024-09-10 00:00:00</td><td>&quot;stars: 834&quot;</td><td>&quot;762e1210-da4e-ea52-e309-836833…</td></tr><tr><td>&quot;/paper/pulid-pure-and-lightnin…</td><td>&quot;PuLID: Pure and Lightning ID C…</td><td>&quot;We propose Pure and Lightning …</td><td>2024-04-24 00:00:00</td><td>&quot;stars: 1,456&quot;</td><td>&quot;104af17e-0771-1ffe-408e-621fae…</td></tr><tr><td>&quot;/paper/paperqa-retrieval-augme…</td><td>&quot;PaperQA: Retrieval-Augmented G…</td><td>&quot;We present PaperQA, a RAG agen…</td><td>2023-12-08 00:00:00</td><td>&quot;stars: 5,319&quot;</td><td>&quot;be7881d6-419b-c442-c4f0-e9672f…</td></tr><tr><td>&quot;/paper/windows-agent-arena-eva…</td><td>&quot;Windows Agent Arena: Evaluatin…</td><td>&quot;To demonstrate Windows Agent A…</td><td>2024-09-12 00:00:00</td><td>&quot;stars: 115&quot;</td><td>&quot;02546c1c-ce9a-bbb8-5f13-0be3b2…</td></tr><tr><td>&quot;https://github.com/codelion/op…</td><td>&quot;optillm&quot;</td><td>&quot;Optimizing inference proxy for…</td><td>2024-09-05 00:00:00</td><td>&quot;stars: 336&quot;</td><td>&quot;f092e519-66d1-56e6-d59a-8117df…</td></tr><tr><td>&hellip;</td><td>&hellip;</td><td>&hellip;</td><td>&hellip;</td><td>&hellip;</td><td>&hellip;</td></tr><tr><td>&quot;/paper/ntire-2024-challenge-on…</td><td>&quot;NTIRE 2024 Challenge on Low Li…</td><td>&quot;This paper reviews the NTIRE 2…</td><td>2024-04-22 00:00:00</td><td>&quot;stars: 632&quot;</td><td>&quot;e7ace71d-8475-b6a2-3a69-b82808…</td></tr><tr><td>&quot;/paper/bench2drive-towards-mul…</td><td>&quot;Bench2Drive: Towards Multi-Abi…</td><td>&quot;In an era marked by the rapid …</td><td>2024-06-06 00:00:00</td><td>&quot;stars: 1,130&quot;</td><td>&quot;ecc41f72-5aa7-6b56-4f15-261f93…</td></tr><tr><td>&quot;/paper/selective-reflection-tu…</td><td>&quot;Selective Reflection-Tuning: S…</td><td>&quot;This paper introduces Selectiv…</td><td>2024-02-15 00:00:00</td><td>&quot;stars: 304&quot;</td><td>&quot;a0322d45-6c92-6e1d-f3db-1f4d4f…</td></tr><tr><td>&quot;/paper/interpretable-machine-l…</td><td>&quot;Interpretable Machine Learning…</td><td>&quot;PySR was developed to democrat…</td><td>2023-05-02 00:00:00</td><td>&quot;stars: 2,266&quot;</td><td>&quot;bc9fd709-4e7c-7072-44a6-51993c…</td></tr><tr><td>&quot;/paper/2309-06180&quot;</td><td>&quot;Efficient Memory Management fo…</td><td>&quot;On top of it, we build vLLM, a…</td><td>2023-09-12 00:00:00</td><td>&quot;stars: 26,797&quot;</td><td>&quot;4cb78935-01dc-587b-1030-1a0574…</td></tr></tbody></table></div>"
      ],
      "text/plain": [
       "shape: (50, 6)\n",
       "┌────────────────┬────────────────┬────────────────┬───────────────┬───────────────┬───────────────┐\n",
       "│ url            ┆ title          ┆ description    ┆ reference_dat ┆ extra_data    ┆ uuid          │\n",
       "│ ---            ┆ ---            ┆ ---            ┆ e             ┆ ---           ┆ ---           │\n",
       "│ str            ┆ str            ┆ str            ┆ ---           ┆ str           ┆ str           │\n",
       "│                ┆                ┆                ┆ datetime[μs]  ┆               ┆               │\n",
       "╞════════════════╪════════════════╪════════════════╪═══════════════╪═══════════════╪═══════════════╡\n",
       "│ /paper/llama-o ┆ LLaMA-Omni:    ┆ We build our   ┆ 2024-09-10    ┆ stars: 834    ┆ 762e1210-da4e │\n",
       "│ mni-seamless-s ┆ Seamless       ┆ model based on ┆ 00:00:00      ┆               ┆ -ea52-e309-83 │\n",
       "│ pe…            ┆ Speech In…     ┆ th…            ┆               ┆               ┆ 6833…         │\n",
       "│ /paper/pulid-p ┆ PuLID: Pure    ┆ We propose     ┆ 2024-04-24    ┆ stars: 1,456  ┆ 104af17e-0771 │\n",
       "│ ure-and-lightn ┆ and Lightning  ┆ Pure and       ┆ 00:00:00      ┆               ┆ -1ffe-408e-62 │\n",
       "│ in…            ┆ ID C…          ┆ Lightning …    ┆               ┆               ┆ 1fae…         │\n",
       "│ /paper/paperqa ┆ PaperQA: Retri ┆ We present     ┆ 2023-12-08    ┆ stars: 5,319  ┆ be7881d6-419b │\n",
       "│ -retrieval-aug ┆ eval-Augmented ┆ PaperQA, a RAG ┆ 00:00:00      ┆               ┆ -c442-c4f0-e9 │\n",
       "│ me…            ┆ G…             ┆ agen…          ┆               ┆               ┆ 672f…         │\n",
       "│ /paper/windows ┆ Windows Agent  ┆ To demonstrate ┆ 2024-09-12    ┆ stars: 115    ┆ 02546c1c-ce9a │\n",
       "│ -agent-arena-e ┆ Arena:         ┆ Windows Agent  ┆ 00:00:00      ┆               ┆ -bbb8-5f13-0b │\n",
       "│ va…            ┆ Evaluatin…     ┆ A…             ┆               ┆               ┆ e3b2…         │\n",
       "│ https://github ┆ optillm        ┆ Optimizing     ┆ 2024-09-05    ┆ stars: 336    ┆ f092e519-66d1 │\n",
       "│ .com/codelion/ ┆                ┆ inference      ┆ 00:00:00      ┆               ┆ -56e6-d59a-81 │\n",
       "│ op…            ┆                ┆ proxy for…     ┆               ┆               ┆ 17df…         │\n",
       "│ …              ┆ …              ┆ …              ┆ …             ┆ …             ┆ …             │\n",
       "│ /paper/ntire-2 ┆ NTIRE 2024     ┆ This paper     ┆ 2024-04-22    ┆ stars: 632    ┆ e7ace71d-8475 │\n",
       "│ 024-challenge- ┆ Challenge on   ┆ reviews the    ┆ 00:00:00      ┆               ┆ -b6a2-3a69-b8 │\n",
       "│ on…            ┆ Low Li…        ┆ NTIRE 2…       ┆               ┆               ┆ 2808…         │\n",
       "│ /paper/bench2d ┆ Bench2Drive:   ┆ In an era      ┆ 2024-06-06    ┆ stars: 1,130  ┆ ecc41f72-5aa7 │\n",
       "│ rive-towards-m ┆ Towards        ┆ marked by the  ┆ 00:00:00      ┆               ┆ -6b56-4f15-26 │\n",
       "│ ul…            ┆ Multi-Abi…     ┆ rapid …        ┆               ┆               ┆ 1f93…         │\n",
       "│ /paper/selecti ┆ Selective Refl ┆ This paper     ┆ 2024-02-15    ┆ stars: 304    ┆ a0322d45-6c92 │\n",
       "│ ve-reflection- ┆ ection-Tuning: ┆ introduces     ┆ 00:00:00      ┆               ┆ -6e1d-f3db-1f │\n",
       "│ tu…            ┆ S…             ┆ Selectiv…      ┆               ┆               ┆ 4d4f…         │\n",
       "│ /paper/interpr ┆ Interpretable  ┆ PySR was       ┆ 2023-05-02    ┆ stars: 2,266  ┆ bc9fd709-4e7c │\n",
       "│ etable-machine ┆ Machine        ┆ developed to   ┆ 00:00:00      ┆               ┆ -7072-44a6-51 │\n",
       "│ -l…            ┆ Learning…      ┆ democrat…      ┆               ┆               ┆ 993c…         │\n",
       "│ /paper/2309-06 ┆ Efficient      ┆ On top of it,  ┆ 2023-09-12    ┆ stars: 26,797 ┆ 4cb78935-01dc │\n",
       "│ 180            ┆ Memory         ┆ we build vLLM, ┆ 00:00:00      ┆               ┆ -587b-1030-1a │\n",
       "│                ┆ Management fo… ┆ a…             ┆               ┆               ┆ 0574…         │\n",
       "└────────────────┴────────────────┴────────────────┴───────────────┴───────────────┴───────────────┘"
      ]
     },
     "execution_count": 3,
     "metadata": {},
     "output_type": "execute_result"
    }
   ],
   "source": [
    "df = l_bookmarks.to_polars_dataframe()\n",
    "df"
   ]
  },
  {
   "cell_type": "code",
   "execution_count": 4,
   "metadata": {},
   "outputs": [],
   "source": [
    "df.write_csv(\"df_pwc.csv\")"
   ]
  },
  {
   "cell_type": "code",
   "execution_count": 1,
   "metadata": {},
   "outputs": [
    {
     "ename": "NameError",
     "evalue": "name 'pwc' is not defined",
     "output_type": "error",
     "traceback": [
      "\u001b[1;31m---------------------------------------------------------------------------\u001b[0m",
      "\u001b[1;31mNameError\u001b[0m                                 Traceback (most recent call last)",
      "Cell \u001b[1;32mIn[1], line 3\u001b[0m\n\u001b[0;32m      1\u001b[0m \u001b[38;5;28;01mfrom\u001b[39;00m \u001b[38;5;21;01measy_bookmarks\u001b[39;00m\u001b[38;5;21;01m.\u001b[39;00m\u001b[38;5;21;01mintegrations\u001b[39;00m\u001b[38;5;21;01m.\u001b[39;00m\u001b[38;5;21;01mwebpage\u001b[39;00m \u001b[38;5;28;01mimport\u001b[39;00m PwCWebpageIntegration\n\u001b[1;32m----> 3\u001b[0m pwc \u001b[38;5;241m=\u001b[39m PwCWebpageIntegration(base_urls\u001b[38;5;241m=\u001b[39m[\u001b[38;5;124m\"\u001b[39m\u001b[38;5;124mhttps://paperswithcode.com/latest/\u001b[39m\u001b[38;5;124m\"\u001b[39m], n_pages\u001b[38;5;241m=\u001b[39m\u001b[38;5;241m5\u001b[39m, driver\u001b[38;5;241m=\u001b[39m\u001b[43mpwc\u001b[49m\u001b[38;5;241m.\u001b[39mdriver)\n\u001b[0;32m      5\u001b[0m l_bookmarks \u001b[38;5;241m=\u001b[39m pwc\u001b[38;5;241m.\u001b[39mget_bookmarks()\n",
      "\u001b[1;31mNameError\u001b[0m: name 'pwc' is not defined"
     ]
    }
   ],
   "source": [
    "from easy_bookmarks.integrations.webpage import PwCWebpageIntegration\n",
    "\n",
    "pwc = PwCWebpageIntegration(base_urls=[\"https://paperswithcode.com/latest/\"], n_pages=5, driver=pwc.driver)\n",
    "\n",
    "l_bookmarks = pwc.get_bookmarks()"
   ]
  },
  {
   "cell_type": "code",
   "execution_count": 3,
   "metadata": {},
   "outputs": [
    {
     "data": {
      "text/plain": [
       "['https://paperswithcode.com/latest/?page=1']"
      ]
     },
     "execution_count": 3,
     "metadata": {},
     "output_type": "execute_result"
    }
   ],
   "source": [
    "pwc.base_urls"
   ]
  },
  {
   "cell_type": "code",
   "execution_count": 4,
   "metadata": {},
   "outputs": [
    {
     "data": {
      "text/html": [
       "<div><style>\n",
       ".dataframe > thead > tr,\n",
       ".dataframe > tbody > tr {\n",
       "  text-align: right;\n",
       "  white-space: pre-wrap;\n",
       "}\n",
       "</style>\n",
       "<small>shape: (10, 5)</small><table border=\"1\" class=\"dataframe\"><thead><tr><th>url</th><th>title</th><th>description</th><th>reference_date</th><th>uuid</th></tr><tr><td>str</td><td>str</td><td>str</td><td>datetime[μs]</td><td>str</td></tr></thead><tbody><tr><td>&quot;/paper/aceparse-a-comprehensiv…</td><td>&quot;AceParse: A Comprehensive Data…</td><td>&quot;With the development of data-c…</td><td>2024-09-16 00:00:00</td><td>&quot;3bf87fc3-dcd7-dffa-c82f-89575d…</td></tr><tr><td>&quot;/paper/biomimetic-frontend-for…</td><td>&quot;Biomimetic Frontend for Differ…</td><td>&quot;While models in audio and spee…</td><td>2024-09-13 00:00:00</td><td>&quot;df1484bb-2a96-dcc2-f76b-cd057f…</td></tr><tr><td>&quot;/paper/casdyf-net-image-dehazi…</td><td>&quot;CasDyF-Net: Image Dehazing via…</td><td>&quot;Inspired by dynamic filtering,…</td><td>2024-09-13 00:00:00</td><td>&quot;4ca610d4-b50d-31a0-4903-58a608…</td></tr><tr><td>&quot;/paper/shadow-program-inversio…</td><td>&quot;Shadow Program Inversion with …</td><td>&quot;This paper presents SPI-DP, a …</td><td>2024-09-13 00:00:00</td><td>&quot;71752aee-10a0-2e39-98ce-ac8139…</td></tr><tr><td>&quot;/paper/when-context-leads-but-…</td><td>&quot;When Context Leads but Paramet…</td><td>&quot;Large language models (LLMs) h…</td><td>2024-09-13 00:00:00</td><td>&quot;0350922f-a714-a0ea-9c75-99f78d…</td></tr><tr><td>&quot;/paper/integrating-neural-oper…</td><td>&quot;Integrating Neural Operators w…</td><td>&quot;We integrate neural operators …</td><td>2024-09-13 00:00:00</td><td>&quot;1c62bf7a-7427-2923-69aa-67e801…</td></tr><tr><td>&quot;/paper/exploiting-supervised-p…</td><td>&quot;Exploiting Supervised Poison V…</td><td>&quot;Availability poisons exploit s…</td><td>2024-09-13 00:00:00</td><td>&quot;60ee20a5-9fd8-1d84-ebae-8f0405…</td></tr><tr><td>&quot;/paper/in-depth-analysis-of-lo…</td><td>&quot;In-depth Analysis of Low-rank …</td><td>&quot;We provide a linear rate of co…</td><td>2024-09-13 00:00:00</td><td>&quot;1c664a84-88e0-99c1-58bf-f13247…</td></tr><tr><td>&quot;/paper/mapx-an-explainable-mod…</td><td>&quot;MAPX: An explainable model-agn…</td><td>&quot;The automated detection of fal…</td><td>2024-09-13 00:00:00</td><td>&quot;07daa2c8-d53e-df6b-52ff-3a886e…</td></tr><tr><td>&quot;/paper/sgformer-single-layer-g…</td><td>&quot;SGFormer: Single-Layer Graph T…</td><td>&quot;Learning representations on la…</td><td>2024-09-13 00:00:00</td><td>&quot;6cffe72e-4a51-2c92-7553-e7aa73…</td></tr></tbody></table></div>"
      ],
      "text/plain": [
       "shape: (10, 5)\n",
       "┌───────────────────┬───────────────────┬───────────────────┬───────────────────┬──────────────────┐\n",
       "│ url               ┆ title             ┆ description       ┆ reference_date    ┆ uuid             │\n",
       "│ ---               ┆ ---               ┆ ---               ┆ ---               ┆ ---              │\n",
       "│ str               ┆ str               ┆ str               ┆ datetime[μs]      ┆ str              │\n",
       "╞═══════════════════╪═══════════════════╪═══════════════════╪═══════════════════╪══════════════════╡\n",
       "│ /paper/aceparse-a ┆ AceParse: A       ┆ With the          ┆ 2024-09-16        ┆ 3bf87fc3-dcd7-df │\n",
       "│ -comprehensiv…    ┆ Comprehensive     ┆ development of    ┆ 00:00:00          ┆ fa-c82f-89575d…  │\n",
       "│                   ┆ Data…             ┆ data-c…           ┆                   ┆                  │\n",
       "│ /paper/biomimetic ┆ Biomimetic        ┆ While models in   ┆ 2024-09-13        ┆ df1484bb-2a96-dc │\n",
       "│ -frontend-for…    ┆ Frontend for      ┆ audio and spee…   ┆ 00:00:00          ┆ c2-f76b-cd057f…  │\n",
       "│                   ┆ Differ…           ┆                   ┆                   ┆                  │\n",
       "│ /paper/casdyf-net ┆ CasDyF-Net: Image ┆ Inspired by       ┆ 2024-09-13        ┆ 4ca610d4-b50d-31 │\n",
       "│ -image-dehazi…    ┆ Dehazing via…     ┆ dynamic           ┆ 00:00:00          ┆ a0-4903-58a608…  │\n",
       "│                   ┆                   ┆ filtering,…       ┆                   ┆                  │\n",
       "│ /paper/shadow-pro ┆ Shadow Program    ┆ This paper        ┆ 2024-09-13        ┆ 71752aee-10a0-2e │\n",
       "│ gram-inversio…    ┆ Inversion with …  ┆ presents SPI-DP,  ┆ 00:00:00          ┆ 39-98ce-ac8139…  │\n",
       "│                   ┆                   ┆ a …               ┆                   ┆                  │\n",
       "│ /paper/when-conte ┆ When Context      ┆ Large language    ┆ 2024-09-13        ┆ 0350922f-a714-a0 │\n",
       "│ xt-leads-but-…    ┆ Leads but         ┆ models (LLMs) h…  ┆ 00:00:00          ┆ ea-9c75-99f78d…  │\n",
       "│                   ┆ Paramet…          ┆                   ┆                   ┆                  │\n",
       "│ /paper/integratin ┆ Integrating       ┆ We integrate      ┆ 2024-09-13        ┆ 1c62bf7a-7427-29 │\n",
       "│ g-neural-oper…    ┆ Neural Operators  ┆ neural operators  ┆ 00:00:00          ┆ 23-69aa-67e801…  │\n",
       "│                   ┆ w…                ┆ …                 ┆                   ┆                  │\n",
       "│ /paper/exploiting ┆ Exploiting        ┆ Availability      ┆ 2024-09-13        ┆ 60ee20a5-9fd8-1d │\n",
       "│ -supervised-p…    ┆ Supervised Poison ┆ poisons exploit   ┆ 00:00:00          ┆ 84-ebae-8f0405…  │\n",
       "│                   ┆ V…                ┆ s…                ┆                   ┆                  │\n",
       "│ /paper/in-depth-a ┆ In-depth Analysis ┆ We provide a      ┆ 2024-09-13        ┆ 1c664a84-88e0-99 │\n",
       "│ nalysis-of-lo…    ┆ of Low-rank …     ┆ linear rate of    ┆ 00:00:00          ┆ c1-58bf-f13247…  │\n",
       "│                   ┆                   ┆ co…               ┆                   ┆                  │\n",
       "│ /paper/mapx-an-ex ┆ MAPX: An          ┆ The automated     ┆ 2024-09-13        ┆ 07daa2c8-d53e-df │\n",
       "│ plainable-mod…    ┆ explainable       ┆ detection of fal… ┆ 00:00:00          ┆ 6b-52ff-3a886e…  │\n",
       "│                   ┆ model-agn…        ┆                   ┆                   ┆                  │\n",
       "│ /paper/sgformer-s ┆ SGFormer:         ┆ Learning          ┆ 2024-09-13        ┆ 6cffe72e-4a51-2c │\n",
       "│ ingle-layer-g…    ┆ Single-Layer      ┆ representations   ┆ 00:00:00          ┆ 92-7553-e7aa73…  │\n",
       "│                   ┆ Graph T…          ┆ on la…            ┆                   ┆                  │\n",
       "└───────────────────┴───────────────────┴───────────────────┴───────────────────┴──────────────────┘"
      ]
     },
     "execution_count": 4,
     "metadata": {},
     "output_type": "execute_result"
    }
   ],
   "source": [
    "l_bookmarks.to_polars_dataframe()"
   ]
  },
  {
   "cell_type": "code",
   "execution_count": null,
   "metadata": {},
   "outputs": [],
   "source": []
  }
 ],
 "metadata": {
  "kernelspec": {
   "display_name": "easy-bookmarks-F2L40Ma7-py3.11",
   "language": "python",
   "name": "python3"
  },
  "language_info": {
   "codemirror_mode": {
    "name": "ipython",
    "version": 3
   },
   "file_extension": ".py",
   "mimetype": "text/x-python",
   "name": "python",
   "nbconvert_exporter": "python",
   "pygments_lexer": "ipython3",
   "version": "3.11.0"
  }
 },
 "nbformat": 4,
 "nbformat_minor": 2
}
