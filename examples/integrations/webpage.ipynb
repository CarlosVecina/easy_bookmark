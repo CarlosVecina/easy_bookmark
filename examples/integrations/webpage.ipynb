{
 "cells": [
  {
   "cell_type": "code",
   "execution_count": 3,
   "metadata": {},
   "outputs": [],
   "source": [
    "from bs4 import BeautifulSoup\n",
    "from selenium import webdriver\n",
    "from selenium.webdriver.chrome.options import Options\n",
    "from webdriver_manager.chrome import ChromeDriverManager\n",
    "from selenium.webdriver.support.ui import WebDriverWait\n",
    "from selenium.webdriver.common.by import By\n",
    "from selenium.webdriver.support import expected_conditions as EC\n",
    "import numpy as np\n",
    "\n",
    "from selenium.webdriver.chrome.service import Service\n",
    "\n",
    "\n",
    "def get_driver(use_proxy=False):\n",
    "\n",
    "    chrome_options = Options()\n",
    "    chrome_options = webdriver.ChromeOptions()\n",
    "\n",
    "    if use_proxy:\n",
    "        driver = webdriver.Chrome(ChromeDriverManager().install(), chrome_options=chrome_options)\n",
    "        driver.get(\"https://sslproxies.org/\")\n",
    "        driver.execute_script(\"return arguments[0].scrollIntoView(true);\", WebDriverWait(driver, 20).until(EC.visibility_of_element_located((By.XPATH, \"//table[@class='table table-striped table-bordered dataTable']//th[contains(., 'IP Address')]\"))))\n",
    "        ips = [my_elem.get_attribute(\"innerHTML\") for my_elem in WebDriverWait(driver, 5).until(EC.visibility_of_all_elements_located((By.XPATH, \"//table[@class='table table-striped table-bordered dataTable']//tbody//tr[@role='row']/td[position() = 1]\")))]\n",
    "        ports = [my_elem.get_attribute(\"innerHTML\") for my_elem in WebDriverWait(driver, 5).until(EC.visibility_of_all_elements_located((By.XPATH, \"//table[@class='table table-striped table-bordered dataTable']//tbody//tr[@role='row']/td[position() = 2]\")))]\n",
    "        proxies = []\n",
    "        for i in range(0, len(ips)):\n",
    "            proxies.append(ips[i]+':'+ports[i])\n",
    "        chrome_options = webdriver.ChromeOptions()\n",
    "        i = int(np.random.randint(low=0, high=5, size=(1,)))\n",
    "        chrome_options.add_argument('--proxy-server={}'.format(proxies[i]))\n",
    "        chrome_options.add_argument(\"start-maximized\")\n",
    "        chrome_options.add_experimental_option(\"excludeSwitches\", [\"enable-automation\"])\n",
    "        chrome_options.add_experimental_option('useAutomationExtension', False)\n",
    "\n",
    "    chrome_options.add_argument(\"start-maximized\")\n",
    "    service = Service()\n",
    "    driver = webdriver.Chrome(service=service, options=chrome_options)\n",
    "    driver.execute_cdp_cmd(\"Page.addScriptToEvaluateOnNewDocument\", {\n",
    "    \"source\":\n",
    "        \"const newProto = navigator.__proto__;\"\n",
    "        \"delete newProto.webdriver;\"\n",
    "        \"navigator.__proto__ = newProto;\"\n",
    "    })\n",
    "\n",
    "    return driver"
   ]
  },
  {
   "cell_type": "code",
   "execution_count": 48,
   "metadata": {},
   "outputs": [],
   "source": [
    "driver = get_driver()\n",
    "\n",
    "base_url = [\"https://paperswithcode.com/\"]"
   ]
  },
  {
   "cell_type": "code",
   "execution_count": 6,
   "metadata": {},
   "outputs": [],
   "source": [
    "driver.get(base_url)\n"
   ]
  },
  {
   "cell_type": "code",
   "execution_count": 7,
   "metadata": {},
   "outputs": [],
   "source": [
    "html = driver.page_source\n",
    "soup = BeautifulSoup(html)"
   ]
  },
  {
   "cell_type": "code",
   "execution_count": 15,
   "metadata": {},
   "outputs": [
    {
     "data": {
      "text/plain": [
       "'/paper/llama-omni-seamless-speech-interaction-with'"
      ]
     },
     "execution_count": 15,
     "metadata": {},
     "output_type": "execute_result"
    }
   ],
   "source": [
    "soup.find_all(\"div\", class_ = \"col-lg-9 item-content\")[0].find_all(\"a\")[0].get(\"href\")\n"
   ]
  },
  {
   "cell_type": "code",
   "execution_count": 28,
   "metadata": {},
   "outputs": [
    {
     "data": {
      "text/plain": [
       "'LLaMA-Omni: Seamless Speech Interaction with Large Language Models'"
      ]
     },
     "execution_count": 28,
     "metadata": {},
     "output_type": "execute_result"
    }
   ],
   "source": [
    "soup.find_all(\"div\", class_ = \"col-lg-9 item-content\")[0].find_all(\"a\")[0].text\n"
   ]
  },
  {
   "cell_type": "code",
   "execution_count": 26,
   "metadata": {},
   "outputs": [
    {
     "data": {
      "text/plain": [
       "'We build our model based on the latest Llama-3. 1-8B-Instruct model.'"
      ]
     },
     "execution_count": 26,
     "metadata": {},
     "output_type": "execute_result"
    }
   ],
   "source": [
    "soup.find_all(\"div\", class_ = \"col-lg-9 item-content\")[0].find_all(\"p\", class_=\"item-strip-abstract\")[0].text\n",
    "\n",
    "\n"
   ]
  },
  {
   "cell_type": "code",
   "execution_count": 30,
   "metadata": {},
   "outputs": [
    {
     "name": "stdout",
     "output_type": "stream",
     "text": [
      "/paper/llama-omni-seamless-speech-interaction-with\n",
      "LLaMA-Omni: Seamless Speech Interaction with Large Language Models\n",
      "We build our model based on the latest Llama-3. 1-8B-Instruct model.\n",
      "/paper/pulid-pure-and-lightning-id-customization-via\n",
      "PuLID: Pure and Lightning ID Customization via Contrastive Alignment\n",
      "We propose Pure and Lightning ID customization (PuLID), a novel tuning-free ID customization method for text-to-image generation.\n",
      "/paper/paperqa-retrieval-augmented-generative-agent\n",
      "PaperQA: Retrieval-Augmented Generative Agent for Scientific Research\n",
      "We present PaperQA, a RAG agent for answering questions over the scientific literature.\n",
      "/paper/windows-agent-arena-evaluating-multi-modal-os\n",
      "Windows Agent Arena: Evaluating Multi-Modal OS Agents at Scale\n",
      "To demonstrate Windows Agent Arena's capabilities, we also introduce a new multi-modal agent, Navi.\n",
      "https://github.com/codelion/optillm\n",
      "optillm\n",
      "Optimizing inference proxy for LLMs\n",
      "/paper/mini-omni-language-models-can-hear-talk-while\n",
      "Mini-Omni: Language Models Can Hear, Talk While Thinking in Streaming\n",
      "We also introduce the VoiceAssistant-400K dataset to fine-tune models optimized for speech output.\n",
      "/paper/agent-workflow-memory\n",
      "Agent Workflow Memory\n",
      "Despite the potential of language model-based agents to solve real-world tasks such as web navigation, current methods still struggle with long-horizon tasks with complex action trajectories.\n",
      "/paper/hi3d-pursuing-high-resolution-image-to-3d\n",
      "Hi3D: Pursuing High-Resolution Image-to-3D Generation with Video Diffusion Models\n",
      "Despite having tremendous progress in image-to-3D generation, existing methods still struggle to produce multi-view consistent images with high-resolution textures in detail, especially in the paradigm of 2D diffusion that lacks 3D awareness.\n",
      "/paper/do-anything-now-characterizing-and-evaluating\n",
      "\"Do Anything Now\": Characterizing and Evaluating In-The-Wild Jailbreak Prompts on Large Language Models\n",
      "We hope that our study can facilitate the research community and LLM vendors in promoting safer and regulated LLMs.\n",
      "/paper/super-monotonic-alignment-search\n",
      "Super Monotonic Alignment Search\n",
      "Monotonic alignment search (MAS), introduced by Glow-TTS, is one of the most popular algorithm in TTS to estimate unknown alignments between text and speech.\n"
     ]
    }
   ],
   "source": [
    "bookmarks = []\n",
    "for element in soup.find_all(\"div\", class_ = \"col-lg-9 item-content\"):\n",
    "    print(element.find_all(\"a\")[0].get(\"href\"))\n",
    "    print(element.find_all(\"a\")[0].text)\n",
    "    print(element.find_all(\"p\", class_=\"item-strip-abstract\")[0].text)\n",
    "    bookmarks.append(\n",
    "        {\n",
    "            \"url\": element.find_all(\"a\")[0].get(\"href\"),\n",
    "            \"title\": element.find_all(\"a\")[0].text,\n",
    "            \"description\": element.find_all(\"p\", class_=\"item-strip-abstract\")[0].text,\n",
    "        }\n",
    "    )"
   ]
  },
  {
   "cell_type": "code",
   "execution_count": 31,
   "metadata": {},
   "outputs": [
    {
     "data": {
      "text/html": [
       "<div><style>\n",
       ".dataframe > thead > tr,\n",
       ".dataframe > tbody > tr {\n",
       "  text-align: right;\n",
       "  white-space: pre-wrap;\n",
       "}\n",
       "</style>\n",
       "<small>shape: (10, 3)</small><table border=\"1\" class=\"dataframe\"><thead><tr><th>url</th><th>title</th><th>description</th></tr><tr><td>str</td><td>str</td><td>str</td></tr></thead><tbody><tr><td>&quot;/paper/llama-omni-seamless-spe…</td><td>&quot;LLaMA-Omni: Seamless Speech In…</td><td>&quot;We build our model based on th…</td></tr><tr><td>&quot;/paper/pulid-pure-and-lightnin…</td><td>&quot;PuLID: Pure and Lightning ID C…</td><td>&quot;We propose Pure and Lightning …</td></tr><tr><td>&quot;/paper/paperqa-retrieval-augme…</td><td>&quot;PaperQA: Retrieval-Augmented G…</td><td>&quot;We present PaperQA, a RAG agen…</td></tr><tr><td>&quot;/paper/windows-agent-arena-eva…</td><td>&quot;Windows Agent Arena: Evaluatin…</td><td>&quot;To demonstrate Windows Agent A…</td></tr><tr><td>&quot;https://github.com/codelion/op…</td><td>&quot;optillm&quot;</td><td>&quot;Optimizing inference proxy for…</td></tr><tr><td>&quot;/paper/mini-omni-language-mode…</td><td>&quot;Mini-Omni: Language Models Can…</td><td>&quot;We also introduce the VoiceAss…</td></tr><tr><td>&quot;/paper/agent-workflow-memory&quot;</td><td>&quot;Agent Workflow Memory&quot;</td><td>&quot;Despite the potential of langu…</td></tr><tr><td>&quot;/paper/hi3d-pursuing-high-reso…</td><td>&quot;Hi3D: Pursuing High-Resolution…</td><td>&quot;Despite having tremendous prog…</td></tr><tr><td>&quot;/paper/do-anything-now-charact…</td><td>&quot;&quot;Do Anything Now&quot;: Characteriz…</td><td>&quot;We hope that our study can fac…</td></tr><tr><td>&quot;/paper/super-monotonic-alignme…</td><td>&quot;Super Monotonic Alignment Sear…</td><td>&quot;Monotonic alignment search (MA…</td></tr></tbody></table></div>"
      ],
      "text/plain": [
       "shape: (10, 3)\n",
       "┌────────────────────────────────┬────────────────────────────────┬────────────────────────────────┐\n",
       "│ url                            ┆ title                          ┆ description                    │\n",
       "│ ---                            ┆ ---                            ┆ ---                            │\n",
       "│ str                            ┆ str                            ┆ str                            │\n",
       "╞════════════════════════════════╪════════════════════════════════╪════════════════════════════════╡\n",
       "│ /paper/llama-omni-seamless-spe ┆ LLaMA-Omni: Seamless Speech    ┆ We build our model based on    │\n",
       "│ …                              ┆ In…                            ┆ th…                            │\n",
       "│ /paper/pulid-pure-and-lightnin ┆ PuLID: Pure and Lightning ID   ┆ We propose Pure and Lightning  │\n",
       "│ …                              ┆ C…                             ┆ …                              │\n",
       "│ /paper/paperqa-retrieval-augme ┆ PaperQA: Retrieval-Augmented   ┆ We present PaperQA, a RAG      │\n",
       "│ …                              ┆ G…                             ┆ agen…                          │\n",
       "│ /paper/windows-agent-arena-eva ┆ Windows Agent Arena:           ┆ To demonstrate Windows Agent   │\n",
       "│ …                              ┆ Evaluatin…                     ┆ A…                             │\n",
       "│ https://github.com/codelion/op ┆ optillm                        ┆ Optimizing inference proxy     │\n",
       "│ …                              ┆                                ┆ for…                           │\n",
       "│ /paper/mini-omni-language-mode ┆ Mini-Omni: Language Models     ┆ We also introduce the          │\n",
       "│ …                              ┆ Can…                           ┆ VoiceAss…                      │\n",
       "│ /paper/agent-workflow-memory   ┆ Agent Workflow Memory          ┆ Despite the potential of       │\n",
       "│                                ┆                                ┆ langu…                         │\n",
       "│ /paper/hi3d-pursuing-high-reso ┆ Hi3D: Pursuing                 ┆ Despite having tremendous      │\n",
       "│ …                              ┆ High-Resolution…               ┆ prog…                          │\n",
       "│ /paper/do-anything-now-charact ┆ \"Do Anything Now\":             ┆ We hope that our study can     │\n",
       "│ …                              ┆ Characteriz…                   ┆ fac…                           │\n",
       "│ /paper/super-monotonic-alignme ┆ Super Monotonic Alignment      ┆ Monotonic alignment search     │\n",
       "│ …                              ┆ Sear…                          ┆ (MA…                           │\n",
       "└────────────────────────────────┴────────────────────────────────┴────────────────────────────────┘"
      ]
     },
     "execution_count": 31,
     "metadata": {},
     "output_type": "execute_result"
    }
   ],
   "source": [
    "import polars as pl\n",
    "\n",
    "pl.DataFrame(bookmarks)\n"
   ]
  },
  {
   "cell_type": "markdown",
   "metadata": {},
   "source": [
    "## Create a component"
   ]
  },
  {
   "cell_type": "code",
   "execution_count": null,
   "metadata": {},
   "outputs": [],
   "source": [
    "from pydantic import BaseModel\n",
    "\n",
    "class WebpageIntegration(BaseModel):\n",
    "    base_urls: list[str]\n",
    "    driver: webdriver.Chrome = None\n",
    "    soup: BeautifulSoup = None\n",
    "\n",
    "    model_config = {\n",
    "        \"arbitrary_types_allowed\": True\n",
    "    }\n",
    "\n",
    "    def __init__(self, **data):\n",
    "        super().__init__(**data)\n",
    "        if self.driver is None:\n",
    "            self.driver = get_driver()\n",
    "\n",
    "    def load_page(self, url: str):\n",
    "        self.driver.get(url)\n",
    "        html = self.driver.page_source\n",
    "        self.soup = BeautifulSoup(html, 'html.parser')\n",
    "\n",
    "    def get_element_by_selector(self, selector: str, attr: str = None):\n",
    "        element = self.soup.select_one(selector)\n",
    "        if element:\n",
    "            return element.get(attr) if attr else element.text.strip()\n",
    "        return None\n",
    "\n",
    "    def get_elements_by_selector(self, selector: str, attr: str = None):\n",
    "        elements = self.soup.select(selector)\n",
    "        if attr:\n",
    "            return [element.get(attr) for element in elements if element.get(attr)]\n",
    "        return [element.text.strip() for element in elements]\n",
    "\n",
    "    def get_body(self):\n",
    "        return self.get_element_by_selector('body')\n",
    "    \n",
    "    def _compose_bookmark(self, element):\n",
    "        return {\n",
    "            \"url\": element.find_all(\"a\")[0].get(\"href\"),\n",
    "            \"title\": element.find_all(\"a\")[0].text,\n",
    "            \"description\": element.find_all(\"p\", class_=\"item-strip-abstract\")[0].text,\n",
    "        }\n",
    "    \n",
    "    def get_bookmarks(self):\n",
    "        bookmarks = []\n",
    "        for base_url in self.base_urls:\n",
    "            self.load_page(base_url)\n",
    "            for element in self.soup.find_all(\"div\", class_ = \"col-lg-9 item-content\"):\n",
    "                bookmarks.append(self._compose_bookmark(element))\n",
    "        return bookmarks\n",
    "    \n",
    "    def close(self):\n",
    "        if self.driver:\n",
    "            self.driver.quit()\n"
   ]
  },
  {
   "cell_type": "code",
   "execution_count": null,
   "metadata": {},
   "outputs": [],
   "source": [
    "wbi = WebpageIntegration(base_urls=base_url, driver=driver)\n"
   ]
  },
  {
   "cell_type": "code",
   "execution_count": null,
   "metadata": {},
   "outputs": [],
   "source": [
    "l_bookmarks = wbi.get_bookmarks()\n",
    "\n",
    "pl.DataFrame(l_bookmarks)\n"
   ]
  },
  {
   "cell_type": "markdown",
   "metadata": {},
   "source": []
  }
 ],
 "metadata": {
  "kernelspec": {
   "display_name": "easy-bookmarks-F2L40Ma7-py3.11",
   "language": "python",
   "name": "python3"
  },
  "language_info": {
   "codemirror_mode": {
    "name": "ipython",
    "version": 3
   },
   "file_extension": ".py",
   "mimetype": "text/x-python",
   "name": "python",
   "nbconvert_exporter": "python",
   "pygments_lexer": "ipython3",
   "version": "3.11.0"
  }
 },
 "nbformat": 4,
 "nbformat_minor": 2
}
