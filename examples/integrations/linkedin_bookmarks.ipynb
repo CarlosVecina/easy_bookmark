{
 "cells": [
  {
   "cell_type": "code",
   "execution_count": 1,
   "metadata": {},
   "outputs": [
    {
     "data": {
      "text/plain": [
       "True"
      ]
     },
     "execution_count": 1,
     "metadata": {},
     "output_type": "execute_result"
    }
   ],
   "source": [
    "from easy_bookmarks.integrations.linkedin import LinkedinIntegration\n",
    "from dotenv import load_dotenv\n",
    "import os\n",
    "import polars as pl\n",
    "\n",
    "load_dotenv()\n"
   ]
  },
  {
   "cell_type": "code",
   "execution_count": null,
   "metadata": {},
   "outputs": [],
   "source": [
    "\n",
    "linkedin = LinkedinIntegration(username=os.getenv(\"LINKEDIN_USERNAME\"), password=os.getenv(\"LINKEDIN_PASSWORD\"))\n",
    "\n",
    "posts = linkedin.get_bookmarked_posts()"
   ]
  },
  {
   "cell_type": "code",
   "execution_count": 4,
   "metadata": {},
   "outputs": [],
   "source": [
    "df_posts = pl.DataFrame(posts)\n",
    "df_posts.to_csv(\"df_bookmarks_800.csv\", index=False)"
   ]
  },
  {
   "cell_type": "code",
   "execution_count": 65,
   "metadata": {},
   "outputs": [],
   "source": [
    "df_posts = pl.read_csv(\"df_bookmarks_800.csv\")"
   ]
  },
  {
   "cell_type": "code",
   "execution_count": 55,
   "metadata": {},
   "outputs": [],
   "source": [
    "import re\n",
    "import datetime\n",
    "\n",
    "\n",
    "def parse_linkedin_date(parts):\n",
    "    basic_map_date = {\n",
    "        \"m\": \"minutes\",\n",
    "        \"h\": \"hours\",\n",
    "        \"d\": \"days\",\n",
    "        \"w\": \"weeks\",\n",
    "    }\n",
    "    complex_map_date = {\n",
    "        \"mo\": (\"weeks\", 4),\n",
    "        \"yr\": (\"weeks\", 52),\n",
    "    }\n",
    "\n",
    "    list_match= [match for part in parts if (match := re.match(r\"(\\d+)\\s*(\\w+)\", part))]\n",
    "\n",
    "    if len(list_match) != 1:\n",
    "        return None\n",
    "    \n",
    "    value, unit = list_match[0].groups()\n",
    "    unit = unit.rstrip('s') \n",
    "    if unit in basic_map_date.keys():\n",
    "        delta = datetime.timedelta(**{basic_map_date[unit]: int(value)})                #return pd.Timestamp.now() - delta\n",
    "        return datetime.datetime.now().date() - delta\n",
    "    else:\n",
    "        complex_unit, multiplier = complex_map_date[unit]\n",
    "        delta = datetime.timedelta(**{complex_unit: int(value) * multiplier})\n",
    "        return datetime.datetime.now().date() - delta"
   ]
  },
  {
   "cell_type": "markdown",
   "metadata": {},
   "source": [
    "## Parse date"
   ]
  },
  {
   "cell_type": "code",
   "execution_count": 66,
   "metadata": {},
   "outputs": [
    {
     "name": "stderr",
     "output_type": "stream",
     "text": [
      "C:\\Users\\Carlos\\AppData\\Local\\Temp\\ipykernel_1744\\2764976344.py:1: MapWithoutReturnDtypeWarning: Calling `map_elements` without specifying `return_dtype` can lead to unpredictable results. Specify `return_dtype` to silence this warning.\n",
      "  df_posts = df_posts.with_columns(\n"
     ]
    },
    {
     "data": {
      "text/html": [
       "<div><style>\n",
       ".dataframe > thead > tr,\n",
       ".dataframe > tbody > tr {\n",
       "  text-align: right;\n",
       "  white-space: pre-wrap;\n",
       "}\n",
       "</style>\n",
       "<small>shape: (2, 7)</small><table border=\"1\" class=\"dataframe\"><thead><tr><th>author</th><th>author_catchline</th><th>author_member_id</th><th>post_summary</th><th>post_url</th><th>post_activity_id</th><th>parsed_date</th></tr><tr><td>str</td><td>str</td><td>i64</td><td>str</td><td>str</td><td>i64</td><td>date</td></tr></thead><tbody><tr><td>&quot;Fred Viole&quot;</td><td>&quot;OVVO Financial Systems | ovvol…</td><td>24191624</td><td>&quot;When people ask, &quot;Why nonparam…</td><td>&quot;https://www.linkedin.com/feed/…</td><td>7238576907531816960</td><td>2024-09-09</td></tr><tr><td>&quot;Leonie Monigatti&quot;</td><td>&quot;I do Machine Learning at Weavi…</td><td>391766404</td><td>&quot;If you embed an entire documen…</td><td>&quot;https://www.linkedin.com/feed/…</td><td>7237775824395935744</td><td>2024-09-07</td></tr></tbody></table></div>"
      ],
      "text/plain": [
       "shape: (2, 7)\n",
       "┌──────────────┬─────────────┬─────────────┬─────────────┬─────────────┬─────────────┬─────────────┐\n",
       "│ author       ┆ author_catc ┆ author_memb ┆ post_summar ┆ post_url    ┆ post_activi ┆ parsed_date │\n",
       "│ ---          ┆ hline       ┆ er_id       ┆ y           ┆ ---         ┆ ty_id       ┆ ---         │\n",
       "│ str          ┆ ---         ┆ ---         ┆ ---         ┆ str         ┆ ---         ┆ date        │\n",
       "│              ┆ str         ┆ i64         ┆ str         ┆             ┆ i64         ┆             │\n",
       "╞══════════════╪═════════════╪═════════════╪═════════════╪═════════════╪═════════════╪═════════════╡\n",
       "│ Fred Viole   ┆ OVVO        ┆ 24191624    ┆ When people ┆ https://www ┆ 72385769075 ┆ 2024-09-09  │\n",
       "│              ┆ Financial   ┆             ┆ ask, \"Why   ┆ .linkedin.c ┆ 31816960    ┆             │\n",
       "│              ┆ Systems |   ┆             ┆ nonparam…   ┆ om/feed/…   ┆             ┆             │\n",
       "│              ┆ ovvol…      ┆             ┆             ┆             ┆             ┆             │\n",
       "│ Leonie       ┆ I do        ┆ 391766404   ┆ If you      ┆ https://www ┆ 72377758243 ┆ 2024-09-07  │\n",
       "│ Monigatti    ┆ Machine     ┆             ┆ embed an    ┆ .linkedin.c ┆ 95935744    ┆             │\n",
       "│              ┆ Learning at ┆             ┆ entire      ┆ om/feed/…   ┆             ┆             │\n",
       "│              ┆ Weavi…      ┆             ┆ documen…    ┆             ┆             ┆             │\n",
       "└──────────────┴─────────────┴─────────────┴─────────────┴─────────────┴─────────────┴─────────────┘"
      ]
     },
     "execution_count": 66,
     "metadata": {},
     "output_type": "execute_result"
    }
   ],
   "source": [
    "df_posts = df_posts.with_columns(\n",
    "    pl.col(\"post_date_repost_info\").str.split(\" • \").map_elements(parse_linkedin_date).alias(\"parsed_date\")\n",
    ").drop([\"post_date_repost_info\"])\n",
    "df_posts.head(2)"
   ]
  },
  {
   "cell_type": "markdown",
   "metadata": {},
   "source": [
    "## Generate uuid"
   ]
  },
  {
   "cell_type": "code",
   "execution_count": 67,
   "metadata": {},
   "outputs": [
    {
     "name": "stderr",
     "output_type": "stream",
     "text": [
      "C:\\Users\\Carlos\\AppData\\Local\\Temp\\ipykernel_1744\\3093273126.py:6: MapWithoutReturnDtypeWarning: Calling `map_elements` without specifying `return_dtype` can lead to unpredictable results. Specify `return_dtype` to silence this warning.\n",
      "  ).with_columns(\n"
     ]
    },
    {
     "data": {
      "text/html": [
       "<div><style>\n",
       ".dataframe > thead > tr,\n",
       ".dataframe > tbody > tr {\n",
       "  text-align: right;\n",
       "  white-space: pre-wrap;\n",
       "}\n",
       "</style>\n",
       "<small>shape: (2, 9)</small><table border=\"1\" class=\"dataframe\"><thead><tr><th>author</th><th>author_catchline</th><th>author_member_id</th><th>post_summary</th><th>post_url</th><th>post_activity_id</th><th>parsed_date</th><th>source</th><th>id</th></tr><tr><td>str</td><td>str</td><td>i64</td><td>str</td><td>str</td><td>i64</td><td>date</td><td>str</td><td>object</td></tr></thead><tbody><tr><td>&quot;Fred Viole&quot;</td><td>&quot;OVVO Financial Systems | ovvol…</td><td>24191624</td><td>&quot;When people ask, &quot;Why nonparam…</td><td>&quot;https://www.linkedin.com/feed/…</td><td>7238576907531816960</td><td>2024-09-09</td><td>&quot;Linkedin&quot;</td><td>9bfb6d07-3873-5caa-27c4-57deb3171bc2</td></tr><tr><td>&quot;Leonie Monigatti&quot;</td><td>&quot;I do Machine Learning at Weavi…</td><td>391766404</td><td>&quot;If you embed an entire documen…</td><td>&quot;https://www.linkedin.com/feed/…</td><td>7237775824395935744</td><td>2024-09-07</td><td>&quot;Linkedin&quot;</td><td>a71979ff-7571-6ae1-f015-e664cc09ced4</td></tr></tbody></table></div>"
      ],
      "text/plain": [
       "shape: (2, 9)\n",
       "┌───────────┬───────────┬───────────┬───────────┬───┬───────────┬───────────┬──────────┬───────────┐\n",
       "│ author    ┆ author_ca ┆ author_me ┆ post_summ ┆ … ┆ post_acti ┆ parsed_da ┆ source   ┆ id        │\n",
       "│ ---       ┆ tchline   ┆ mber_id   ┆ ary       ┆   ┆ vity_id   ┆ te        ┆ ---      ┆ ---       │\n",
       "│ str       ┆ ---       ┆ ---       ┆ ---       ┆   ┆ ---       ┆ ---       ┆ str      ┆ object    │\n",
       "│           ┆ str       ┆ i64       ┆ str       ┆   ┆ i64       ┆ date      ┆          ┆           │\n",
       "╞═══════════╪═══════════╪═══════════╪═══════════╪═══╪═══════════╪═══════════╪══════════╪═══════════╡\n",
       "│ Fred      ┆ OVVO      ┆ 24191624  ┆ When      ┆ … ┆ 723857690 ┆ 2024-09-0 ┆ Linkedin ┆ 9bfb6d07- │\n",
       "│ Viole     ┆ Financial ┆           ┆ people    ┆   ┆ 753181696 ┆ 9         ┆          ┆ 3873-5caa │\n",
       "│           ┆ Systems | ┆           ┆ ask, \"Why ┆   ┆ 0         ┆           ┆          ┆ -27c4-57d │\n",
       "│           ┆ ovvol…    ┆           ┆ nonparam… ┆   ┆           ┆           ┆          ┆ eb3…      │\n",
       "│ Leonie    ┆ I do      ┆ 391766404 ┆ If you    ┆ … ┆ 723777582 ┆ 2024-09-0 ┆ Linkedin ┆ a71979ff- │\n",
       "│ Monigatti ┆ Machine   ┆           ┆ embed an  ┆   ┆ 439593574 ┆ 7         ┆          ┆ 7571-6ae1 │\n",
       "│           ┆ Learning  ┆           ┆ entire    ┆   ┆ 4         ┆           ┆          ┆ -f015-e66 │\n",
       "│           ┆ at Weavi… ┆           ┆ documen…  ┆   ┆           ┆           ┆          ┆ 4cc…      │\n",
       "└───────────┴───────────┴───────────┴───────────┴───┴───────────┴───────────┴──────────┴───────────┘"
      ]
     },
     "execution_count": 67,
     "metadata": {},
     "output_type": "execute_result"
    }
   ],
   "source": [
    "from easy_bookmarks.stores.utils import generate_uuid\n",
    "\n",
    "\n",
    "df_posts.with_columns(\n",
    "    pl.lit(\"Linkedin\").alias(\"source\"),\n",
    ").with_columns(\n",
    "    (pl.col(\"source\")+pl.col(\"post_url\")).map_elements(generate_uuid).alias(\"id\")\n",
    ").head(2)"
   ]
  }
 ],
 "metadata": {
  "kernelspec": {
   "display_name": "easy-bookmarks-F2L40Ma7-py3.11",
   "language": "python",
   "name": "python3"
  },
  "language_info": {
   "codemirror_mode": {
    "name": "ipython",
    "version": 3
   },
   "file_extension": ".py",
   "mimetype": "text/x-python",
   "name": "python",
   "nbconvert_exporter": "python",
   "pygments_lexer": "ipython3",
   "version": "3.11.0"
  }
 },
 "nbformat": 4,
 "nbformat_minor": 2
}
