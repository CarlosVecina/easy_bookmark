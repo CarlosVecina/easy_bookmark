{
 "cells": [
  {
   "cell_type": "code",
   "execution_count": 1,
   "metadata": {},
   "outputs": [],
   "source": [
    "from linkedin_api import Linkedin\n",
    "\n",
    "\n",
    "# GET a profile\n",
    "profile = api.get_profile('billy-g')"
   ]
  },
  {
   "cell_type": "code",
   "execution_count": 133,
   "metadata": {},
   "outputs": [
    {
     "data": {
      "text/plain": [
       "<linkedin_api.linkedin.Linkedin at 0x1076a8410>"
      ]
     },
     "execution_count": 133,
     "metadata": {},
     "output_type": "execute_result"
    }
   ],
   "source": [
    "profile"
   ]
  },
  {
   "cell_type": "code",
   "execution_count": 31,
   "metadata": {},
   "outputs": [
    {
     "data": {
      "text/plain": [
       "'decorationId=com.linkedin.voyager.dash.deco.jobs.search.JobSearchCardsCollection-174&count=0&q=jobSearch&query=&start=0&filters=List((key:savedPostType,value:List(ALL)))'"
      ]
     },
     "execution_count": 31,
     "metadata": {},
     "output_type": "execute_result"
    }
   ],
   "source": [
    "from urllib.parse import urlencode\n",
    "\n",
    "\n",
    "default_params = {\n",
    "    \"decorationId\": \"com.linkedin.voyager.dash.deco.jobs.search.JobSearchCardsCollection-174\",\n",
    "    \"count\": 0,\n",
    "    \"q\": \"jobSearch\",\n",
    "    \"query\": \"\",\n",
    "    \"start\": len([]) + 0,\n",
    "    \"filters\": \"List((key:savedPostType,value:List(ALL)))\"\n",
    "}\n",
    "\n",
    "encoded_params = urlencode(default_params, safe='(),:')\n",
    "encoded_params"
   ]
  },
  {
   "cell_type": "code",
   "execution_count": 32,
   "metadata": {},
   "outputs": [
    {
     "name": "stdout",
     "output_type": "stream",
     "text": [
      "/graphql?variables=(start:0,query:(flagshipSearchIntent:SEARCH_MY_ITEMS_SAVED_POSTS,queryParameters:List((key:savedPostType,value:List(ALL)))))&queryId=voyagerSearchDashClusters.a2b606e8c1f58b3cf72fb5d54a2a57e7\n"
     ]
    }
   ],
   "source": [
    "query = f\"\"\"\n",
    "/graphql\n",
    "?variables=(\n",
    "    start:{default_params['start']},\n",
    "    query:(\n",
    "        flagshipSearchIntent:SEARCH_MY_ITEMS_SAVED_POSTS,\n",
    "        queryParameters:{default_params['filters']}\n",
    "    )\n",
    ")\n",
    "&queryId=voyagerSearchDashClusters.a2b606e8c1f58b3cf72fb5d54a2a57e7\n",
    "\"\"\".replace(\"\\n\",\"\").replace(\"  \",\"\")\n",
    "print(query)"
   ]
  },
  {
   "cell_type": "code",
   "execution_count": 33,
   "metadata": {},
   "outputs": [],
   "source": [
    "res = api._fetch(query)"
   ]
  },
  {
   "cell_type": "code",
   "execution_count": 34,
   "metadata": {},
   "outputs": [
    {
     "data": {
      "text/plain": [
       "10"
      ]
     },
     "execution_count": 34,
     "metadata": {},
     "output_type": "execute_result"
    }
   ],
   "source": [
    "post_list = res.json()[\"data\"][\"searchDashClustersByAll\"][\"elements\"][0][\"items\"]\n",
    "len(post_list)"
   ]
  },
  {
   "cell_type": "code",
   "execution_count": 45,
   "metadata": {},
   "outputs": [
    {
     "data": {
      "text/plain": [
       "'dXJuOmxpOmFjdGl2aXR5OjcyMzI0Njg1MzQyNDM1Njk2NjQtMTcyNDgzODUxNDI2Mg=='"
      ]
     },
     "execution_count": 45,
     "metadata": {},
     "output_type": "execute_result"
    }
   ],
   "source": [
    "res.json()[\"data\"][\"searchDashClustersByAll\"][\"metadata\"][\"paginationToken\"]"
   ]
  },
  {
   "cell_type": "code",
   "execution_count": 71,
   "metadata": {},
   "outputs": [
    {
     "data": {
      "text/plain": [
       "[{'author': 'Marie Stephen Leo',\n",
       "  'author_catchline': 'I help Data enthusiasts learn about AI, DS, DE, Analytics Engineering, and MLOps | Linkedin Top Voice',\n",
       "  'post_summary': 'LLM Structured Output Benchmarks: Find the best LLM structured data parsing framework for your task!\\n\\nOver the past few weeks, I’ve continued to update my benchmarking library, which just crossed 100 stars on GitHub!\\n\\n🏆 Added synthetic data generation task. Benchmark results are live for most of the frameworks.\\n\\n🐸 Updated Mirascope to V1, which significantly simplified the code required by the framework. I really like the simplicity of the V1 Mirascope API. https://lnkd.in/gNj3TJCu\\n\\n🔆 Added a vanilla OpenAI using the Structured Outputs capability. It performs really well and is probably all you need for most tasks except synthetic data generation. I need to dig into the actual outputs soon to understand its weaknesses. https://lnkd.in/g-eWruza\\n\\nMeanwhile, I’ve been sourcing a suitable classification dataset and have identified a few. My next steps are to continue adding more frameworks and classification accuracy metrics. If you have any feedback, please raise an issue, and I will look into it!\\n\\nIf you find this benchmark helpful, please star it on GitHub!\\n\\n🌟 LLM Structured Output Benchmarks Github: https://lnkd.in/gW7Qn8dV\\n\\nI regularly post on data topics covering DS, ML, DE, and Analytics. Follow me to level up your data skills!\\nMedium: https://lnkd.in/g2jAJn5\\nX: https://lnkd.in/g_JbKEkM\\n\\n#generativeai #llm #nlp #artificialintelligence #mlops #llmops',\n",
       "  'post_url': 'https://www.linkedin.com/feed/update/urn:li:activity:7235088849331183616?updateEntityUrn=urn%3Ali%3Afs_updateV2%3A%28urn%3Ali%3Aactivity%3A7235088849331183616%2CFEED_DETAIL%2CEMPTY%2CDEFAULT%2Cfalse%29'},\n",
       " {'author': 'Ansgar Wolsing',\n",
       "  'author_catchline': 'Director Data & Analytics @ Kaiser X Labs | Data Visualization, Data Storytelling, Data Science | Passionate about clear & impactful Visualizations',\n",
       "  'post_summary': \"Did you know you can export a ggplot2 chart as an SVG and edit every element in PowerPoint?\\n\\nI thought this was a well-known feature, but yesterday a tweet by Leonardo Jo (haven’t found them on LinkedIn) went viral on Twitter with many users replying they hadn’t known about it either. He had discovered that you can create a chart with #ggplot2 in R, export it as a vectorized image (SVG), insert the image into PowerPoint, convert it to shapes, and then fully customize each chart element—axes, labels, legends, data point and so on.\\n\\nWhile exporting plots for post-processing in tools like Adobe Illustrator or Figma is common practice, I personally prefer to create everything directly in R. This way, the chart remains reproducible with new data, and others can easily adapt it to their needs. That said, I occasionally use Figma for adding annotations.\\n\\nIn science, on the other hand, replicability and reproducibility of the findings are crucial, so it’s worth being cautious. (You could even end up moving the data points around as you like.)\\n\\nI've put together a quick video demonstrating this process.\\n\\nAlthough you could create simple scatter plots like in this example directly in PowerPoint, this method can be useful when dealing with more complex charts or when extensive data preparation is required before plotting.\\n\\n#rstats #dataviz \",\n",
       "  'post_url': 'https://www.linkedin.com/feed/update/urn:li:activity:7234956777983782912?updateEntityUrn=urn%3Ali%3Afs_updateV2%3A%28urn%3Ali%3Aactivity%3A7234956777983782912%2CFEED_DETAIL%2CEMPTY%2CDEFAULT%2Cfalse%29'},\n",
       " {'author': 'Sarthak Rastogi',\n",
       "  'author_catchline': 'AI engineer building agents | Experienced in LLM training and software engineering | Prev: ML research in multiple labs',\n",
       "  'post_summary': 'Apple’s new Superposition Prompting method improves RAG accuracy by 43%.\\nSuppose your vector search retrieved 5 documents. Instead of processing them as one big unit, this approach lets the LLM consider each doc separately and process them in parallel.\\n\\nSo it’s obvious how it improves the speed. But how does it improve the accuracy?\\n\\nA major problem in LLMs is, when there is irrelevant info in the input context, it confuses the model. So, by considering each retrieved doc separately when answering the query, this problem is reduced.\\n\\nHere’s how they actually do Superposition Prompting:\\n\\nThey use a DAG structure where each query segment is a duplicate of the original query. This allows for parallel processing of the query segments.\\n\\nThe model looks at each query segment and its retrieved docs independently, and uses path pruning to get rid of any irrelevant docs. \\n\\nTo make inference even faster, the paper uses path caching and path parallelisation techniques:\\n- Path caching precomputes KV embeddings for the docs\\n- Path parallelisation computes KV caches and logits for query segments in parallel. \\n\\nPaper: https://lnkd.in/g_j67TpY\\n\\n#AI #RAG #LLMs ',\n",
       "  'post_url': 'https://www.linkedin.com/feed/update/urn:li:activity:7234892590578311168?updateEntityUrn=urn%3Ali%3Afs_updateV2%3A%28urn%3Ali%3Aactivity%3A7234892590578311168%2CFEED_DETAIL%2CEMPTY%2CDEFAULT%2Cfalse%29'},\n",
       " {'author': 'Daniel Lee',\n",
       "  'author_catchline': 'Data/AI Jobs with Datainterview.com 🚀 | AI Consultant | Ex-Google',\n",
       "  'post_summary': \"How do you become a 𝗙𝘂𝗹𝗹𝘀𝘁𝗮𝗰𝗸 𝗗𝗮𝘁𝗮 𝗦𝗰𝗶𝗲𝗻𝘁𝗶𝘀𝘁 or 𝗠𝗟 𝗘𝗻𝗴𝗶𝗻𝗲𝗲𝗿?\\n\\nHere are five books 📚 you should read this year 👇👇👇\\n\\nJust knowing how to train a model on Jupyter notebook won't make you a pro in data science. You will need to learn about design patterns, ML Ops and data engineering.\\n\\n📚 Here are five books I read cover to cover\\n\\n𝟭. 𝗠𝗮𝗰𝗵𝗶𝗻𝗲 𝗟𝗲𝗮𝗿𝗻𝗶𝗻𝗴 𝗘𝗻𝗴𝗶𝗻𝗲𝗲𝗿𝗶𝗻𝗴 𝗶𝗻 𝗔𝗰𝘁𝗶𝗼𝗻\\n\\nHands down the most comprehensive book I have seen on ML engineering. Covers the theory and practical application of model deployment and monitoring.\\n\\n𝟮. 𝗗𝗲𝘀𝗶𝗴𝗻𝗶𝗻𝗴 𝗗𝗮𝘁𝗮-𝗜𝗻𝘁𝗲𝗻𝘀𝗶𝘃𝗲 𝗔𝗽𝗽𝗹𝗶𝗰𝗮𝘁𝗶𝗼𝗻𝘀\\n\\nAn ML service is a component within a larger software architecture. Understanding how the system interacts with other applications is vital. This book helped me understand the basics of building an application with resilience and low latency.\\n\\n𝟯. 𝗗𝗲𝘀𝗶𝗴𝗻𝗶𝗻𝗴 𝗠𝗮𝗰𝗵𝗶𝗻𝗲 𝗟𝗲𝗮𝗿𝗻𝗶𝗻𝗴 𝗦𝘆𝘀𝘁𝗲𝗺𝘀\\n\\nThis book covers the basis of ML Ops. Though I wouldn't say this is the book to read if you want hands-on examples of how to apply ML Ops (as opposed to the first book). Nonetheless, it covers all the conceptual grounds for you to understand how to build and apply ML Ops.\\n\\n𝟰. 𝗠𝗮𝗰𝗵𝗶𝗻𝗲 𝗟𝗲𝗮𝗿𝗻𝗶𝗻𝗴 𝗗𝗲𝘀𝗶𝗴𝗻 𝗣𝗮𝘁𝘁𝗲𝗿𝗻𝘀\\n\\nSWEs have best practices in coding. So should practitioners of ML. I reference this book often as I consider best practices on model orchestration steps (preprocessing, feature engineering, modeling and serving). This covers a lot of practical tips and useful examples.\\n\\n𝟱. 𝗙𝘂𝗻𝗱𝗮𝗺𝗲𝗻𝘁𝗮𝗹𝘀 𝗼𝗳 𝗗𝗮𝘁𝗮 𝗘𝗻𝗴𝗶𝗻𝗲𝗲𝗿𝗶𝗻𝗴\\n\\nNever overlook data engineering. Understanding the key principles of extracting, transforming and loading data in batch and real-time is crucial to know how to build an ML application. On top of that, oftentimes, early-stage startups often look for full-stack data scientists who understand how to build a data pipeline for models.\\n\\n🔹 Core concepts you should learn\\n\\n1. Batch Processing\\n2. Real-Time Processing\\n3. CAP Theorem\\n4. ETL, ELT\\n5. Distributed Systems\\n6. Fault Tolerance\\n7. API\\n8. Load Balancer\\n9. Model Deployment\\n10. Model Monitoring\\n\\n👉 What else should an ML Engineer know? Drop a comment 👇\\n\\nAce upcoming interviews with these👇\\n\\n📕 𝗜𝗻𝘁𝗲𝗿𝘃𝗶𝗲𝘄 𝗣𝗿𝗲𝗽 𝗖𝗼𝘂𝗿𝘀𝗲𝘀: https://lnkd.in/gzgB-dHT\\n📘 𝗝𝗼𝗶𝗻 𝗗𝗦 𝗜𝗻𝘁𝗲𝗿𝘃𝗶𝗲𝘄 𝗕𝗼𝗼𝘁𝗰𝗮𝗺𝗽: https://lnkd.in/eiA5Ntdp\\n📙 𝗝𝗼𝗶𝗻 𝗠𝗟𝗘 𝗜𝗻𝘁𝗲𝗿𝘃𝗶𝗲𝘄 𝗕𝗼𝗼𝘁𝗰𝗮𝗺𝗽: https://lnkd.in/e6HbN6dy\\n📗 𝗔𝗕 𝗧𝗲𝘀𝘁𝗶𝗻𝗴 𝗖𝗼𝘂𝗿𝘀𝗲: https://lnkd.in/g82dMJ77\\n\\n👉 Smash 👍 and follow Daniel Lee to land dream data & AI jobs 🚀\",\n",
       "  'post_url': 'https://www.linkedin.com/feed/update/urn:li:activity:7233488313716805632?updateEntityUrn=urn%3Ali%3Afs_updateV2%3A%28urn%3Ali%3Aactivity%3A7233488313716805632%2CFEED_DETAIL%2CEMPTY%2CDEFAULT%2Cfalse%29'},\n",
       " {'author': 'Dat Tran',\n",
       "  'author_catchline': 'VP of AI/ML at Beams Safety AI 🤖 | Advisor, Investor, and Mentor 🤝 | Keynote Speaker 🎙️',\n",
       "  'post_summary': \"One of my favorite integration for tqdm - the Pandas integration. Can't believe what I did before without it 😭🤣 It makes the apply function 10x better 🤗\",\n",
       "  'post_url': 'https://www.linkedin.com/feed/update/urn:li:activity:7234809803888320512?updateEntityUrn=urn%3Ali%3Afs_updateV2%3A%28urn%3Ali%3Aactivity%3A7234809803888320512%2CFEED_DETAIL%2CEMPTY%2CDEFAULT%2Cfalse%29'},\n",
       " {'author': 'Jiri Tuma',\n",
       "  'author_catchline': 'CEO @CodeAlley📲 | Forbes 30u30 | AI | Web & Mobile Apps | Cloud | Investor | MSc Mechatronics | MSc BI | MBA',\n",
       "  'post_summary': \"📲 𝐒𝐩𝐞𝐞𝐜𝐡-𝐭𝐨-𝐬𝐩𝐞𝐞𝐜𝐡 𝐋𝐋𝐌 𝐞𝐱𝐩𝐞𝐫𝐢𝐞𝐧𝐜𝐞 𝐫𝐮𝐧𝐧𝐢𝐧𝐠 𝐥𝐨𝐜𝐚𝐥𝐥𝐲 ⁉\\n\\nAn awesome demo of a Hugging Face's Speech to Speech library! 📲\\n\\nCapable of running 100% locally with latency 500ms and with support for CUDA and Apple silicon. 🍏\\n\\nAnd this breakdown shows the models used:\\n✅ for Voice Activity Detection - Silero VAD v5 \\n✅ for Speech-to-Text - Whisper / LightningWhisperMLX\\n✅ as a Language Model - any model from Hugging Face Hub (fully modular)\\n✅ for Text-to-Speech - Parler-TTS / MeloTTS\\n\\nHugging Face is continuing further development but these are cool first steps! How do you like it? 💬 \\n\\nCredit: Hugging Face via Andrés Marafioti\\n\\n👉 𝐋𝐢𝐤𝐞𝐝 𝐭𝐡𝐢𝐬 𝐩𝐨𝐬𝐭? 𝐅𝐨𝐥𝐥𝐨𝐰 𝐦𝐞 (Jiri) for more AI and digital tech 🔔\\n \\n#ai #generativeai #speech2speech #llm #gpt #huggingface\",\n",
       "  'post_url': 'https://www.linkedin.com/feed/update/urn:li:activity:7234806983306940418?updateEntityUrn=urn%3Ali%3Afs_updateV2%3A%28urn%3Ali%3Aactivity%3A7234806983306940418%2CFEED_DETAIL%2CEMPTY%2CDEFAULT%2Cfalse%29'},\n",
       " {'author': 'Apostolos Lymperis',\n",
       "  'author_catchline': 'Chief of Strategy & Staff at causaLens - Causal AI for the Enterprise',\n",
       "  'post_summary': 'causal agents? 👀\\n“while LLMs excel in handling natural language data, creating a structural mismatch that impedes effective reasoning with tabular data. This lack of causal reasoning capability limits the development of LLMs. To address these challenges, we have equipped the LLM with causal tools”\\n\\nreasoning with tabular & time-series data is a different ball game compared to predicting the next word.\\n\\nwe are launching some cool agents at our next Causal AI conference in London 👀 👀 👀\\nregister for in person or livestream: https://lnkd.in/dyWnaeMF\\n\\nour objectives are to:\\nA. empower data scientists, quants & economists with productivity tools\\n\\nB. empower non technical users/ domain experts to perform simple data science tasks via a chat interface. (cleaning data, creating dashboards, building simple models etc)\\nthis is just the starting point\\nthe agents are becoming increasingly accurate & powerful\\n\\n\\nlink to the paper: https://lnkd.in/dPqVxsim\\ngithub repo: https://lnkd.in/dcn5uzAb ',\n",
       "  'post_url': 'https://www.linkedin.com/feed/update/urn:li:activity:7232340842445733888?updateEntityUrn=urn%3Ali%3Afs_updateV2%3A%28urn%3Ali%3Aactivity%3A7232340842445733888%2CFEED_DETAIL%2CEMPTY%2CDEFAULT%2Cfalse%29'},\n",
       " {'author': 'Jose Parreño Garcia',\n",
       "  'author_catchline': 'Data Science Manager at Skyscanner | Medium writer | Problem before Data, Data before ML',\n",
       "  'post_summary': '🗞 New blog post! 🗞 \\n\\nIn this post, I cover how important it is to use caching in Streamlit to enhance speed performance. Whilst Streamlit caching is straightforward to use, there is a challenger which beats it: functools.lru_cache. \\n\\n2 highlights:\\n⚡ Functools caching can be 500x to 1000x faster than Streamlit cache.\\n🐻\\u200d❄️ Functools can work with Polars, whereas Streamlit cache cannot.\\n\\n* Medium blog: https://lnkd.in/dET3ZwDv\\n\\nIf you are interested in more content related to data visualisation; here is an article capturing all my written blog posts on the topic\\n\\n* https://lnkd.in/dQQ8JpMA',\n",
       "  'post_url': 'https://www.linkedin.com/feed/update/urn:li:activity:7234499983171846144?updateEntityUrn=urn%3Ali%3Afs_updateV2%3A%28urn%3Ali%3Aactivity%3A7234499983171846144%2CFEED_DETAIL%2CEMPTY%2CDEFAULT%2Cfalse%29'},\n",
       " {'author': 'Mark Edmondson',\n",
       "  'author_catchline': 'Founder at Sunholo GenAI DevOps. Cloud Engineer at 8-bit-sheep/amass Google Developer Expert for Google Cloud',\n",
       "  'post_summary': 'Seeing a few of these kinda gatekeeping posts at the moment, but I think it misses the point a little in that the great foundations traditional MLOps has done and can still do on foundational models is not going to help you explore properly the latent space of those models. I think we have witnessed emergent behaviour of data information and knowing about how those systems are put together is not going to mean you know how to use them to highest potential. Just like a maths expert may not be the best physicist, biologist not the best doctor, mechanic not the best driver etc. A background in the fundamentals certainly helps, but now these models are so large as to contain all of human expression, it may be poets, philosophers and masters of rhetoric that can extract the best value from them, not programmers or engineers. Indeed, it was a surprise for leading edge AI researchers that LLMs performed so well, I don’t think anyone expected them to reach current benchmarks so quickly, and hints at previously unknown aspects of what intelligence actually is.',\n",
       "  'post_url': 'https://www.linkedin.com/feed/update/urn:li:activity:7234439794745909248?updateEntityUrn=urn%3Ali%3Afs_updateV2%3A%28urn%3Ali%3Aactivity%3A7234439794745909248%2CFEED_DETAIL%2CEMPTY%2CDEFAULT%2Cfalse%29'},\n",
       " {'author': 'Elvis S.',\n",
       "  'author_catchline': 'Co-founder at DAIR.AI | PhD | Prev: Meta AI, Galactica LLM, PapersWithCode, Elastic | Creator of the Prompting Guide (5M+ learners)',\n",
       "  'post_summary': 'Not sure why LLM compression is not discussed more often. Leveraging very large language models to build capable smaller LMs will be a huge win for everyone. \\n\\nCompanies like NVIDIA and Meta seem to be pushing hard on pruning and distillation for good reason. The compressed Llama 3.1 and NeMo models mentioned in this paper look very competitive.',\n",
       "  'post_url': 'https://www.linkedin.com/feed/update/urn:li:activity:7232468534243569664?updateEntityUrn=urn%3Ali%3Afs_updateV2%3A%28urn%3Ali%3Aactivity%3A7232468534243569664%2CFEED_DETAIL%2CEMPTY%2CDEFAULT%2Cfalse%29'}]"
      ]
     },
     "execution_count": 71,
     "metadata": {},
     "output_type": "execute_result"
    }
   ],
   "source": [
    "extracted_posts = [\n",
    "    {\n",
    "        \"author\": post[\"item\"][\"entityResult\"][\"title\"][\"text\"],\n",
    "        \"author_catchline\": post[\"item\"][\"entityResult\"][\"primarySubtitle\"][\"text\"],\n",
    "        \"post_summary\": post[\"item\"][\"entityResult\"][\"summary\"][\"text\"],\n",
    "        \"post_url\": post[\"item\"][\"entityResult\"][\"navigationUrl\"],\n",
    "    }\n",
    "    for post in post_list\n",
    "]\n",
    "extracted_posts"
   ]
  },
  {
   "cell_type": "code",
   "execution_count": 30,
   "metadata": {},
   "outputs": [
    {
     "ename": "NameError",
     "evalue": "name 'default_params' is not defined",
     "output_type": "error",
     "traceback": [
      "\u001b[0;31m---------------------------------------------------------------------------\u001b[0m",
      "\u001b[0;31mNameError\u001b[0m                                 Traceback (most recent call last)",
      "Cell \u001b[0;32mIn[30], line 3\u001b[0m\n\u001b[1;32m      1\u001b[0m res \u001b[38;5;241m=\u001b[39m api\u001b[38;5;241m.\u001b[39m_fetch(\n\u001b[1;32m      2\u001b[0m     \u001b[38;5;66;03m#f\"includeWebMetadata=true\"\u001b[39;00m\n\u001b[0;32m----> 3\u001b[0m     \u001b[38;5;124mf\u001b[39m\u001b[38;5;124m\"\u001b[39m\u001b[38;5;124m/graphql?variables=(start:\u001b[39m\u001b[38;5;132;01m{\u001b[39;00m\u001b[43mdefault_params\u001b[49m[\u001b[38;5;124m'\u001b[39m\u001b[38;5;124mstart\u001b[39m\u001b[38;5;124m'\u001b[39m]\u001b[38;5;132;01m}\u001b[39;00m\u001b[38;5;124m,\u001b[39m\u001b[38;5;124m\"\u001b[39m\n\u001b[1;32m      4\u001b[0m     \u001b[38;5;124mf\u001b[39m\u001b[38;5;124m\"\u001b[39m\u001b[38;5;124mquery:(\u001b[39m\u001b[38;5;124m\"\u001b[39m\n\u001b[1;32m      5\u001b[0m     \u001b[38;5;124m\"\u001b[39m\u001b[38;5;124mcount:1,\u001b[39m\u001b[38;5;124m\"\u001b[39m\n\u001b[1;32m      6\u001b[0m     \u001b[38;5;124mf\u001b[39m\u001b[38;5;124m\"\u001b[39m\u001b[38;5;124mflagshipSearchIntent:SEARCH_MY_ITEMS_SAVED_POSTS,\u001b[39m\u001b[38;5;124m\"\u001b[39m\n\u001b[1;32m      7\u001b[0m     \u001b[38;5;124mf\u001b[39m\u001b[38;5;124m\"\u001b[39m\u001b[38;5;124mqueryParameters:\u001b[39m\u001b[38;5;132;01m{\u001b[39;00mdefault_params[\u001b[38;5;124m'\u001b[39m\u001b[38;5;124mfilters\u001b[39m\u001b[38;5;124m'\u001b[39m]\u001b[38;5;132;01m}\u001b[39;00m\u001b[38;5;124m))&queryId=voyagerSearchDashClusters\u001b[39m\u001b[38;5;124m\"\u001b[39m\n\u001b[1;32m      8\u001b[0m     \u001b[38;5;124mf\u001b[39m\u001b[38;5;124m\"\u001b[39m\u001b[38;5;124m.a2b606e8c1f58b3cf72fb5d54a2a57e7\u001b[39m\u001b[38;5;124m\"\u001b[39m\n\u001b[1;32m      9\u001b[0m )\n",
      "\u001b[0;31mNameError\u001b[0m: name 'default_params' is not defined"
     ]
    }
   ],
   "source": [
    "res = api._fetch(\n",
    "    #f\"includeWebMetadata=true\"\n",
    "    f\"/graphql?variables=(start:{default_params['start']},\"\n",
    "    f\"query:(\"\n",
    "    \"count:1,\"\n",
    "    f\"flagshipSearchIntent:SEARCH_MY_ITEMS_SAVED_POSTS,\"\n",
    "    f\"queryParameters:{default_params['filters']}))&queryId=voyagerSearchDashClusters\"\n",
    "    f\".a2b606e8c1f58b3cf72fb5d54a2a57e7\"\n",
    ")"
   ]
  },
  {
   "cell_type": "code",
   "execution_count": 144,
   "metadata": {},
   "outputs": [],
   "source": [
    "import time\n",
    "import random\n",
    "\n",
    "\n",
    "def get_bookmarked_posts(limit=-1):\n",
    "    results = []\n",
    "    pagination_token=None\n",
    "    start=None\n",
    "    count=10\n",
    "\n",
    "    map_date = {\n",
    "       \"m\": \"minutes\",\n",
    "       \"h\": \"hours\",\n",
    "       \"d\": \"days\",\n",
    "       \"w\": \"weeks\",\n",
    "       \"mo\": \"months\",\n",
    "    }\n",
    "    try:\n",
    "        while len(results) < limit or limit == -1:\n",
    "            if limit > -1 and limit - len(results) < count:\n",
    "                count = limit - len(results)\n",
    "\n",
    "            query = f\"\"\"\n",
    "            /graphql\n",
    "            ?variables=(\n",
    "                {f\"{start},\" if start else \"\"}\n",
    "                count:{count},\n",
    "                {f\"{pagination_token},\" if pagination_token else \"\"}\n",
    "                query:(\n",
    "                    flagshipSearchIntent:SEARCH_MY_ITEMS_SAVED_POSTS,\n",
    "                    queryParameters:List((key:savedPostType,value:List(ALL)))\n",
    "                )\n",
    "            )\n",
    "            &queryId=voyagerSearchDashClusters.a2b606e8c1f58b3cf72fb5d54a2a57e7\n",
    "            \"\"\".replace(\"\\n\",\"\").replace(\"  \",\"\")   \n",
    "            print(query)\n",
    "\n",
    "            res = api._fetch(query)\n",
    "\n",
    "            post_list = res.json()[\"data\"][\"searchDashClustersByAll\"][\"elements\"][0][\"items\"]\n",
    "\n",
    "            if len(post_list) == 0:\n",
    "                break\n",
    "\n",
    "            for post in post_list:\n",
    "                post_date = post[\"item\"][\"entityResult\"][\"secondarySubtitle\"][\"text\"]\n",
    "                try:\n",
    "                    post_date_extract = post_date.split(\"•\")[-2].strip()\n",
    "                    post_formated_date = datetime.datetime.now() - datetime.timedelta(**{map_date[post_date_extract[-1]]:int(post_date_extract[:-1])})\n",
    "                except KeyError:\n",
    "                    post_date_extract = None\n",
    "                    post_formated_date = None\n",
    "\n",
    "                extracted_posts = {\n",
    "                        \"author\": post[\"item\"][\"entityResult\"][\"title\"][\"text\"],\n",
    "                        \"author_catchline\": post[\"item\"][\"entityResult\"][\"primarySubtitle\"][\"text\"],\n",
    "                        \"author_member_id\": post[\"item\"][\"entityResult\"][\"actorTrackingUrn\"].split(\":\")[-1],\n",
    "                        \"post_summary\": post[\"item\"][\"entityResult\"][\"summary\"][\"text\"],\n",
    "                        \"post_url\": post[\"item\"][\"entityResult\"][\"navigationUrl\"],\n",
    "                        \"post_activity_id\": post[\"item\"][\"entityResult\"][\"trackingUrn\"].split(\":\")[-1],\n",
    "                        \"post_date_lkd\": post_date,\n",
    "                        \"post_date_extract\": post_date_extract,\n",
    "                        \"post_date_formatted\": post_formated_date,\n",
    "                    }\n",
    "\n",
    "                results.append(extracted_posts)\n",
    "\n",
    "            pagination_token = f'paginationToken:{res.json()[\"data\"][\"searchDashClustersByAll\"][\"metadata\"][\"paginationToken\"]}'\n",
    "            start = f\"start:{len(results)}\"\n",
    "\n",
    "            print(f\"Total {len(results)} values retrieved\")\n",
    "\n",
    "            time.sleep(random.randint(1,3))\n",
    "    except:\n",
    "        return results\n",
    "\n",
    "    return results"
   ]
  },
  {
   "cell_type": "code",
   "execution_count": 137,
   "metadata": {},
   "outputs": [
    {
     "data": {
      "text/plain": [
       "'9h'"
      ]
     },
     "execution_count": 137,
     "metadata": {},
     "output_type": "execute_result"
    }
   ],
   "source": [
    "post_date = post_list[0][\"item\"][\"entityResult\"][\"secondarySubtitle\"][\"text\"].split(\"•\")[-2].strip()\n",
    "post_date"
   ]
  },
  {
   "cell_type": "code",
   "execution_count": 141,
   "metadata": {},
   "outputs": [
    {
     "data": {
      "text/plain": [
       "'Edited'"
      ]
     },
     "execution_count": 141,
     "metadata": {},
     "output_type": "execute_result"
    }
   ],
   "source": [
    "post_date = \"1yr • Edited •\".split(\"•\")[-2].strip()\n",
    "post_date"
   ]
  },
  {
   "cell_type": "code",
   "execution_count": 132,
   "metadata": {},
   "outputs": [
    {
     "data": {
      "text/plain": [
       "datetime.datetime(2024, 8, 30, 2, 56, 0, 620477)"
      ]
     },
     "execution_count": 132,
     "metadata": {},
     "output_type": "execute_result"
    }
   ],
   "source": [
    "import datetime\n",
    "\n",
    "datetime.datetime.now() - datetime.timedelta(**{map_date[post_date[-1]]:int(post_date[:-1])})"
   ]
  },
  {
   "cell_type": "code",
   "execution_count": 95,
   "metadata": {},
   "outputs": [
    {
     "data": {
      "text/plain": [
       "'weeks'"
      ]
     },
     "execution_count": 95,
     "metadata": {},
     "output_type": "execute_result"
    }
   ],
   "source": [
    "\n",
    "map_date[\"w\"]"
   ]
  },
  {
   "cell_type": "code",
   "execution_count": 145,
   "metadata": {},
   "outputs": [
    {
     "name": "stdout",
     "output_type": "stream",
     "text": [
      "/graphql?variables=(count:10,query:(flagshipSearchIntent:SEARCH_MY_ITEMS_SAVED_POSTS,queryParameters:List((key:savedPostType,value:List(ALL)))))&queryId=voyagerSearchDashClusters.a2b606e8c1f58b3cf72fb5d54a2a57e7\n",
      "Total 10 values retrieved\n",
      "/graphql?variables=(start:10,count:10,paginationToken:dXJuOmxpOmFjdGl2aXR5OjcyMzI0Njg1MzQyNDM1Njk2NjQtMTcyNDgzODUxNDI2Mg==,query:(flagshipSearchIntent:SEARCH_MY_ITEMS_SAVED_POSTS,queryParameters:List((key:savedPostType,value:List(ALL)))))&queryId=voyagerSearchDashClusters.a2b606e8c1f58b3cf72fb5d54a2a57e7\n",
      "Total 20 values retrieved\n",
      "/graphql?variables=(start:20,count:10,paginationToken:dXJuOmxpOmFjdGl2aXR5OjcyMzM3MzIwNTA3NDEwNjM2ODEtMTcyNDY2MzY0ODEyOA==,query:(flagshipSearchIntent:SEARCH_MY_ITEMS_SAVED_POSTS,queryParameters:List((key:savedPostType,value:List(ALL)))))&queryId=voyagerSearchDashClusters.a2b606e8c1f58b3cf72fb5d54a2a57e7\n",
      "Total 30 values retrieved\n",
      "/graphql?variables=(start:30,count:10,paginationToken:dXJuOmxpOmFjdGl2aXR5OjcyMzMxMzE4NzU3MTA0MzEyMzItMTcyNDUxMzY2OTY4MQ==,query:(flagshipSearchIntent:SEARCH_MY_ITEMS_SAVED_POSTS,queryParameters:List((key:savedPostType,value:List(ALL)))))&queryId=voyagerSearchDashClusters.a2b606e8c1f58b3cf72fb5d54a2a57e7\n",
      "Total 40 values retrieved\n",
      "/graphql?variables=(start:40,count:10,paginationToken:dXJuOmxpOmFjdGl2aXR5OjcyMzE5ODYwNDk4MjI5NDkzNzYtMTcyNDM5MTczNjU4NQ==,query:(flagshipSearchIntent:SEARCH_MY_ITEMS_SAVED_POSTS,queryParameters:List((key:savedPostType,value:List(ALL)))))&queryId=voyagerSearchDashClusters.a2b606e8c1f58b3cf72fb5d54a2a57e7\n",
      "Total 50 values retrieved\n",
      "/graphql?variables=(start:50,count:10,paginationToken:dXJuOmxpOmFjdGl2aXR5OjcyMzE2MzUxODIwMTU5NjcyMzItMTcyNDI0MzIzNTgzOQ==,query:(flagshipSearchIntent:SEARCH_MY_ITEMS_SAVED_POSTS,queryParameters:List((key:savedPostType,value:List(ALL)))))&queryId=voyagerSearchDashClusters.a2b606e8c1f58b3cf72fb5d54a2a57e7\n",
      "Total 60 values retrieved\n",
      "/graphql?variables=(start:60,count:10,paginationToken:dXJuOmxpOmFjdGl2aXR5OjcyMzE0NjYyMzAwMzU5ODAyODgtMTcyNDEzOTA4NTkwMQ==,query:(flagshipSearchIntent:SEARCH_MY_ITEMS_SAVED_POSTS,queryParameters:List((key:savedPostType,value:List(ALL)))))&queryId=voyagerSearchDashClusters.a2b606e8c1f58b3cf72fb5d54a2a57e7\n",
      "Total 70 values retrieved\n",
      "/graphql?variables=(start:70,count:10,paginationToken:dXJuOmxpOmFjdGl2aXR5OjcyMzA1Mjg4OTY1NDEwNTcwMjUtMTcyMzkwMDYyMTY2NQ==,query:(flagshipSearchIntent:SEARCH_MY_ITEMS_SAVED_POSTS,queryParameters:List((key:savedPostType,value:List(ALL)))))&queryId=voyagerSearchDashClusters.a2b606e8c1f58b3cf72fb5d54a2a57e7\n",
      "Total 80 values retrieved\n",
      "/graphql?variables=(start:80,count:10,paginationToken:dXJuOmxpOmFjdGl2aXR5OjcyMjk5MjY3MzIxNDM3MDIwMTYtMTcyMzc4Mjk3NTc4Mg==,query:(flagshipSearchIntent:SEARCH_MY_ITEMS_SAVED_POSTS,queryParameters:List((key:savedPostType,value:List(ALL)))))&queryId=voyagerSearchDashClusters.a2b606e8c1f58b3cf72fb5d54a2a57e7\n",
      "Total 90 values retrieved\n",
      "/graphql?variables=(start:90,count:10,paginationToken:dXJuOmxpOmFjdGl2aXR5OjcyMjkxMDE5MzMxNzk4NjcxMzYtMTcyMzYyMjM0NzgyNw==,query:(flagshipSearchIntent:SEARCH_MY_ITEMS_SAVED_POSTS,queryParameters:List((key:savedPostType,value:List(ALL)))))&queryId=voyagerSearchDashClusters.a2b606e8c1f58b3cf72fb5d54a2a57e7\n",
      "Total 100 values retrieved\n",
      "/graphql?variables=(start:100,count:10,paginationToken:dXJuOmxpOmFjdGl2aXR5OjcyMjg2NjU3MDY2NTU5NTY5OTMtMTcyMzQ1NTk5NDI3Ng==,query:(flagshipSearchIntent:SEARCH_MY_ITEMS_SAVED_POSTS,queryParameters:List((key:savedPostType,value:List(ALL)))))&queryId=voyagerSearchDashClusters.a2b606e8c1f58b3cf72fb5d54a2a57e7\n",
      "Total 110 values retrieved\n",
      "/graphql?variables=(start:110,count:10,paginationToken:dXJuOmxpOmFjdGl2aXR5OjcyMjc1NzMwMzE2MjIwNzAyNzMtMTcyMzIwMjE0MTA3Nw==,query:(flagshipSearchIntent:SEARCH_MY_ITEMS_SAVED_POSTS,queryParameters:List((key:savedPostType,value:List(ALL)))))&queryId=voyagerSearchDashClusters.a2b606e8c1f58b3cf72fb5d54a2a57e7\n",
      "Total 120 values retrieved\n",
      "/graphql?variables=(start:120,count:10,paginationToken:dXJuOmxpOmFjdGl2aXR5OjcyMjYyMjYwNDU3NzM4NjQ5NjItMTcyMjkzNDgxMTkyMQ==,query:(flagshipSearchIntent:SEARCH_MY_ITEMS_SAVED_POSTS,queryParameters:List((key:savedPostType,value:List(ALL)))))&queryId=voyagerSearchDashClusters.a2b606e8c1f58b3cf72fb5d54a2a57e7\n",
      "Total 130 values retrieved\n",
      "/graphql?variables=(start:130,count:10,paginationToken:dXJuOmxpOmFjdGl2aXR5OjcyMjYwODIzNDE1OTEzMzkwMDgtMTcyMjgzNDEzNzM3MQ==,query:(flagshipSearchIntent:SEARCH_MY_ITEMS_SAVED_POSTS,queryParameters:List((key:savedPostType,value:List(ALL)))))&queryId=voyagerSearchDashClusters.a2b606e8c1f58b3cf72fb5d54a2a57e7\n",
      "Total 140 values retrieved\n",
      "/graphql?variables=(start:140,count:10,paginationToken:dXJuOmxpOmFjdGl2aXR5OjcyMjUwMjM3OTg4MzA0MTE3NzYtMTcyMjYwNDI5NTg4MA==,query:(flagshipSearchIntent:SEARCH_MY_ITEMS_SAVED_POSTS,queryParameters:List((key:savedPostType,value:List(ALL)))))&queryId=voyagerSearchDashClusters.a2b606e8c1f58b3cf72fb5d54a2a57e7\n",
      "Total 150 values retrieved\n",
      "/graphql?variables=(start:150,count:10,paginationToken:dXJuOmxpOmFjdGl2aXR5OjcyMjIzMDY3NDYwNDI1Njg3MzAtMTcyMjQ4MjkxNjM1MA==,query:(flagshipSearchIntent:SEARCH_MY_ITEMS_SAVED_POSTS,queryParameters:List((key:savedPostType,value:List(ALL)))))&queryId=voyagerSearchDashClusters.a2b606e8c1f58b3cf72fb5d54a2a57e7\n",
      "Total 160 values retrieved\n",
      "/graphql?variables=(start:160,count:10,paginationToken:dXJuOmxpOmFjdGl2aXR5OjcyMjM2NTg2MDI3MzE4ODQ1NDgtMTcyMjM0OTMxODQ4Nw==,query:(flagshipSearchIntent:SEARCH_MY_ITEMS_SAVED_POSTS,queryParameters:List((key:savedPostType,value:List(ALL)))))&queryId=voyagerSearchDashClusters.a2b606e8c1f58b3cf72fb5d54a2a57e7\n",
      "Total 170 values retrieved\n",
      "/graphql?variables=(start:170,count:10,paginationToken:dXJuOmxpOmFjdGl2aXR5OjcyMjM5MzA0MzI3MTc4MjgwOTYtMTcyMjMyMTEzNTYyMg==,query:(flagshipSearchIntent:SEARCH_MY_ITEMS_SAVED_POSTS,queryParameters:List((key:savedPostType,value:List(ALL)))))&queryId=voyagerSearchDashClusters.a2b606e8c1f58b3cf72fb5d54a2a57e7\n",
      "Total 180 values retrieved\n",
      "/graphql?variables=(start:180,count:10,paginationToken:dXJuOmxpOmFjdGl2aXR5OjcyMjM0NjIyMzQ2MTY3Mzc3OTItMTcyMjIyNTE4MjQ1NQ==,query:(flagshipSearchIntent:SEARCH_MY_ITEMS_SAVED_POSTS,queryParameters:List((key:savedPostType,value:List(ALL)))))&queryId=voyagerSearchDashClusters.a2b606e8c1f58b3cf72fb5d54a2a57e7\n",
      "Total 190 values retrieved\n",
      "/graphql?variables=(start:190,count:10,paginationToken:dXJuOmxpOmFjdGl2aXR5OjcyMjI5ODU3MzcxODc1MTIzMjAtMTcyMjE2NTU3ODQ0NQ==,query:(flagshipSearchIntent:SEARCH_MY_ITEMS_SAVED_POSTS,queryParameters:List((key:savedPostType,value:List(ALL)))))&queryId=voyagerSearchDashClusters.a2b606e8c1f58b3cf72fb5d54a2a57e7\n",
      "Total 200 values retrieved\n",
      "/graphql?variables=(start:200,count:10,paginationToken:dXJuOmxpOmFjdGl2aXR5OjcyMjI1NTYyNjQzODY0NzgwODAtMTcyMjA4NTA3NzUwNw==,query:(flagshipSearchIntent:SEARCH_MY_ITEMS_SAVED_POSTS,queryParameters:List((key:savedPostType,value:List(ALL)))))&queryId=voyagerSearchDashClusters.a2b606e8c1f58b3cf72fb5d54a2a57e7\n",
      "Total 210 values retrieved\n",
      "/graphql?variables=(start:210,count:10,paginationToken:dXJuOmxpOmFjdGl2aXR5OjcyMjI3NDgxNTgxMzEzNjc5MzYtMTcyMjA0Mjk3NTQ5Ng==,query:(flagshipSearchIntent:SEARCH_MY_ITEMS_SAVED_POSTS,queryParameters:List((key:savedPostType,value:List(ALL)))))&queryId=voyagerSearchDashClusters.a2b606e8c1f58b3cf72fb5d54a2a57e7\n",
      "Total 220 values retrieved\n",
      "/graphql?variables=(start:220,count:10,paginationToken:dXJuOmxpOmFjdGl2aXR5OjcyMjExMTA3OTYxNTQ0OTQ5NzYtMTcyMTg4NzYxODc5Mg==,query:(flagshipSearchIntent:SEARCH_MY_ITEMS_SAVED_POSTS,queryParameters:List((key:savedPostType,value:List(ALL)))))&queryId=voyagerSearchDashClusters.a2b606e8c1f58b3cf72fb5d54a2a57e7\n",
      "Total 230 values retrieved\n",
      "/graphql?variables=(start:230,count:10,paginationToken:dXJuOmxpOmFjdGl2aXR5OjcyMjEwNjcyNzU0MjI4NDI4ODAtMTcyMTY1MzIxMjU2NA==,query:(flagshipSearchIntent:SEARCH_MY_ITEMS_SAVED_POSTS,queryParameters:List((key:savedPostType,value:List(ALL)))))&queryId=voyagerSearchDashClusters.a2b606e8c1f58b3cf72fb5d54a2a57e7\n",
      "Total 240 values retrieved\n",
      "/graphql?variables=(start:240,count:10,paginationToken:dXJuOmxpOmFjdGl2aXR5OjcyMjA5NTQ3NTUzODMxNDAzNTMtMTcyMTYyNzgxNDUwNw==,query:(flagshipSearchIntent:SEARCH_MY_ITEMS_SAVED_POSTS,queryParameters:List((key:savedPostType,value:List(ALL)))))&queryId=voyagerSearchDashClusters.a2b606e8c1f58b3cf72fb5d54a2a57e7\n",
      "Total 250 values retrieved\n",
      "/graphql?variables=(start:250,count:10,paginationToken:dXJuOmxpOmFjdGl2aXR5OjcyMjA1OTMzMjY3MzM4NDg1NzYtMTcyMTU1NTMzNjA3MA==,query:(flagshipSearchIntent:SEARCH_MY_ITEMS_SAVED_POSTS,queryParameters:List((key:savedPostType,value:List(ALL)))))&queryId=voyagerSearchDashClusters.a2b606e8c1f58b3cf72fb5d54a2a57e7\n",
      "Total 260 values retrieved\n",
      "/graphql?variables=(start:260,count:10,paginationToken:dXJuOmxpOmFjdGl2aXR5OjcyMTg1OTMzOTg4NjgzNzc2MDAtMTcyMTM1MjkyMjkxNw==,query:(flagshipSearchIntent:SEARCH_MY_ITEMS_SAVED_POSTS,queryParameters:List((key:savedPostType,value:List(ALL)))))&queryId=voyagerSearchDashClusters.a2b606e8c1f58b3cf72fb5d54a2a57e7\n",
      "Total 269 values retrieved\n",
      "/graphql?variables=(start:269,count:10,paginationToken:dXJuOmxpOmFjdGl2aXR5OjcyMTkwMjk2NDg2MjQ1MzM1MDQtMTcyMTE4MTI2MDM4OQ==,query:(flagshipSearchIntent:SEARCH_MY_ITEMS_SAVED_POSTS,queryParameters:List((key:savedPostType,value:List(ALL)))))&queryId=voyagerSearchDashClusters.a2b606e8c1f58b3cf72fb5d54a2a57e7\n",
      "Total 279 values retrieved\n",
      "/graphql?variables=(start:279,count:10,paginationToken:dXJuOmxpOmFjdGl2aXR5OjcyMTcyMjQ1Mzg1NjcxNTk4MDgtMTcyMDc4MjQxNTY5Ng==,query:(flagshipSearchIntent:SEARCH_MY_ITEMS_SAVED_POSTS,queryParameters:List((key:savedPostType,value:List(ALL)))))&queryId=voyagerSearchDashClusters.a2b606e8c1f58b3cf72fb5d54a2a57e7\n",
      "Total 289 values retrieved\n",
      "/graphql?variables=(start:289,count:10,paginationToken:dXJuOmxpOmFjdGl2aXR5OjcyMTU3MTg1MTUyNTk5NTcyNDgtMTcyMDUxMTAyMzU5MA==,query:(flagshipSearchIntent:SEARCH_MY_ITEMS_SAVED_POSTS,queryParameters:List((key:savedPostType,value:List(ALL)))))&queryId=voyagerSearchDashClusters.a2b606e8c1f58b3cf72fb5d54a2a57e7\n",
      "Total 299 values retrieved\n",
      "/graphql?variables=(start:299,count:10,paginationToken:dXJuOmxpOmFjdGl2aXR5OjcyMTM3NjUyMDQ3MTM2MTUzNjAtMTcxOTkwNjI1OTkyNA==,query:(flagshipSearchIntent:SEARCH_MY_ITEMS_SAVED_POSTS,queryParameters:List((key:savedPostType,value:List(ALL)))))&queryId=voyagerSearchDashClusters.a2b606e8c1f58b3cf72fb5d54a2a57e7\n",
      "Total 309 values retrieved\n",
      "/graphql?variables=(start:309,count:10,paginationToken:dXJuOmxpOmFjdGl2aXR5OjcyMDMzMjAwODEyNDg4NTgxMTItMTcxNzQwNjY5MDU0NQ==,query:(flagshipSearchIntent:SEARCH_MY_ITEMS_SAVED_POSTS,queryParameters:List((key:savedPostType,value:List(ALL)))))&queryId=voyagerSearchDashClusters.a2b606e8c1f58b3cf72fb5d54a2a57e7\n",
      "Total 319 values retrieved\n",
      "/graphql?variables=(start:319,count:10,paginationToken:dXJuOmxpOmFjdGl2aXR5OjcyMDE1MTM0NTc4MDY4OTMwNTYtMTcxNjk3NjcwNjYyNA==,query:(flagshipSearchIntent:SEARCH_MY_ITEMS_SAVED_POSTS,queryParameters:List((key:savedPostType,value:List(ALL)))))&queryId=voyagerSearchDashClusters.a2b606e8c1f58b3cf72fb5d54a2a57e7\n",
      "Total 329 values retrieved\n",
      "/graphql?variables=(start:329,count:10,paginationToken:dXJuOmxpOmFjdGl2aXR5OjcyMDAyOTk2MDQxNzE1MzAyNDEtMTcxNjc0MjQ1MzM0MQ==,query:(flagshipSearchIntent:SEARCH_MY_ITEMS_SAVED_POSTS,queryParameters:List((key:savedPostType,value:List(ALL)))))&queryId=voyagerSearchDashClusters.a2b606e8c1f58b3cf72fb5d54a2a57e7\n",
      "Total 339 values retrieved\n",
      "/graphql?variables=(start:339,count:10,paginationToken:dXJuOmxpOmFjdGl2aXR5OjcxOTg5NTMxODU1ODE5NDQ4MzItMTcxNjUzNzk0NDk1NA==,query:(flagshipSearchIntent:SEARCH_MY_ITEMS_SAVED_POSTS,queryParameters:List((key:savedPostType,value:List(ALL)))))&queryId=voyagerSearchDashClusters.a2b606e8c1f58b3cf72fb5d54a2a57e7\n",
      "Total 349 values retrieved\n",
      "/graphql?variables=(start:349,count:10,paginationToken:dXJuOmxpOmFjdGl2aXR5OjcxOTg2NTM4NTY1NzI5ODk0NDAtMTcxNjMxMDUwNzc4OQ==,query:(flagshipSearchIntent:SEARCH_MY_ITEMS_SAVED_POSTS,queryParameters:List((key:savedPostType,value:List(ALL)))))&queryId=voyagerSearchDashClusters.a2b606e8c1f58b3cf72fb5d54a2a57e7\n",
      "Total 359 values retrieved\n",
      "/graphql?variables=(start:359,count:10,paginationToken:dXJuOmxpOmFjdGl2aXR5OjcxOTU3NjM5MjI2MDY0MjQwNjQtMTcxNjI4OTI2MTAyNw==,query:(flagshipSearchIntent:SEARCH_MY_ITEMS_SAVED_POSTS,queryParameters:List((key:savedPostType,value:List(ALL)))))&queryId=voyagerSearchDashClusters.a2b606e8c1f58b3cf72fb5d54a2a57e7\n",
      "Total 369 values retrieved\n",
      "/graphql?variables=(start:369,count:10,paginationToken:dXJuOmxpOmFjdGl2aXR5OjcxOTgyODM4Nzc3MzQzNTQ5NDQtMTcxNjIwNDg1ODUwMQ==,query:(flagshipSearchIntent:SEARCH_MY_ITEMS_SAVED_POSTS,queryParameters:List((key:savedPostType,value:List(ALL)))))&queryId=voyagerSearchDashClusters.a2b606e8c1f58b3cf72fb5d54a2a57e7\n",
      "Total 379 values retrieved\n",
      "/graphql?variables=(start:379,count:10,paginationToken:dXJuOmxpOmFjdGl2aXR5OjcxOTY1MzU3Mzc3NzU3MTQzMDQtMTcxNTgwOTE0OTIzMA==,query:(flagshipSearchIntent:SEARCH_MY_ITEMS_SAVED_POSTS,queryParameters:List((key:savedPostType,value:List(ALL)))))&queryId=voyagerSearchDashClusters.a2b606e8c1f58b3cf72fb5d54a2a57e7\n",
      "Total 389 values retrieved\n",
      "/graphql?variables=(start:389,count:10,paginationToken:dXJuOmxpOmFjdGl2aXR5OjcxOTAxNTI3NDQ3MzE2MDcwNDEtMTcxNTMzNzUzMTI2Nw==,query:(flagshipSearchIntent:SEARCH_MY_ITEMS_SAVED_POSTS,queryParameters:List((key:savedPostType,value:List(ALL)))))&queryId=voyagerSearchDashClusters.a2b606e8c1f58b3cf72fb5d54a2a57e7\n",
      "Total 399 values retrieved\n",
      "/graphql?variables=(start:399,count:10,paginationToken:dXJuOmxpOmFjdGl2aXR5OjcxOTMxMjY5NDY1ODU2OTAxMTQtMTcxNDk4NDA5NzgwNg==,query:(flagshipSearchIntent:SEARCH_MY_ITEMS_SAVED_POSTS,queryParameters:List((key:savedPostType,value:List(ALL)))))&queryId=voyagerSearchDashClusters.a2b606e8c1f58b3cf72fb5d54a2a57e7\n",
      "Total 409 values retrieved\n",
      "/graphql?variables=(start:409,count:10,paginationToken:dXJuOmxpOmFjdGl2aXR5OjcxOTA3Mjk0Njg3NjI1NjI1NjEtMTcxNDQxOTY0MDA5NA==,query:(flagshipSearchIntent:SEARCH_MY_ITEMS_SAVED_POSTS,queryParameters:List((key:savedPostType,value:List(ALL)))))&queryId=voyagerSearchDashClusters.a2b606e8c1f58b3cf72fb5d54a2a57e7\n",
      "Total 419 values retrieved\n",
      "/graphql?variables=(start:419,count:10,paginationToken:dXJuOmxpOmFjdGl2aXR5OjcxODc5NzM5OTg4NjM5NjYyMDgtMTcxMzc3NDgzNTY2NQ==,query:(flagshipSearchIntent:SEARCH_MY_ITEMS_SAVED_POSTS,queryParameters:List((key:savedPostType,value:List(ALL)))))&queryId=voyagerSearchDashClusters.a2b606e8c1f58b3cf72fb5d54a2a57e7\n",
      "Total 429 values retrieved\n",
      "/graphql?variables=(start:429,count:10,paginationToken:dXJuOmxpOmFjdGl2aXR5OjcxODYzNjMwOTI0MjE3NzUzNjAtMTcxMzM3NjMyMDcwMA==,query:(flagshipSearchIntent:SEARCH_MY_ITEMS_SAVED_POSTS,queryParameters:List((key:savedPostType,value:List(ALL)))))&queryId=voyagerSearchDashClusters.a2b606e8c1f58b3cf72fb5d54a2a57e7\n",
      "Total 439 values retrieved\n",
      "/graphql?variables=(start:439,count:10,paginationToken:dXJuOmxpOmFjdGl2aXR5OjcxODExNDk3MDczNTg5MzI5OTItMTcxMjEyNDA2MjgzNA==,query:(flagshipSearchIntent:SEARCH_MY_ITEMS_SAVED_POSTS,queryParameters:List((key:savedPostType,value:List(ALL)))))&queryId=voyagerSearchDashClusters.a2b606e8c1f58b3cf72fb5d54a2a57e7\n",
      "Total 449 values retrieved\n",
      "/graphql?variables=(start:449,count:10,paginationToken:dXJuOmxpOmFjdGl2aXR5OjcxNzg3MTQ4Nzk5NTkxOTU2NDgtMTcxMTU0MTgzMDA5Ng==,query:(flagshipSearchIntent:SEARCH_MY_ITEMS_SAVED_POSTS,queryParameters:List((key:savedPostType,value:List(ALL)))))&queryId=voyagerSearchDashClusters.a2b606e8c1f58b3cf72fb5d54a2a57e7\n",
      "Total 459 values retrieved\n",
      "/graphql?variables=(start:459,count:10,paginationToken:dXJuOmxpOmFjdGl2aXR5OjcxNzc4NDMyMDA0NzEwMTU0MjQtMTcxMTM1ODUzNzIzMw==,query:(flagshipSearchIntent:SEARCH_MY_ITEMS_SAVED_POSTS,queryParameters:List((key:savedPostType,value:List(ALL)))))&queryId=voyagerSearchDashClusters.a2b606e8c1f58b3cf72fb5d54a2a57e7\n",
      "Total 469 values retrieved\n",
      "/graphql?variables=(start:469,count:10,paginationToken:dXJuOmxpOmFjdGl2aXR5OjcxNzYxMjk3Njg5NDAwNjA2NzItMTcxMDkyNjI3ODk4OA==,query:(flagshipSearchIntent:SEARCH_MY_ITEMS_SAVED_POSTS,queryParameters:List((key:savedPostType,value:List(ALL)))))&queryId=voyagerSearchDashClusters.a2b606e8c1f58b3cf72fb5d54a2a57e7\n",
      "Total 479 values retrieved\n",
      "/graphql?variables=(start:479,count:10,paginationToken:dXJuOmxpOmFjdGl2aXR5OjcxNzIzMjA4Nzc2MzQ2OTkyNjQtMTcxMDE4NDI3MTAxNA==,query:(flagshipSearchIntent:SEARCH_MY_ITEMS_SAVED_POSTS,queryParameters:List((key:savedPostType,value:List(ALL)))))&queryId=voyagerSearchDashClusters.a2b606e8c1f58b3cf72fb5d54a2a57e7\n",
      "Total 489 values retrieved\n",
      "/graphql?variables=(start:489,count:10,paginationToken:dXJuOmxpOmFjdGl2aXR5OjcxNjg3MjA1MTMzNjI1MDU3MjgtMTcwOTQ4ODQ1NTM1NQ==,query:(flagshipSearchIntent:SEARCH_MY_ITEMS_SAVED_POSTS,queryParameters:List((key:savedPostType,value:List(ALL)))))&queryId=voyagerSearchDashClusters.a2b606e8c1f58b3cf72fb5d54a2a57e7\n",
      "Total 499 values retrieved\n",
      "/graphql?variables=(start:499,count:10,paginationToken:dXJuOmxpOmFjdGl2aXR5OjcxNjgyMDMwOTEwMzEzNTk0ODktMTcwOTA1MDgzNDAzNA==,query:(flagshipSearchIntent:SEARCH_MY_ITEMS_SAVED_POSTS,queryParameters:List((key:savedPostType,value:List(ALL)))))&queryId=voyagerSearchDashClusters.a2b606e8c1f58b3cf72fb5d54a2a57e7\n",
      "Total 509 values retrieved\n",
      "/graphql?variables=(start:509,count:10,paginationToken:dXJuOmxpOmFjdGl2aXR5OjcxNjc0OTUxOTI1NzU0Njc1MjAtMTcwODg4ODIyMzM4Mw==,query:(flagshipSearchIntent:SEARCH_MY_ITEMS_SAVED_POSTS,queryParameters:List((key:savedPostType,value:List(ALL)))))&queryId=voyagerSearchDashClusters.a2b606e8c1f58b3cf72fb5d54a2a57e7\n",
      "Total 519 values retrieved\n",
      "/graphql?variables=(start:519,count:10,paginationToken:dXJuOmxpOmFjdGl2aXR5OjcxNjM5MzY3MjczMjQxNDc3MTMtMTcwODAyODY3OTg4Mg==,query:(flagshipSearchIntent:SEARCH_MY_ITEMS_SAVED_POSTS,queryParameters:List((key:savedPostType,value:List(ALL)))))&queryId=voyagerSearchDashClusters.a2b606e8c1f58b3cf72fb5d54a2a57e7\n",
      "Total 529 values retrieved\n",
      "/graphql?variables=(start:529,count:10,paginationToken:dXJuOmxpOmFjdGl2aXR5OjcxNjI3NTc5MTk1NTIyMDA3MDQtMTcwNzc1NjUzMjk5OQ==,query:(flagshipSearchIntent:SEARCH_MY_ITEMS_SAVED_POSTS,queryParameters:List((key:savedPostType,value:List(ALL)))))&queryId=voyagerSearchDashClusters.a2b606e8c1f58b3cf72fb5d54a2a57e7\n",
      "Total 539 values retrieved\n",
      "/graphql?variables=(start:539,count:10,paginationToken:dXJuOmxpOmFjdGl2aXR5OjcxNTc3NjQ2MTY2NzA4NTkyNjUtMTcwNjU1MzA1MDEyMQ==,query:(flagshipSearchIntent:SEARCH_MY_ITEMS_SAVED_POSTS,queryParameters:List((key:savedPostType,value:List(ALL)))))&queryId=voyagerSearchDashClusters.a2b606e8c1f58b3cf72fb5d54a2a57e7\n",
      "Total 549 values retrieved\n",
      "/graphql?variables=(start:549,count:10,paginationToken:dXJuOmxpOmFjdGl2aXR5OjcxNTQ0OTgxNTkwMzE3ODM0MjQtMTcwNTg3MDI2MTE0NA==,query:(flagshipSearchIntent:SEARCH_MY_ITEMS_SAVED_POSTS,queryParameters:List((key:savedPostType,value:List(ALL)))))&queryId=voyagerSearchDashClusters.a2b606e8c1f58b3cf72fb5d54a2a57e7\n",
      "Total 559 values retrieved\n",
      "/graphql?variables=(start:559,count:10,paginationToken:dXJuOmxpOmFjdGl2aXR5OjcxNTA5MDc3NjA1MDE0ODk2NjQtMTcwNDkxMDg3MzA2Nw==,query:(flagshipSearchIntent:SEARCH_MY_ITEMS_SAVED_POSTS,queryParameters:List((key:savedPostType,value:List(ALL)))))&queryId=voyagerSearchDashClusters.a2b606e8c1f58b3cf72fb5d54a2a57e7\n",
      "Total 569 values retrieved\n",
      "/graphql?variables=(start:569,count:10,paginationToken:dXJuOmxpOmFjdGl2aXR5OjcxNDg1ODQ1NTMwMTAzMTUyNjQtMTcwNDM2OTA4NjYxMA==,query:(flagshipSearchIntent:SEARCH_MY_ITEMS_SAVED_POSTS,queryParameters:List((key:savedPostType,value:List(ALL)))))&queryId=voyagerSearchDashClusters.a2b606e8c1f58b3cf72fb5d54a2a57e7\n",
      "Total 579 values retrieved\n",
      "/graphql?variables=(start:579,count:10,paginationToken:dXJuOmxpOmFjdGl2aXR5OjcxNDEwNDQwODczMjcwMzk0ODktMTcwMzA2NTI4OTk5MA==,query:(flagshipSearchIntent:SEARCH_MY_ITEMS_SAVED_POSTS,queryParameters:List((key:savedPostType,value:List(ALL)))))&queryId=voyagerSearchDashClusters.a2b606e8c1f58b3cf72fb5d54a2a57e7\n",
      "Total 589 values retrieved\n",
      "/graphql?variables=(start:589,count:10,paginationToken:dXJuOmxpOmFjdGl2aXR5OjcxNDExNzMxOTc3NzI2NzMwMjQtMTcwMjU5MjMzNDMxOA==,query:(flagshipSearchIntent:SEARCH_MY_ITEMS_SAVED_POSTS,queryParameters:List((key:savedPostType,value:List(ALL)))))&queryId=voyagerSearchDashClusters.a2b606e8c1f58b3cf72fb5d54a2a57e7\n",
      "Total 599 values retrieved\n",
      "/graphql?variables=(start:599,count:10,paginationToken:dXJuOmxpOmFjdGl2aXR5OjcxMzg0NjI5ODI0MDUwNTg1NjAtMTcwMTk3NDg1MjAxNw==,query:(flagshipSearchIntent:SEARCH_MY_ITEMS_SAVED_POSTS,queryParameters:List((key:savedPostType,value:List(ALL)))))&queryId=voyagerSearchDashClusters.a2b606e8c1f58b3cf72fb5d54a2a57e7\n",
      "Total 609 values retrieved\n",
      "/graphql?variables=(start:609,count:10,paginationToken:dXJuOmxpOmFjdGl2aXR5OjcxMzMxMzEzNDg2NzU4NzA3MjAtMTcwMTcyMzI2MzQ4Mw==,query:(flagshipSearchIntent:SEARCH_MY_ITEMS_SAVED_POSTS,queryParameters:List((key:savedPostType,value:List(ALL)))))&queryId=voyagerSearchDashClusters.a2b606e8c1f58b3cf72fb5d54a2a57e7\n",
      "Total 619 values retrieved\n",
      "/graphql?variables=(start:619,count:10,paginationToken:dXJuOmxpOmFjdGl2aXR5OjcxMzYyNDc1Nzk1NDA5MjY0NjQtMTcwMTQ0MDU1MDMzMQ==,query:(flagshipSearchIntent:SEARCH_MY_ITEMS_SAVED_POSTS,queryParameters:List((key:savedPostType,value:List(ALL)))))&queryId=voyagerSearchDashClusters.a2b606e8c1f58b3cf72fb5d54a2a57e7\n",
      "Total 629 values retrieved\n",
      "/graphql?variables=(start:629,count:10,paginationToken:dXJuOmxpOmFjdGl2aXR5OjcxMzUyODI1NjI0ODYyMDIzNjgtMTcwMTE5MTM2NzczMw==,query:(flagshipSearchIntent:SEARCH_MY_ITEMS_SAVED_POSTS,queryParameters:List((key:savedPostType,value:List(ALL)))))&queryId=voyagerSearchDashClusters.a2b606e8c1f58b3cf72fb5d54a2a57e7\n",
      "Total 639 values retrieved\n",
      "/graphql?variables=(start:639,count:10,paginationToken:dXJuOmxpOmFjdGl2aXR5OjcxMzM0OTc3MTI5NzY0NzgyMDktMTcwMDc1ODg0ODMzMQ==,query:(flagshipSearchIntent:SEARCH_MY_ITEMS_SAVED_POSTS,queryParameters:List((key:savedPostType,value:List(ALL)))))&queryId=voyagerSearchDashClusters.a2b606e8c1f58b3cf72fb5d54a2a57e7\n",
      "Total 649 values retrieved\n",
      "/graphql?variables=(start:649,count:10,paginationToken:dXJuOmxpOmFjdGl2aXR5OjcxMjk4ODM4NTc0MTEwODAxOTItMTcwMDU1ODczODA2NA==,query:(flagshipSearchIntent:SEARCH_MY_ITEMS_SAVED_POSTS,queryParameters:List((key:savedPostType,value:List(ALL)))))&queryId=voyagerSearchDashClusters.a2b606e8c1f58b3cf72fb5d54a2a57e7\n",
      "Total 659 values retrieved\n",
      "/graphql?variables=(start:659,count:10,paginationToken:dXJuOmxpOmFjdGl2aXR5OjcxMzAxOTI3MDM4MDMyOTc3OTItMTY5OTk4MjU1MTA0NQ==,query:(flagshipSearchIntent:SEARCH_MY_ITEMS_SAVED_POSTS,queryParameters:List((key:savedPostType,value:List(ALL)))))&queryId=voyagerSearchDashClusters.a2b606e8c1f58b3cf72fb5d54a2a57e7\n",
      "Total 669 values retrieved\n",
      "/graphql?variables=(start:669,count:10,paginationToken:dXJuOmxpOmFjdGl2aXR5OjcxMjk3NzUzODM5MzUwOTg4ODQtMTY5OTg3NjM2MzA4MQ==,query:(flagshipSearchIntent:SEARCH_MY_ITEMS_SAVED_POSTS,queryParameters:List((key:savedPostType,value:List(ALL)))))&queryId=voyagerSearchDashClusters.a2b606e8c1f58b3cf72fb5d54a2a57e7\n",
      "Total 679 values retrieved\n",
      "/graphql?variables=(start:679,count:10,paginationToken:dXJuOmxpOmFjdGl2aXR5OjcxMjczMzUxMzk5OTAyMDAzMjAtMTY5OTM2MDA3MTU1MQ==,query:(flagshipSearchIntent:SEARCH_MY_ITEMS_SAVED_POSTS,queryParameters:List((key:savedPostType,value:List(ALL)))))&queryId=voyagerSearchDashClusters.a2b606e8c1f58b3cf72fb5d54a2a57e7\n",
      "Total 689 values retrieved\n",
      "/graphql?variables=(start:689,count:10,paginationToken:dXJuOmxpOmFjdGl2aXR5OjcxMjU3NzM1NDk5MDE4NjA4NjQtMTY5ODkxOTM1NDA4Ng==,query:(flagshipSearchIntent:SEARCH_MY_ITEMS_SAVED_POSTS,queryParameters:List((key:savedPostType,value:List(ALL)))))&queryId=voyagerSearchDashClusters.a2b606e8c1f58b3cf72fb5d54a2a57e7\n",
      "Total 699 values retrieved\n",
      "/graphql?variables=(start:699,count:10,paginationToken:dXJuOmxpOmFjdGl2aXR5OjcxMjUxMDE0MjIzMTE4NzQ1NjEtMTY5ODc2NjkxMTEyMA==,query:(flagshipSearchIntent:SEARCH_MY_ITEMS_SAVED_POSTS,queryParameters:List((key:savedPostType,value:List(ALL)))))&queryId=voyagerSearchDashClusters.a2b606e8c1f58b3cf72fb5d54a2a57e7\n",
      "Total 709 values retrieved\n",
      "/graphql?variables=(start:709,count:10,paginationToken:dXJuOmxpOmFjdGl2aXR5OjcxMjQ3NDE3Mzc3MzM4OTgyNDAtMTY5ODY4MzUxMDk4Mg==,query:(flagshipSearchIntent:SEARCH_MY_ITEMS_SAVED_POSTS,queryParameters:List((key:savedPostType,value:List(ALL)))))&queryId=voyagerSearchDashClusters.a2b606e8c1f58b3cf72fb5d54a2a57e7\n",
      "Total 719 values retrieved\n",
      "/graphql?variables=(start:719,count:10,paginationToken:dXJuOmxpOmFjdGl2aXR5OjcxMjMzNjIxODY2MjU3ODk5NTItMTY5ODM1NjYyMjM3Mg==,query:(flagshipSearchIntent:SEARCH_MY_ITEMS_SAVED_POSTS,queryParameters:List((key:savedPostType,value:List(ALL)))))&queryId=voyagerSearchDashClusters.a2b606e8c1f58b3cf72fb5d54a2a57e7\n",
      "Total 729 values retrieved\n",
      "/graphql?variables=(start:729,count:10,paginationToken:dXJuOmxpOmFjdGl2aXR5OjcxMjE4NjAzNDY2Mzc2NTYwNjUtMTY5ODA3MDMwNDEyOA==,query:(flagshipSearchIntent:SEARCH_MY_ITEMS_SAVED_POSTS,queryParameters:List((key:savedPostType,value:List(ALL)))))&queryId=voyagerSearchDashClusters.a2b606e8c1f58b3cf72fb5d54a2a57e7\n",
      "Total 739 values retrieved\n",
      "/graphql?variables=(start:739,count:10,paginationToken:dXJuOmxpOmFjdGl2aXR5OjcxMjAwMjk1MDg3MTExOTg3MjAtMTY5NzU2MDUyNzA0Mw==,query:(flagshipSearchIntent:SEARCH_MY_ITEMS_SAVED_POSTS,queryParameters:List((key:savedPostType,value:List(ALL)))))&queryId=voyagerSearchDashClusters.a2b606e8c1f58b3cf72fb5d54a2a57e7\n",
      "Total 749 values retrieved\n",
      "/graphql?variables=(start:749,count:10,paginationToken:dXJuOmxpOmFjdGl2aXR5OjcxMTkzNTA3MjA0OTkxOTE4MDgtMTY5NzUwNTcwOTU2Nw==,query:(flagshipSearchIntent:SEARCH_MY_ITEMS_SAVED_POSTS,queryParameters:List((key:savedPostType,value:List(ALL)))))&queryId=voyagerSearchDashClusters.a2b606e8c1f58b3cf72fb5d54a2a57e7\n",
      "Total 759 values retrieved\n",
      "/graphql?variables=(start:759,count:10,paginationToken:dXJuOmxpOmFjdGl2aXR5OjcxMTk3MTM2MzAyMDMzMTQxNzYtMTY5NzQ3Mzk5ODU4Nw==,query:(flagshipSearchIntent:SEARCH_MY_ITEMS_SAVED_POSTS,queryParameters:List((key:savedPostType,value:List(ALL)))))&queryId=voyagerSearchDashClusters.a2b606e8c1f58b3cf72fb5d54a2a57e7\n",
      "Total 769 values retrieved\n",
      "/graphql?variables=(start:769,count:10,paginationToken:dXJuOmxpOmFjdGl2aXR5OjcxMTc4OTA2ODM5NjQ3MjMyMDEtMTY5NzIwMjczMjE4MA==,query:(flagshipSearchIntent:SEARCH_MY_ITEMS_SAVED_POSTS,queryParameters:List((key:savedPostType,value:List(ALL)))))&queryId=voyagerSearchDashClusters.a2b606e8c1f58b3cf72fb5d54a2a57e7\n",
      "Total 779 values retrieved\n",
      "/graphql?variables=(start:779,count:10,paginationToken:dXJuOmxpOmFjdGl2aXR5OjcxMTc0OTc4NDMzOTI2MTg0OTctMTY5Njk3MjUzNTg5NA==,query:(flagshipSearchIntent:SEARCH_MY_ITEMS_SAVED_POSTS,queryParameters:List((key:savedPostType,value:List(ALL)))))&queryId=voyagerSearchDashClusters.a2b606e8c1f58b3cf72fb5d54a2a57e7\n",
      "Total 789 values retrieved\n",
      "/graphql?variables=(start:789,count:10,paginationToken:dXJuOmxpOmFjdGl2aXR5OjcxMTM4MjAyNjY4MjQxNTEwNDAtMTY5NjE5NDY2NzkxMA==,query:(flagshipSearchIntent:SEARCH_MY_ITEMS_SAVED_POSTS,queryParameters:List((key:savedPostType,value:List(ALL)))))&queryId=voyagerSearchDashClusters.a2b606e8c1f58b3cf72fb5d54a2a57e7\n",
      "Total 799 values retrieved\n",
      "/graphql?variables=(start:799,count:1,paginationToken:dXJuOmxpOmFjdGl2aXR5OjcxMDk4NDcyOTMxNDIzOTY5MjktMTY5NTIxMjU5NzEzMw==,query:(flagshipSearchIntent:SEARCH_MY_ITEMS_SAVED_POSTS,queryParameters:List((key:savedPostType,value:List(ALL)))))&queryId=voyagerSearchDashClusters.a2b606e8c1f58b3cf72fb5d54a2a57e7\n",
      "Total 800 values retrieved\n"
     ]
    }
   ],
   "source": [
    "of_10 = get_bookmarked_posts(limit=800)"
   ]
  },
  {
   "cell_type": "code",
   "execution_count": 146,
   "metadata": {},
   "outputs": [
    {
     "data": {
      "text/html": [
       "<div>\n",
       "<style scoped>\n",
       "    .dataframe tbody tr th:only-of-type {\n",
       "        vertical-align: middle;\n",
       "    }\n",
       "\n",
       "    .dataframe tbody tr th {\n",
       "        vertical-align: top;\n",
       "    }\n",
       "\n",
       "    .dataframe thead th {\n",
       "        text-align: right;\n",
       "    }\n",
       "</style>\n",
       "<table border=\"1\" class=\"dataframe\">\n",
       "  <thead>\n",
       "    <tr style=\"text-align: right;\">\n",
       "      <th></th>\n",
       "      <th>author</th>\n",
       "      <th>author_catchline</th>\n",
       "      <th>author_member_id</th>\n",
       "      <th>post_summary</th>\n",
       "      <th>post_url</th>\n",
       "      <th>post_activity_id</th>\n",
       "      <th>post_date_lkd</th>\n",
       "      <th>post_date_extract</th>\n",
       "      <th>post_date_formatted</th>\n",
       "    </tr>\n",
       "  </thead>\n",
       "  <tbody>\n",
       "    <tr>\n",
       "      <th>0</th>\n",
       "      <td>Marie Stephen Leo</td>\n",
       "      <td>I help Data enthusiasts learn about AI, DS, DE...</td>\n",
       "      <td>69170718</td>\n",
       "      <td>LLM Structured Output Benchmarks: Find the bes...</td>\n",
       "      <td>https://www.linkedin.com/feed/update/urn:li:ac...</td>\n",
       "      <td>7235088849331183616</td>\n",
       "      <td>11h •</td>\n",
       "      <td>11h</td>\n",
       "      <td>2024-08-30 09:24:53.447237</td>\n",
       "    </tr>\n",
       "    <tr>\n",
       "      <th>1</th>\n",
       "      <td>Ansgar Wolsing</td>\n",
       "      <td>Director Data &amp; Analytics @ Kaiser X Labs | Da...</td>\n",
       "      <td>602321657</td>\n",
       "      <td>Did you know you can export a ggplot2 chart as...</td>\n",
       "      <td>https://www.linkedin.com/feed/update/urn:li:ac...</td>\n",
       "      <td>7234956777983782912</td>\n",
       "      <td>20h •</td>\n",
       "      <td>20h</td>\n",
       "      <td>2024-08-30 00:24:53.447268</td>\n",
       "    </tr>\n",
       "    <tr>\n",
       "      <th>2</th>\n",
       "      <td>Sarthak Rastogi</td>\n",
       "      <td>AI engineer building agents | Experienced in L...</td>\n",
       "      <td>715062628</td>\n",
       "      <td>Apple’s new Superposition Prompting method imp...</td>\n",
       "      <td>https://www.linkedin.com/feed/update/urn:li:ac...</td>\n",
       "      <td>7234892590578311168</td>\n",
       "      <td>1d •</td>\n",
       "      <td>1d</td>\n",
       "      <td>2024-08-29 20:24:53.447276</td>\n",
       "    </tr>\n",
       "    <tr>\n",
       "      <th>3</th>\n",
       "      <td>Daniel Lee</td>\n",
       "      <td>Data/AI Jobs with Datainterview.com 🚀 | AI Con...</td>\n",
       "      <td>447871011</td>\n",
       "      <td>How do you become a 𝗙𝘂𝗹𝗹𝘀𝘁𝗮𝗰𝗸 𝗗𝗮𝘁𝗮 𝗦𝗰𝗶𝗲𝗻𝘁𝗶𝘀𝘁 o...</td>\n",
       "      <td>https://www.linkedin.com/feed/update/urn:li:ac...</td>\n",
       "      <td>7233488313716805632</td>\n",
       "      <td>4d •</td>\n",
       "      <td>4d</td>\n",
       "      <td>2024-08-26 20:24:53.447281</td>\n",
       "    </tr>\n",
       "    <tr>\n",
       "      <th>4</th>\n",
       "      <td>Dat Tran</td>\n",
       "      <td>VP of AI/ML at Beams Safety AI 🤖 | Advisor, In...</td>\n",
       "      <td>71711730</td>\n",
       "      <td>One of my favorite integration for tqdm - the ...</td>\n",
       "      <td>https://www.linkedin.com/feed/update/urn:li:ac...</td>\n",
       "      <td>7234809803888320512</td>\n",
       "      <td>1d •</td>\n",
       "      <td>1d</td>\n",
       "      <td>2024-08-29 20:24:53.447286</td>\n",
       "    </tr>\n",
       "    <tr>\n",
       "      <th>...</th>\n",
       "      <td>...</td>\n",
       "      <td>...</td>\n",
       "      <td>...</td>\n",
       "      <td>...</td>\n",
       "      <td>...</td>\n",
       "      <td>...</td>\n",
       "      <td>...</td>\n",
       "      <td>...</td>\n",
       "      <td>...</td>\n",
       "    </tr>\n",
       "    <tr>\n",
       "      <th>795</th>\n",
       "      <td>Marco Gorelli</td>\n",
       "      <td>pandas, Polars, Narwhals | Senior Software Eng...</td>\n",
       "      <td>825876736</td>\n",
       "      <td>🛑 Don't collect-block yourself!\\n\\n⚡ The Polar...</td>\n",
       "      <td>https://www.linkedin.com/feed/update/urn:li:ac...</td>\n",
       "      <td>7111725378674507776</td>\n",
       "      <td>1yr •</td>\n",
       "      <td>None</td>\n",
       "      <td>NaT</td>\n",
       "    </tr>\n",
       "    <tr>\n",
       "      <th>796</th>\n",
       "      <td>Harry Powell</td>\n",
       "      <td>Data science leader with track record of innov...</td>\n",
       "      <td>167072583</td>\n",
       "      <td>Here's an explainer video about estimating dem...</td>\n",
       "      <td>https://www.linkedin.com/feed/update/urn:li:ac...</td>\n",
       "      <td>7110193713418514432</td>\n",
       "      <td>1yr •</td>\n",
       "      <td>None</td>\n",
       "      <td>NaT</td>\n",
       "    </tr>\n",
       "    <tr>\n",
       "      <th>797</th>\n",
       "      <td>Liam Brannigan</td>\n",
       "      <td>Polars Training | O'Reilly</td>\n",
       "      <td>603401624</td>\n",
       "      <td>Streaming mode in Polars lets you work with la...</td>\n",
       "      <td>https://www.linkedin.com/feed/update/urn:li:ac...</td>\n",
       "      <td>7109839031617630209</td>\n",
       "      <td>1yr •</td>\n",
       "      <td>None</td>\n",
       "      <td>NaT</td>\n",
       "    </tr>\n",
       "    <tr>\n",
       "      <th>798</th>\n",
       "      <td>Marco Gorelli</td>\n",
       "      <td>pandas, Polars, Narwhals | Senior Software Eng...</td>\n",
       "      <td>825876736</td>\n",
       "      <td>🏮 Utilities for Polars ternary expressions hav...</td>\n",
       "      <td>https://www.linkedin.com/feed/update/urn:li:ac...</td>\n",
       "      <td>7109847293142396929</td>\n",
       "      <td>1yr •</td>\n",
       "      <td>None</td>\n",
       "      <td>NaT</td>\n",
       "    </tr>\n",
       "    <tr>\n",
       "      <th>799</th>\n",
       "      <td>Daniel Hoyos</td>\n",
       "      <td>Machine Learning Engineer @ Canals.ai | AI, ML...</td>\n",
       "      <td>363804903</td>\n",
       "      <td>Amazing!</td>\n",
       "      <td>https://www.linkedin.com/feed/update/urn:li:ac...</td>\n",
       "      <td>7110086271355547648</td>\n",
       "      <td>Reposted from Philipp Schmid • 1yr •</td>\n",
       "      <td>None</td>\n",
       "      <td>NaT</td>\n",
       "    </tr>\n",
       "  </tbody>\n",
       "</table>\n",
       "<p>800 rows × 9 columns</p>\n",
       "</div>"
      ],
      "text/plain": [
       "                author                                   author_catchline  \\\n",
       "0    Marie Stephen Leo  I help Data enthusiasts learn about AI, DS, DE...   \n",
       "1       Ansgar Wolsing  Director Data & Analytics @ Kaiser X Labs | Da...   \n",
       "2      Sarthak Rastogi  AI engineer building agents | Experienced in L...   \n",
       "3           Daniel Lee  Data/AI Jobs with Datainterview.com 🚀 | AI Con...   \n",
       "4             Dat Tran  VP of AI/ML at Beams Safety AI 🤖 | Advisor, In...   \n",
       "..                 ...                                                ...   \n",
       "795      Marco Gorelli  pandas, Polars, Narwhals | Senior Software Eng...   \n",
       "796       Harry Powell  Data science leader with track record of innov...   \n",
       "797     Liam Brannigan                         Polars Training | O'Reilly   \n",
       "798      Marco Gorelli  pandas, Polars, Narwhals | Senior Software Eng...   \n",
       "799       Daniel Hoyos  Machine Learning Engineer @ Canals.ai | AI, ML...   \n",
       "\n",
       "    author_member_id                                       post_summary  \\\n",
       "0           69170718  LLM Structured Output Benchmarks: Find the bes...   \n",
       "1          602321657  Did you know you can export a ggplot2 chart as...   \n",
       "2          715062628  Apple’s new Superposition Prompting method imp...   \n",
       "3          447871011  How do you become a 𝗙𝘂𝗹𝗹𝘀𝘁𝗮𝗰𝗸 𝗗𝗮𝘁𝗮 𝗦𝗰𝗶𝗲𝗻𝘁𝗶𝘀𝘁 o...   \n",
       "4           71711730  One of my favorite integration for tqdm - the ...   \n",
       "..               ...                                                ...   \n",
       "795        825876736  🛑 Don't collect-block yourself!\\n\\n⚡ The Polar...   \n",
       "796        167072583  Here's an explainer video about estimating dem...   \n",
       "797        603401624  Streaming mode in Polars lets you work with la...   \n",
       "798        825876736  🏮 Utilities for Polars ternary expressions hav...   \n",
       "799        363804903                                           Amazing!   \n",
       "\n",
       "                                              post_url     post_activity_id  \\\n",
       "0    https://www.linkedin.com/feed/update/urn:li:ac...  7235088849331183616   \n",
       "1    https://www.linkedin.com/feed/update/urn:li:ac...  7234956777983782912   \n",
       "2    https://www.linkedin.com/feed/update/urn:li:ac...  7234892590578311168   \n",
       "3    https://www.linkedin.com/feed/update/urn:li:ac...  7233488313716805632   \n",
       "4    https://www.linkedin.com/feed/update/urn:li:ac...  7234809803888320512   \n",
       "..                                                 ...                  ...   \n",
       "795  https://www.linkedin.com/feed/update/urn:li:ac...  7111725378674507776   \n",
       "796  https://www.linkedin.com/feed/update/urn:li:ac...  7110193713418514432   \n",
       "797  https://www.linkedin.com/feed/update/urn:li:ac...  7109839031617630209   \n",
       "798  https://www.linkedin.com/feed/update/urn:li:ac...  7109847293142396929   \n",
       "799  https://www.linkedin.com/feed/update/urn:li:ac...  7110086271355547648   \n",
       "\n",
       "                              post_date_lkd post_date_extract  \\\n",
       "0                                   11h •                 11h   \n",
       "1                                   20h •                 20h   \n",
       "2                                    1d •                  1d   \n",
       "3                                    4d •                  4d   \n",
       "4                                    1d •                  1d   \n",
       "..                                      ...               ...   \n",
       "795                                 1yr •                None   \n",
       "796                                 1yr •                None   \n",
       "797                                 1yr •                None   \n",
       "798                                 1yr •                None   \n",
       "799  Reposted from Philipp Schmid • 1yr •                None   \n",
       "\n",
       "           post_date_formatted  \n",
       "0   2024-08-30 09:24:53.447237  \n",
       "1   2024-08-30 00:24:53.447268  \n",
       "2   2024-08-29 20:24:53.447276  \n",
       "3   2024-08-26 20:24:53.447281  \n",
       "4   2024-08-29 20:24:53.447286  \n",
       "..                         ...  \n",
       "795                        NaT  \n",
       "796                        NaT  \n",
       "797                        NaT  \n",
       "798                        NaT  \n",
       "799                        NaT  \n",
       "\n",
       "[800 rows x 9 columns]"
      ]
     },
     "execution_count": 146,
     "metadata": {},
     "output_type": "execute_result"
    }
   ],
   "source": [
    "import pandas as pd\n",
    "\n",
    "df_bookmarks = pd.DataFrame(of_10)\n",
    "df_bookmarks\n",
    "#print(df_bookmarks[\"post_summary\"][0])"
   ]
  },
  {
   "cell_type": "code",
   "execution_count": 148,
   "metadata": {},
   "outputs": [],
   "source": [
    "df_bookmarks.to_csv(\"df_bookmarks_800.csv\", index=False)"
   ]
  },
  {
   "cell_type": "code",
   "execution_count": 80,
   "metadata": {},
   "outputs": [
    {
     "data": {
      "text/plain": [
       "'urn:li:activity:7235088849331183616'"
      ]
     },
     "execution_count": 80,
     "metadata": {},
     "output_type": "execute_result"
    }
   ],
   "source": [
    "post_list[0][\"item\"][\"entityResult\"][\"trackingUrn\"].split(\":\")[-1]"
   ]
  },
  {
   "cell_type": "code",
   "execution_count": 82,
   "metadata": {},
   "outputs": [
    {
     "data": {
      "text/plain": [
       "'urn:li:member:69170718'"
      ]
     },
     "execution_count": 82,
     "metadata": {},
     "output_type": "execute_result"
    }
   ],
   "source": [
    "post_list[0][\"item\"][\"entityResult\"][\"actorTrackingUrn\"]"
   ]
  }
 ],
 "metadata": {
  "kernelspec": {
   "display_name": ".venv",
   "language": "python",
   "name": "python3"
  },
  "language_info": {
   "codemirror_mode": {
    "name": "ipython",
    "version": 3
   },
   "file_extension": ".py",
   "mimetype": "text/x-python",
   "name": "python",
   "nbconvert_exporter": "python",
   "pygments_lexer": "ipython3",
   "version": "3.11.9"
  }
 },
 "nbformat": 4,
 "nbformat_minor": 2
}
